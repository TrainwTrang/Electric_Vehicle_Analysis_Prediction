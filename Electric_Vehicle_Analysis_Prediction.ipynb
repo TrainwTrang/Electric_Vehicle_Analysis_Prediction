{
 "cells": [
  {
   "cell_type": "markdown",
   "id": "a46750d1-692f-40b3-b60f-2107cd3c8290",
   "metadata": {},
   "source": [
    "# Electric Vehicle Analysis and Prediction"
   ]
  },
  {
   "cell_type": "markdown",
   "id": "c6929d69-0d5c-429b-9413-e8a8ffc837bb",
   "metadata": {},
   "source": [
    "![Electric Vehicles](electric_vehicles.jpg)"
   ]
  },
  {
   "cell_type": "code",
   "execution_count": 1,
   "id": "bbd03054-1152-4f7e-bc82-3c702e503c66",
   "metadata": {},
   "outputs": [],
   "source": [
    "import numpy as np\n",
    "import pandas as pd\n",
    "import matplotlib.pyplot as plt\n",
    "import seaborn as sns"
   ]
  },
  {
   "cell_type": "markdown",
   "id": "bfb5824d-e9c1-4ab4-b1ac-3936f7b59181",
   "metadata": {},
   "source": [
    "# 1. Preview Data"
   ]
  },
  {
   "cell_type": "markdown",
   "id": "8b4425a7-7911-4319-8faa-12a916ae0c9f",
   "metadata": {},
   "source": [
    "`Note`: Electric Vehicle (EV) Specifications 2025"
   ]
  },
  {
   "cell_type": "code",
   "execution_count": 2,
   "id": "09b68fdf-f056-4160-9845-a70dfa7f8333",
   "metadata": {},
   "outputs": [],
   "source": [
    "df = pd.read_csv('electric_vehicles_2025.csv')"
   ]
  },
  {
   "cell_type": "code",
   "execution_count": 3,
   "id": "66b5da1d-8af3-431d-adf3-e630c7ea278b",
   "metadata": {},
   "outputs": [
    {
     "data": {
      "text/plain": [
       "(478, 22)"
      ]
     },
     "execution_count": 3,
     "metadata": {},
     "output_type": "execute_result"
    }
   ],
   "source": [
    "df.shape"
   ]
  },
  {
   "cell_type": "code",
   "execution_count": 4,
   "id": "0bc09b8d-486b-4948-a45a-0b68a2d275d4",
   "metadata": {},
   "outputs": [
    {
     "data": {
      "text/plain": [
       "Index(['brand', 'model', 'top_speed_kmh', 'battery_capacity_kWh',\n",
       "       'battery_type', 'number_of_cells', 'torque_nm', 'efficiency_wh_per_km',\n",
       "       'range_km', 'acceleration_0_100_s', 'fast_charging_power_kw_dc',\n",
       "       'fast_charge_port', 'towing_capacity_kg', 'cargo_volume_l', 'seats',\n",
       "       'drivetrain', 'segment', 'length_mm', 'width_mm', 'height_mm',\n",
       "       'car_body_type', 'source_url'],\n",
       "      dtype='object')"
      ]
     },
     "execution_count": 4,
     "metadata": {},
     "output_type": "execute_result"
    }
   ],
   "source": [
    "df.columns"
   ]
  },
  {
   "cell_type": "markdown",
   "id": "0ff2cd35-3b58-4d18-9ada-ea5a28ed7c91",
   "metadata": {},
   "source": [
    "### Feature Descriptions (Column Explanations)\n",
    "|Column Name | Description |\n",
    "|-------------|---------------|\n",
    "| top_speed_kmh | Top speed of the vehicle in kilometres per hour -> performance capability |\n",
    "| battery_capability_kWh | Battery size in kilowatt-hours. Larger batteries -> longer range |\n",
    "| battery_type | Technology of the battery (e.g. Lithium-ion) -> charging, lifespan and energy density |\n",
    "| number_of_cells | Number of individual battery cells inside the battery pack -> battery capacity and layout |\n",
    "| torque_nm | Torque output in Newton-meters -> acceleration and towing capability |\n",
    "| efficiency_wh_per_km | Energy consumption in watt-hours per kilometer. Lower values = higher energy efficiency |\n",
    "| range_km | Maximum range the EV can travel on a full charge |\n",
    "| acceleration_0_100_s | Time (in seconds) the EV takes to accelerate from 0 to 100 km/h. Lower values = faster cars |\n",
    "| fast_charging_power_kw_dc | Maximum power (in kW) that the vehicle can receive when using a DC fast charger |\n",
    "| fast_charge_port | Type of fast charging port (e.g. CCS, CHAdeMO) -> compatibility with charging infrastructure |\n",
    "| towing_capacity_kg | Maximum weight (in kg) the vehicle can tow. Often missing in small EVs |\n",
    "|cargo_volumn_l | Available cargo space in liters -> practicality and storage |\n",
    "| seats | Number of passenger seats in the vehicle |\n",
    "| drivetrain | Drivetrain layout (e.g. FWD = Front-Wheel Drive, RWD = Rear, AWD = All-Wheel Drive) -> traction and handling\n",
    "| segment | Market segment classification (e.g. B - Compact, C - Medium SUV) |\n",
    "| length_mm | Vehicle length in milimeters |\n",
    "| width_mm | Vehicle width in milimeters |\n",
    "| height_mm | Vehicle height in milimeters |\n",
    "| car_body_type | Body configuration (e.g. SUV, Hatchback, Sedan, Coupe) = design and usability |\n"
   ]
  },
  {
   "cell_type": "code",
   "execution_count": 5,
   "id": "7aeaa16a-2560-40f0-be54-d25e7cb0dd7b",
   "metadata": {},
   "outputs": [
    {
     "name": "stdout",
     "output_type": "stream",
     "text": [
      "<class 'pandas.core.frame.DataFrame'>\n",
      "RangeIndex: 478 entries, 0 to 477\n",
      "Data columns (total 22 columns):\n",
      " #   Column                     Non-Null Count  Dtype  \n",
      "---  ------                     --------------  -----  \n",
      " 0   brand                      478 non-null    object \n",
      " 1   model                      477 non-null    object \n",
      " 2   top_speed_kmh              478 non-null    int64  \n",
      " 3   battery_capacity_kWh       478 non-null    float64\n",
      " 4   battery_type               478 non-null    object \n",
      " 5   number_of_cells            276 non-null    float64\n",
      " 6   torque_nm                  471 non-null    float64\n",
      " 7   efficiency_wh_per_km       478 non-null    int64  \n",
      " 8   range_km                   478 non-null    int64  \n",
      " 9   acceleration_0_100_s       478 non-null    float64\n",
      " 10  fast_charging_power_kw_dc  477 non-null    float64\n",
      " 11  fast_charge_port           477 non-null    object \n",
      " 12  towing_capacity_kg         452 non-null    float64\n",
      " 13  cargo_volume_l             477 non-null    object \n",
      " 14  seats                      478 non-null    int64  \n",
      " 15  drivetrain                 478 non-null    object \n",
      " 16  segment                    478 non-null    object \n",
      " 17  length_mm                  478 non-null    int64  \n",
      " 18  width_mm                   478 non-null    int64  \n",
      " 19  height_mm                  478 non-null    int64  \n",
      " 20  car_body_type              478 non-null    object \n",
      " 21  source_url                 478 non-null    object \n",
      "dtypes: float64(6), int64(7), object(9)\n",
      "memory usage: 82.3+ KB\n"
     ]
    }
   ],
   "source": [
    "df.info()"
   ]
  },
  {
   "cell_type": "code",
   "execution_count": 6,
   "id": "a12f6409-4fa4-436a-9b73-9aeb0bcac6b4",
   "metadata": {
    "scrolled": true
   },
   "outputs": [
    {
     "data": {
      "text/plain": [
       "brand                          0\n",
       "model                          1\n",
       "top_speed_kmh                  0\n",
       "battery_capacity_kWh           0\n",
       "battery_type                   0\n",
       "number_of_cells              202\n",
       "torque_nm                      7\n",
       "efficiency_wh_per_km           0\n",
       "range_km                       0\n",
       "acceleration_0_100_s           0\n",
       "fast_charging_power_kw_dc      1\n",
       "fast_charge_port               1\n",
       "towing_capacity_kg            26\n",
       "cargo_volume_l                 1\n",
       "seats                          0\n",
       "drivetrain                     0\n",
       "segment                        0\n",
       "length_mm                      0\n",
       "width_mm                       0\n",
       "height_mm                      0\n",
       "car_body_type                  0\n",
       "source_url                     0\n",
       "dtype: int64"
      ]
     },
     "execution_count": 6,
     "metadata": {},
     "output_type": "execute_result"
    }
   ],
   "source": [
    "df.isnull().sum()"
   ]
  },
  {
   "cell_type": "code",
   "execution_count": 7,
   "id": "3c8a2fd6-82b7-40fc-b209-9bb24696d5bd",
   "metadata": {
    "scrolled": true
   },
   "outputs": [
    {
     "data": {
      "text/html": [
       "<div>\n",
       "<style scoped>\n",
       "    .dataframe tbody tr th:only-of-type {\n",
       "        vertical-align: middle;\n",
       "    }\n",
       "\n",
       "    .dataframe tbody tr th {\n",
       "        vertical-align: top;\n",
       "    }\n",
       "\n",
       "    .dataframe thead th {\n",
       "        text-align: right;\n",
       "    }\n",
       "</style>\n",
       "<table border=\"1\" class=\"dataframe\">\n",
       "  <thead>\n",
       "    <tr style=\"text-align: right;\">\n",
       "      <th></th>\n",
       "      <th>brand</th>\n",
       "      <th>model</th>\n",
       "      <th>top_speed_kmh</th>\n",
       "      <th>battery_capacity_kWh</th>\n",
       "      <th>battery_type</th>\n",
       "      <th>number_of_cells</th>\n",
       "      <th>torque_nm</th>\n",
       "      <th>efficiency_wh_per_km</th>\n",
       "      <th>range_km</th>\n",
       "      <th>acceleration_0_100_s</th>\n",
       "      <th>...</th>\n",
       "      <th>towing_capacity_kg</th>\n",
       "      <th>cargo_volume_l</th>\n",
       "      <th>seats</th>\n",
       "      <th>drivetrain</th>\n",
       "      <th>segment</th>\n",
       "      <th>length_mm</th>\n",
       "      <th>width_mm</th>\n",
       "      <th>height_mm</th>\n",
       "      <th>car_body_type</th>\n",
       "      <th>source_url</th>\n",
       "    </tr>\n",
       "  </thead>\n",
       "  <tbody>\n",
       "    <tr>\n",
       "      <th>0</th>\n",
       "      <td>Abarth</td>\n",
       "      <td>500e Convertible</td>\n",
       "      <td>155</td>\n",
       "      <td>37.8</td>\n",
       "      <td>Lithium-ion</td>\n",
       "      <td>192.0</td>\n",
       "      <td>235.0</td>\n",
       "      <td>156</td>\n",
       "      <td>225</td>\n",
       "      <td>7.0</td>\n",
       "      <td>...</td>\n",
       "      <td>0.0</td>\n",
       "      <td>185</td>\n",
       "      <td>4</td>\n",
       "      <td>FWD</td>\n",
       "      <td>B - Compact</td>\n",
       "      <td>3673</td>\n",
       "      <td>1683</td>\n",
       "      <td>1518</td>\n",
       "      <td>Hatchback</td>\n",
       "      <td>https://ev-database.org/car/1904/Abarth-500e-C...</td>\n",
       "    </tr>\n",
       "    <tr>\n",
       "      <th>1</th>\n",
       "      <td>Abarth</td>\n",
       "      <td>500e Hatchback</td>\n",
       "      <td>155</td>\n",
       "      <td>37.8</td>\n",
       "      <td>Lithium-ion</td>\n",
       "      <td>192.0</td>\n",
       "      <td>235.0</td>\n",
       "      <td>149</td>\n",
       "      <td>225</td>\n",
       "      <td>7.0</td>\n",
       "      <td>...</td>\n",
       "      <td>0.0</td>\n",
       "      <td>185</td>\n",
       "      <td>4</td>\n",
       "      <td>FWD</td>\n",
       "      <td>B - Compact</td>\n",
       "      <td>3673</td>\n",
       "      <td>1683</td>\n",
       "      <td>1518</td>\n",
       "      <td>Hatchback</td>\n",
       "      <td>https://ev-database.org/car/1903/Abarth-500e-H...</td>\n",
       "    </tr>\n",
       "    <tr>\n",
       "      <th>2</th>\n",
       "      <td>Abarth</td>\n",
       "      <td>600e Scorpionissima</td>\n",
       "      <td>200</td>\n",
       "      <td>50.8</td>\n",
       "      <td>Lithium-ion</td>\n",
       "      <td>102.0</td>\n",
       "      <td>345.0</td>\n",
       "      <td>158</td>\n",
       "      <td>280</td>\n",
       "      <td>5.9</td>\n",
       "      <td>...</td>\n",
       "      <td>0.0</td>\n",
       "      <td>360</td>\n",
       "      <td>5</td>\n",
       "      <td>FWD</td>\n",
       "      <td>JB - Compact</td>\n",
       "      <td>4187</td>\n",
       "      <td>1779</td>\n",
       "      <td>1557</td>\n",
       "      <td>SUV</td>\n",
       "      <td>https://ev-database.org/car/3057/Abarth-600e-S...</td>\n",
       "    </tr>\n",
       "    <tr>\n",
       "      <th>3</th>\n",
       "      <td>Abarth</td>\n",
       "      <td>600e Turismo</td>\n",
       "      <td>200</td>\n",
       "      <td>50.8</td>\n",
       "      <td>Lithium-ion</td>\n",
       "      <td>102.0</td>\n",
       "      <td>345.0</td>\n",
       "      <td>158</td>\n",
       "      <td>280</td>\n",
       "      <td>6.2</td>\n",
       "      <td>...</td>\n",
       "      <td>0.0</td>\n",
       "      <td>360</td>\n",
       "      <td>5</td>\n",
       "      <td>FWD</td>\n",
       "      <td>JB - Compact</td>\n",
       "      <td>4187</td>\n",
       "      <td>1779</td>\n",
       "      <td>1557</td>\n",
       "      <td>SUV</td>\n",
       "      <td>https://ev-database.org/car/3056/Abarth-600e-T...</td>\n",
       "    </tr>\n",
       "    <tr>\n",
       "      <th>4</th>\n",
       "      <td>Aiways</td>\n",
       "      <td>U5</td>\n",
       "      <td>150</td>\n",
       "      <td>60.0</td>\n",
       "      <td>Lithium-ion</td>\n",
       "      <td>NaN</td>\n",
       "      <td>310.0</td>\n",
       "      <td>156</td>\n",
       "      <td>315</td>\n",
       "      <td>7.5</td>\n",
       "      <td>...</td>\n",
       "      <td>NaN</td>\n",
       "      <td>496</td>\n",
       "      <td>5</td>\n",
       "      <td>FWD</td>\n",
       "      <td>JC - Medium</td>\n",
       "      <td>4680</td>\n",
       "      <td>1865</td>\n",
       "      <td>1700</td>\n",
       "      <td>SUV</td>\n",
       "      <td>https://ev-database.org/car/1678/Aiways-U5</td>\n",
       "    </tr>\n",
       "  </tbody>\n",
       "</table>\n",
       "<p>5 rows × 22 columns</p>\n",
       "</div>"
      ],
      "text/plain": [
       "    brand                model  top_speed_kmh  battery_capacity_kWh  \\\n",
       "0  Abarth     500e Convertible            155                  37.8   \n",
       "1  Abarth       500e Hatchback            155                  37.8   \n",
       "2  Abarth  600e Scorpionissima            200                  50.8   \n",
       "3  Abarth         600e Turismo            200                  50.8   \n",
       "4  Aiways                   U5            150                  60.0   \n",
       "\n",
       "  battery_type  number_of_cells  torque_nm  efficiency_wh_per_km  range_km  \\\n",
       "0  Lithium-ion            192.0      235.0                   156       225   \n",
       "1  Lithium-ion            192.0      235.0                   149       225   \n",
       "2  Lithium-ion            102.0      345.0                   158       280   \n",
       "3  Lithium-ion            102.0      345.0                   158       280   \n",
       "4  Lithium-ion              NaN      310.0                   156       315   \n",
       "\n",
       "   acceleration_0_100_s  ...  towing_capacity_kg cargo_volume_l  seats  \\\n",
       "0                   7.0  ...                 0.0            185      4   \n",
       "1                   7.0  ...                 0.0            185      4   \n",
       "2                   5.9  ...                 0.0            360      5   \n",
       "3                   6.2  ...                 0.0            360      5   \n",
       "4                   7.5  ...                 NaN            496      5   \n",
       "\n",
       "  drivetrain       segment length_mm width_mm  height_mm  car_body_type  \\\n",
       "0        FWD   B - Compact      3673     1683       1518      Hatchback   \n",
       "1        FWD   B - Compact      3673     1683       1518      Hatchback   \n",
       "2        FWD  JB - Compact      4187     1779       1557            SUV   \n",
       "3        FWD  JB - Compact      4187     1779       1557            SUV   \n",
       "4        FWD   JC - Medium      4680     1865       1700            SUV   \n",
       "\n",
       "                                          source_url  \n",
       "0  https://ev-database.org/car/1904/Abarth-500e-C...  \n",
       "1  https://ev-database.org/car/1903/Abarth-500e-H...  \n",
       "2  https://ev-database.org/car/3057/Abarth-600e-S...  \n",
       "3  https://ev-database.org/car/3056/Abarth-600e-T...  \n",
       "4         https://ev-database.org/car/1678/Aiways-U5  \n",
       "\n",
       "[5 rows x 22 columns]"
      ]
     },
     "execution_count": 7,
     "metadata": {},
     "output_type": "execute_result"
    }
   ],
   "source": [
    "df.head()"
   ]
  },
  {
   "cell_type": "code",
   "execution_count": 8,
   "id": "3d13e26e-594a-4f75-becd-10e54e51d0a5",
   "metadata": {
    "scrolled": true
   },
   "outputs": [
    {
     "data": {
      "text/plain": [
       "brand                         59\n",
       "model                        477\n",
       "top_speed_kmh                 38\n",
       "battery_capacity_kWh         121\n",
       "battery_type                   1\n",
       "number_of_cells               38\n",
       "torque_nm                    128\n",
       "efficiency_wh_per_km         112\n",
       "range_km                      88\n",
       "acceleration_0_100_s          97\n",
       "fast_charging_power_kw_dc     71\n",
       "fast_charge_port               2\n",
       "towing_capacity_kg            26\n",
       "cargo_volume_l               140\n",
       "seats                          7\n",
       "drivetrain                     3\n",
       "segment                       15\n",
       "length_mm                    172\n",
       "width_mm                     108\n",
       "height_mm                    162\n",
       "car_body_type                  8\n",
       "source_url                   478\n",
       "dtype: int64"
      ]
     },
     "execution_count": 8,
     "metadata": {},
     "output_type": "execute_result"
    }
   ],
   "source": [
    "df.nunique()"
   ]
  },
  {
   "cell_type": "code",
   "execution_count": 9,
   "id": "454c7efe-40d2-415b-8294-01207162eb29",
   "metadata": {},
   "outputs": [
    {
     "data": {
      "text/html": [
       "<div>\n",
       "<style scoped>\n",
       "    .dataframe tbody tr th:only-of-type {\n",
       "        vertical-align: middle;\n",
       "    }\n",
       "\n",
       "    .dataframe tbody tr th {\n",
       "        vertical-align: top;\n",
       "    }\n",
       "\n",
       "    .dataframe thead th {\n",
       "        text-align: right;\n",
       "    }\n",
       "</style>\n",
       "<table border=\"1\" class=\"dataframe\">\n",
       "  <thead>\n",
       "    <tr style=\"text-align: right;\">\n",
       "      <th></th>\n",
       "      <th>count</th>\n",
       "      <th>mean</th>\n",
       "      <th>std</th>\n",
       "      <th>min</th>\n",
       "      <th>25%</th>\n",
       "      <th>50%</th>\n",
       "      <th>75%</th>\n",
       "      <th>max</th>\n",
       "    </tr>\n",
       "  </thead>\n",
       "  <tbody>\n",
       "    <tr>\n",
       "      <th>top_speed_kmh</th>\n",
       "      <td>478.0</td>\n",
       "      <td>185.487448</td>\n",
       "      <td>34.252773</td>\n",
       "      <td>125.0</td>\n",
       "      <td>160.0</td>\n",
       "      <td>180.00</td>\n",
       "      <td>201.00</td>\n",
       "      <td>325.0</td>\n",
       "    </tr>\n",
       "    <tr>\n",
       "      <th>battery_capacity_kWh</th>\n",
       "      <td>478.0</td>\n",
       "      <td>74.043724</td>\n",
       "      <td>20.331058</td>\n",
       "      <td>21.3</td>\n",
       "      <td>60.0</td>\n",
       "      <td>76.15</td>\n",
       "      <td>90.60</td>\n",
       "      <td>118.0</td>\n",
       "    </tr>\n",
       "    <tr>\n",
       "      <th>number_of_cells</th>\n",
       "      <td>276.0</td>\n",
       "      <td>485.293478</td>\n",
       "      <td>1210.819733</td>\n",
       "      <td>72.0</td>\n",
       "      <td>150.0</td>\n",
       "      <td>216.00</td>\n",
       "      <td>324.00</td>\n",
       "      <td>7920.0</td>\n",
       "    </tr>\n",
       "    <tr>\n",
       "      <th>torque_nm</th>\n",
       "      <td>471.0</td>\n",
       "      <td>498.012739</td>\n",
       "      <td>241.461128</td>\n",
       "      <td>113.0</td>\n",
       "      <td>305.0</td>\n",
       "      <td>430.00</td>\n",
       "      <td>679.00</td>\n",
       "      <td>1350.0</td>\n",
       "    </tr>\n",
       "    <tr>\n",
       "      <th>efficiency_wh_per_km</th>\n",
       "      <td>478.0</td>\n",
       "      <td>162.903766</td>\n",
       "      <td>34.317532</td>\n",
       "      <td>109.0</td>\n",
       "      <td>143.0</td>\n",
       "      <td>155.00</td>\n",
       "      <td>177.75</td>\n",
       "      <td>370.0</td>\n",
       "    </tr>\n",
       "    <tr>\n",
       "      <th>range_km</th>\n",
       "      <td>478.0</td>\n",
       "      <td>393.179916</td>\n",
       "      <td>103.287335</td>\n",
       "      <td>135.0</td>\n",
       "      <td>320.0</td>\n",
       "      <td>397.50</td>\n",
       "      <td>470.00</td>\n",
       "      <td>685.0</td>\n",
       "    </tr>\n",
       "    <tr>\n",
       "      <th>acceleration_0_100_s</th>\n",
       "      <td>478.0</td>\n",
       "      <td>6.882636</td>\n",
       "      <td>2.730696</td>\n",
       "      <td>2.2</td>\n",
       "      <td>4.8</td>\n",
       "      <td>6.60</td>\n",
       "      <td>8.20</td>\n",
       "      <td>19.1</td>\n",
       "    </tr>\n",
       "    <tr>\n",
       "      <th>fast_charging_power_kw_dc</th>\n",
       "      <td>477.0</td>\n",
       "      <td>125.008386</td>\n",
       "      <td>58.205012</td>\n",
       "      <td>29.0</td>\n",
       "      <td>80.0</td>\n",
       "      <td>113.00</td>\n",
       "      <td>150.00</td>\n",
       "      <td>281.0</td>\n",
       "    </tr>\n",
       "    <tr>\n",
       "      <th>towing_capacity_kg</th>\n",
       "      <td>452.0</td>\n",
       "      <td>1052.261062</td>\n",
       "      <td>737.851774</td>\n",
       "      <td>0.0</td>\n",
       "      <td>500.0</td>\n",
       "      <td>1000.00</td>\n",
       "      <td>1600.00</td>\n",
       "      <td>2500.0</td>\n",
       "    </tr>\n",
       "    <tr>\n",
       "      <th>seats</th>\n",
       "      <td>478.0</td>\n",
       "      <td>5.263598</td>\n",
       "      <td>1.003961</td>\n",
       "      <td>2.0</td>\n",
       "      <td>5.0</td>\n",
       "      <td>5.00</td>\n",
       "      <td>5.00</td>\n",
       "      <td>9.0</td>\n",
       "    </tr>\n",
       "    <tr>\n",
       "      <th>length_mm</th>\n",
       "      <td>478.0</td>\n",
       "      <td>4678.506276</td>\n",
       "      <td>369.210573</td>\n",
       "      <td>3620.0</td>\n",
       "      <td>4440.0</td>\n",
       "      <td>4720.00</td>\n",
       "      <td>4961.00</td>\n",
       "      <td>5908.0</td>\n",
       "    </tr>\n",
       "    <tr>\n",
       "      <th>width_mm</th>\n",
       "      <td>478.0</td>\n",
       "      <td>1887.359833</td>\n",
       "      <td>73.656807</td>\n",
       "      <td>1610.0</td>\n",
       "      <td>1849.0</td>\n",
       "      <td>1890.00</td>\n",
       "      <td>1939.00</td>\n",
       "      <td>2080.0</td>\n",
       "    </tr>\n",
       "    <tr>\n",
       "      <th>height_mm</th>\n",
       "      <td>478.0</td>\n",
       "      <td>1601.125523</td>\n",
       "      <td>130.754851</td>\n",
       "      <td>1329.0</td>\n",
       "      <td>1514.0</td>\n",
       "      <td>1596.00</td>\n",
       "      <td>1665.00</td>\n",
       "      <td>1986.0</td>\n",
       "    </tr>\n",
       "  </tbody>\n",
       "</table>\n",
       "</div>"
      ],
      "text/plain": [
       "                           count         mean          std     min     25%  \\\n",
       "top_speed_kmh              478.0   185.487448    34.252773   125.0   160.0   \n",
       "battery_capacity_kWh       478.0    74.043724    20.331058    21.3    60.0   \n",
       "number_of_cells            276.0   485.293478  1210.819733    72.0   150.0   \n",
       "torque_nm                  471.0   498.012739   241.461128   113.0   305.0   \n",
       "efficiency_wh_per_km       478.0   162.903766    34.317532   109.0   143.0   \n",
       "range_km                   478.0   393.179916   103.287335   135.0   320.0   \n",
       "acceleration_0_100_s       478.0     6.882636     2.730696     2.2     4.8   \n",
       "fast_charging_power_kw_dc  477.0   125.008386    58.205012    29.0    80.0   \n",
       "towing_capacity_kg         452.0  1052.261062   737.851774     0.0   500.0   \n",
       "seats                      478.0     5.263598     1.003961     2.0     5.0   \n",
       "length_mm                  478.0  4678.506276   369.210573  3620.0  4440.0   \n",
       "width_mm                   478.0  1887.359833    73.656807  1610.0  1849.0   \n",
       "height_mm                  478.0  1601.125523   130.754851  1329.0  1514.0   \n",
       "\n",
       "                               50%      75%     max  \n",
       "top_speed_kmh               180.00   201.00   325.0  \n",
       "battery_capacity_kWh         76.15    90.60   118.0  \n",
       "number_of_cells             216.00   324.00  7920.0  \n",
       "torque_nm                   430.00   679.00  1350.0  \n",
       "efficiency_wh_per_km        155.00   177.75   370.0  \n",
       "range_km                    397.50   470.00   685.0  \n",
       "acceleration_0_100_s          6.60     8.20    19.1  \n",
       "fast_charging_power_kw_dc   113.00   150.00   281.0  \n",
       "towing_capacity_kg         1000.00  1600.00  2500.0  \n",
       "seats                         5.00     5.00     9.0  \n",
       "length_mm                  4720.00  4961.00  5908.0  \n",
       "width_mm                   1890.00  1939.00  2080.0  \n",
       "height_mm                  1596.00  1665.00  1986.0  "
      ]
     },
     "execution_count": 9,
     "metadata": {},
     "output_type": "execute_result"
    }
   ],
   "source": [
    "df.describe().T"
   ]
  },
  {
   "cell_type": "code",
   "execution_count": 10,
   "id": "a172028a-0406-474f-ab1e-c9544506230f",
   "metadata": {},
   "outputs": [
    {
     "data": {
      "text/html": [
       "<div>\n",
       "<style scoped>\n",
       "    .dataframe tbody tr th:only-of-type {\n",
       "        vertical-align: middle;\n",
       "    }\n",
       "\n",
       "    .dataframe tbody tr th {\n",
       "        vertical-align: top;\n",
       "    }\n",
       "\n",
       "    .dataframe thead th {\n",
       "        text-align: right;\n",
       "    }\n",
       "</style>\n",
       "<table border=\"1\" class=\"dataframe\">\n",
       "  <thead>\n",
       "    <tr style=\"text-align: right;\">\n",
       "      <th></th>\n",
       "      <th>count</th>\n",
       "      <th>unique</th>\n",
       "      <th>top</th>\n",
       "      <th>freq</th>\n",
       "    </tr>\n",
       "  </thead>\n",
       "  <tbody>\n",
       "    <tr>\n",
       "      <th>brand</th>\n",
       "      <td>478</td>\n",
       "      <td>59</td>\n",
       "      <td>Mercedes-Benz</td>\n",
       "      <td>42</td>\n",
       "    </tr>\n",
       "    <tr>\n",
       "      <th>model</th>\n",
       "      <td>477</td>\n",
       "      <td>477</td>\n",
       "      <td>500e Convertible</td>\n",
       "      <td>1</td>\n",
       "    </tr>\n",
       "    <tr>\n",
       "      <th>battery_type</th>\n",
       "      <td>478</td>\n",
       "      <td>1</td>\n",
       "      <td>Lithium-ion</td>\n",
       "      <td>478</td>\n",
       "    </tr>\n",
       "    <tr>\n",
       "      <th>fast_charge_port</th>\n",
       "      <td>477</td>\n",
       "      <td>2</td>\n",
       "      <td>CCS</td>\n",
       "      <td>476</td>\n",
       "    </tr>\n",
       "    <tr>\n",
       "      <th>cargo_volume_l</th>\n",
       "      <td>477</td>\n",
       "      <td>140</td>\n",
       "      <td>520</td>\n",
       "      <td>17</td>\n",
       "    </tr>\n",
       "    <tr>\n",
       "      <th>drivetrain</th>\n",
       "      <td>478</td>\n",
       "      <td>3</td>\n",
       "      <td>AWD</td>\n",
       "      <td>191</td>\n",
       "    </tr>\n",
       "    <tr>\n",
       "      <th>segment</th>\n",
       "      <td>478</td>\n",
       "      <td>15</td>\n",
       "      <td>JC - Medium</td>\n",
       "      <td>91</td>\n",
       "    </tr>\n",
       "    <tr>\n",
       "      <th>car_body_type</th>\n",
       "      <td>478</td>\n",
       "      <td>8</td>\n",
       "      <td>SUV</td>\n",
       "      <td>244</td>\n",
       "    </tr>\n",
       "    <tr>\n",
       "      <th>source_url</th>\n",
       "      <td>478</td>\n",
       "      <td>478</td>\n",
       "      <td>https://ev-database.org/car/1904/Abarth-500e-C...</td>\n",
       "      <td>1</td>\n",
       "    </tr>\n",
       "  </tbody>\n",
       "</table>\n",
       "</div>"
      ],
      "text/plain": [
       "                 count unique  \\\n",
       "brand              478     59   \n",
       "model              477    477   \n",
       "battery_type       478      1   \n",
       "fast_charge_port   477      2   \n",
       "cargo_volume_l     477    140   \n",
       "drivetrain         478      3   \n",
       "segment            478     15   \n",
       "car_body_type      478      8   \n",
       "source_url         478    478   \n",
       "\n",
       "                                                                top freq  \n",
       "brand                                                 Mercedes-Benz   42  \n",
       "model                                              500e Convertible    1  \n",
       "battery_type                                            Lithium-ion  478  \n",
       "fast_charge_port                                                CCS  476  \n",
       "cargo_volume_l                                                  520   17  \n",
       "drivetrain                                                      AWD  191  \n",
       "segment                                                 JC - Medium   91  \n",
       "car_body_type                                                   SUV  244  \n",
       "source_url        https://ev-database.org/car/1904/Abarth-500e-C...    1  "
      ]
     },
     "execution_count": 10,
     "metadata": {},
     "output_type": "execute_result"
    }
   ],
   "source": [
    "df.describe(include='object').T"
   ]
  },
  {
   "cell_type": "markdown",
   "id": "442ab028-6a58-4394-bd05-58699c3094b5",
   "metadata": {},
   "source": [
    "# 2. Exploratory Data Analysis"
   ]
  },
  {
   "cell_type": "markdown",
   "id": "c62902b1-f83a-48aa-95fa-99e835ae441b",
   "metadata": {},
   "source": [
    "## Preprocessing data"
   ]
  },
  {
   "cell_type": "code",
   "execution_count": 11,
   "id": "62861fb1-7090-4303-aff4-b04471cf9513",
   "metadata": {},
   "outputs": [
    {
     "data": {
      "text/plain": [
       "array(['185', '360', '496', '472', '400', '326', '502', '520', '535',\n",
       "       '526', '511', '10 Banana Boxes', '514', '350', '405', '470', '490',\n",
       "       '570', '500', '525', '440', '345', '308', '552', '235', '385',\n",
       "       '540', '793', '775', '1050', '310', '460', '380', '510', '603',\n",
       "       '989', '390', '620', '467', '361', '572', '536', '519', '523', nan,\n",
       "       '672', '228', '333', '354', '432', '503', '438', '280', '480',\n",
       "       '401', '338', '466', '505', '355', '550', '839', '435', '475',\n",
       "       '309', '210', '522', '316', '611', '509', '456', '410', '249',\n",
       "       '363', '479', '453', '448', '151', '270', '31 Banana Boxes', '340',\n",
       "       '495', '430', '645', '13 Banana Boxes', '828', '551', '1410',\n",
       "       '1030', '555', '1390', '990', '300', '200', '579', '265', '386',\n",
       "       '450', '468', '415', '819', '352', '516', '267', '434', '588',\n",
       "       '412', '608', '471', '348', '407', '484', '446', '366', '367',\n",
       "       '420', '950', '545', '585', '313', '323', '370', '630', '441',\n",
       "       '594', '709', '425', '854', '452', '376', '1340', '1121', '543',\n",
       "       '549', '532', '605', '404', '318', '571', '660', '539', '362'],\n",
       "      dtype=object)"
      ]
     },
     "execution_count": 11,
     "metadata": {},
     "output_type": "execute_result"
    }
   ],
   "source": [
    "df['cargo_volume_l'].unique()\n"
   ]
  },
  {
   "cell_type": "code",
   "execution_count": 12,
   "id": "e0c6042c-5b01-40c2-93cd-b9854f971bca",
   "metadata": {},
   "outputs": [],
   "source": [
    "#convert 'cargo_volume_l' to numeric \n",
    "def convert_cargo_volume(value):\n",
    "    try:\n",
    "        s = str(value)\n",
    "        if 'Banana' in s:\n",
    "            return int(s.split(' Banana')[0]) * 42 # 01 banana box = 42l\n",
    "        else: \n",
    "            return int(s)\n",
    "    except (ValueError, TypeError):\n",
    "        return np.nan\n",
    "\n",
    "df['cargo_volume_corrected'] = df['cargo_volume_l'].apply(lambda x: convert_cargo_volume(x))\n"
   ]
  },
  {
   "cell_type": "code",
   "execution_count": 13,
   "id": "db0be358-c5ef-41f1-92a3-1489b748a904",
   "metadata": {},
   "outputs": [
    {
     "data": {
      "text/plain": [
       "array([ 185.,  360.,  496.,  472.,  400.,  326.,  502.,  520.,  535.,\n",
       "        526.,  511.,  420.,  514.,  350.,  405.,  470.,  490.,  570.,\n",
       "        500.,  525.,  440.,  345.,  308.,  552.,  235.,  385.,  540.,\n",
       "        793.,  775., 1050.,  310.,  460.,  380.,  510.,  603.,  989.,\n",
       "        390.,  620.,  467.,  361.,  572.,  536.,  519.,  523.,   nan,\n",
       "        672.,  228.,  333.,  354.,  432.,  503.,  438.,  280.,  480.,\n",
       "        401.,  338.,  466.,  505.,  355.,  550.,  839.,  435.,  475.,\n",
       "        309.,  210.,  522.,  316.,  611.,  509.,  456.,  410.,  249.,\n",
       "        363.,  479.,  453.,  448.,  151.,  270., 1302.,  340.,  495.,\n",
       "        430.,  645.,  546.,  828.,  551., 1410., 1030.,  555., 1390.,\n",
       "        990.,  300.,  200.,  579.,  265.,  386.,  450.,  468.,  415.,\n",
       "        819.,  352.,  516.,  267.,  434.,  588.,  412.,  608.,  471.,\n",
       "        348.,  407.,  484.,  446.,  366.,  367.,  950.,  545.,  585.,\n",
       "        313.,  323.,  370.,  630.,  441.,  594.,  709.,  425.,  854.,\n",
       "        452.,  376., 1340., 1121.,  543.,  549.,  532.,  605.,  404.,\n",
       "        318.,  571.,  660.,  539.,  362.])"
      ]
     },
     "execution_count": 13,
     "metadata": {},
     "output_type": "execute_result"
    }
   ],
   "source": [
    "df['cargo_volume_corrected'].unique()"
   ]
  },
  {
   "cell_type": "code",
   "execution_count": 14,
   "id": "28ece505-31fb-4c1f-9574-6d29c36a645d",
   "metadata": {},
   "outputs": [
    {
     "data": {
      "text/plain": [
       "array(['B - Compact', 'JB - Compact', 'JC - Medium', 'JE - Executive',\n",
       "       'JD - Large', 'F - Luxury', 'D - Large', 'E - Executive',\n",
       "       'C - Medium', 'JF - Luxury', 'N - Passenger Van', 'A - Mini',\n",
       "       'JA - Mini', 'G - Sports', 'I - Luxury'], dtype=object)"
      ]
     },
     "execution_count": 14,
     "metadata": {},
     "output_type": "execute_result"
    }
   ],
   "source": [
    "df['segment'].unique()"
   ]
  },
  {
   "cell_type": "code",
   "execution_count": 15,
   "id": "a745e7e5-770b-47a1-8ad2-7f10d70ca7b4",
   "metadata": {},
   "outputs": [
    {
     "data": {
      "text/plain": [
       "segment_group\n",
       "Medium           125\n",
       "Large             86\n",
       "Luxury            82\n",
       "Compact           73\n",
       "Executive         58\n",
       "Passenger Van     47\n",
       "Mini               5\n",
       "Sports             2\n",
       "Name: count, dtype: int64"
      ]
     },
     "execution_count": 15,
     "metadata": {},
     "output_type": "execute_result"
    }
   ],
   "source": [
    "#Group the 'segment' variables\n",
    "df['segment_group'] = df['segment'].apply(\n",
    "    lambda x: str(x).split(' - ')[1] if ' - ' in str(x) else np.nan\n",
    ")\n",
    "\n",
    "df['segment_group'].value_counts(dropna=False)"
   ]
  },
  {
   "cell_type": "code",
   "execution_count": 16,
   "id": "3aeec0d0-ab09-4fa9-9c06-9cee2cb04179",
   "metadata": {},
   "outputs": [],
   "source": [
    "num_cols = [\n",
    "    'top_speed_kmh',\n",
    "    'battery_capacity_kWh',\n",
    "    'number_of_cells',\n",
    "    'torque_nm',\n",
    "    'efficiency_wh_per_km',\n",
    "    'range_km',\n",
    "    'acceleration_0_100_s',\n",
    "    'fast_charging_power_kw_dc',\n",
    "    'towing_capacity_kg',\n",
    "    'cargo_volume_corrected',\n",
    "    'seats',\n",
    "    'length_mm',\n",
    "    'width_mm',\n",
    "    'height_mm'    \n",
    "]\n",
    "cat_cols = [\n",
    "    'brand',\n",
    "    'model',\n",
    "    'fast_charge_port',\n",
    "    'drivetrain',\n",
    "    'segment_group',\n",
    "    'car_body_type'\n",
    "]"
   ]
  },
  {
   "cell_type": "code",
   "execution_count": 17,
   "id": "38c77be1-0f03-4add-8559-9be72de7d7bd",
   "metadata": {},
   "outputs": [],
   "source": [
    "#Fill numeric columns with their mean values\n",
    "df[num_cols] = df[num_cols].apply(lambda col: col.fillna(col.mean())).round(0)\n",
    "\n",
    "#fill categorical columns with 'Unknown'\n",
    "df[cat_cols] = df[cat_cols].fillna('Unknown')"
   ]
  },
  {
   "cell_type": "code",
   "execution_count": 18,
   "id": "3fa59d69-9de7-4420-9bde-76d495b16c3a",
   "metadata": {},
   "outputs": [
    {
     "data": {
      "text/plain": [
       "brand                        0\n",
       "model                        0\n",
       "top_speed_kmh                0\n",
       "battery_capacity_kWh         0\n",
       "number_of_cells              0\n",
       "torque_nm                    0\n",
       "efficiency_wh_per_km         0\n",
       "range_km                     0\n",
       "acceleration_0_100_s         0\n",
       "fast_charging_power_kw_dc    0\n",
       "fast_charge_port             0\n",
       "towing_capacity_kg           0\n",
       "seats                        0\n",
       "drivetrain                   0\n",
       "length_mm                    0\n",
       "width_mm                     0\n",
       "height_mm                    0\n",
       "car_body_type                0\n",
       "cargo_volume_corrected       0\n",
       "segment_group                0\n",
       "dtype: int64"
      ]
     },
     "execution_count": 18,
     "metadata": {},
     "output_type": "execute_result"
    }
   ],
   "source": [
    "data = df.drop(['cargo_volume_l','segment','battery_type', 'source_url'], axis=1)\n",
    "data.isnull().sum()"
   ]
  },
  {
   "cell_type": "markdown",
   "id": "d60a22be-362e-4668-82ed-4dcb2016db88",
   "metadata": {},
   "source": [
    "## Visualizing top brands by unique models"
   ]
  },
  {
   "cell_type": "code",
   "execution_count": 19,
   "id": "cf339832-d6de-493e-8603-9654451ddbdf",
   "metadata": {},
   "outputs": [
    {
     "name": "stdout",
     "output_type": "stream",
     "text": [
      "car_body_type  Cabriolet  Coupe  Hatchback  Liftback Sedan    SUV  Sedan  \\\n",
      "brand                                                                      \n",
      "Abarth               NaN    NaN        2.0             NaN    2.0    NaN   \n",
      "Aiways               NaN    NaN        NaN             NaN    2.0    NaN   \n",
      "Alfa                 NaN    NaN        NaN             NaN    2.0    NaN   \n",
      "Alpine               NaN    NaN        2.0             NaN    NaN    NaN   \n",
      "Audi                 NaN    NaN        NaN             4.0   16.0    4.0   \n",
      "BMW                  NaN    NaN        NaN             4.0    7.0    6.0   \n",
      "BYD                  NaN    NaN        6.0             NaN    8.0    3.0   \n",
      "CUPRA                NaN    NaN        3.0             NaN    2.0    NaN   \n",
      "Cadillac             NaN    NaN        NaN             NaN    1.0    NaN   \n",
      "Citroen              NaN    NaN        3.0             NaN    1.0    2.0   \n",
      "DS                   NaN    NaN        1.0             NaN    4.0    NaN   \n",
      "Dacia                NaN    NaN        2.0             NaN    NaN    NaN   \n",
      "Dongfeng             NaN    NaN        2.0             NaN    NaN    NaN   \n",
      "Elaris               NaN    NaN        NaN             NaN    1.0    NaN   \n",
      "Fiat                 2.0    NaN        5.0             NaN    1.0    NaN   \n",
      "Ford                 NaN    NaN        NaN             3.0   14.0    NaN   \n",
      "GWM                  NaN    NaN        3.0             NaN    NaN    3.0   \n",
      "Genesis              NaN    NaN        NaN             NaN    4.0    1.0   \n",
      "Honda                NaN    NaN        NaN             NaN    1.0    NaN   \n",
      "Hongqi               NaN    NaN        NaN             NaN    3.0    NaN   \n",
      "Hyundai              NaN    NaN        NaN             NaN   11.0    3.0   \n",
      "Jaguar               NaN    NaN        NaN             NaN    1.0    NaN   \n",
      "Jeep                 NaN    NaN        NaN             NaN    2.0    NaN   \n",
      "KGM                  NaN    NaN        NaN             NaN    1.0    NaN   \n",
      "Kia                  NaN    NaN        2.0             NaN   12.0    2.0   \n",
      "Lancia               NaN    NaN        1.0             NaN    NaN    NaN   \n",
      "Leapmotor            NaN    NaN        1.0             NaN    1.0    NaN   \n",
      "Lexus                NaN    NaN        NaN             NaN    3.0    NaN   \n",
      "Lotus                NaN    NaN        NaN             3.0    3.0    NaN   \n",
      "Lucid                NaN    NaN        NaN             NaN    NaN    3.0   \n",
      "Lynk&Co              NaN    NaN        NaN             NaN    1.0    NaN   \n",
      "MG                   2.0    NaN        4.0             NaN    4.0    NaN   \n",
      "Maserati             1.0    1.0        NaN             NaN    1.0    NaN   \n",
      "Maxus                NaN    NaN        NaN             NaN    NaN    NaN   \n",
      "Mazda                NaN    NaN        NaN             2.0    NaN    NaN   \n",
      "Mercedes-Benz        NaN    NaN        NaN             NaN   19.0   14.0   \n",
      "Mini                 NaN    NaN        3.0             NaN    5.0    NaN   \n",
      "NIO                  NaN    NaN        NaN             NaN    6.0    4.0   \n",
      "Nissan               NaN    NaN        NaN             NaN    4.0    NaN   \n",
      "Omoda                NaN    NaN        NaN             NaN    1.0    NaN   \n",
      "Opel                 NaN    NaN        3.0             NaN    4.0    NaN   \n",
      "Peugeot              NaN    NaN        3.0             NaN    9.0    NaN   \n",
      "Polestar             NaN    NaN        NaN             6.0    3.0    NaN   \n",
      "Porsche              NaN    NaN        NaN             NaN    4.0   11.0   \n",
      "Renault              NaN    NaN        5.0             NaN    4.0    NaN   \n",
      "Rolls-Royce          NaN    1.0        NaN             NaN    NaN    NaN   \n",
      "Skoda                NaN    NaN        NaN             NaN   12.0    NaN   \n",
      "Skywell              NaN    NaN        NaN             NaN    2.0    NaN   \n",
      "Smart                NaN    NaN        NaN             NaN   17.0    NaN   \n",
      "Subaru               NaN    NaN        NaN             NaN    1.0    NaN   \n",
      "Tesla                NaN    NaN        NaN             2.0    5.0    4.0   \n",
      "Toyota               NaN    NaN        NaN             NaN    2.0    NaN   \n",
      "VinFast              NaN    NaN        NaN             NaN    2.0    NaN   \n",
      "Volkswagen           NaN    NaN        5.0             3.0    7.0    NaN   \n",
      "Volvo                NaN    NaN        NaN             3.0   15.0    NaN   \n",
      "Voyah                NaN    NaN        NaN             NaN    1.0    NaN   \n",
      "XPENG                NaN    NaN        NaN             NaN    6.0    3.0   \n",
      "Zeekr                NaN    NaN        NaN             3.0    6.0    NaN   \n",
      "firefly              NaN    NaN        1.0             NaN    NaN    NaN   \n",
      "Total                5.0    2.0       57.0            33.0  244.0   63.0   \n",
      "\n",
      "car_body_type  Small Passenger Van  Station/Estate  Total  \n",
      "brand                                                      \n",
      "Abarth                         NaN             NaN    4.0  \n",
      "Aiways                         NaN             NaN    2.0  \n",
      "Alfa                           NaN             NaN    2.0  \n",
      "Alpine                         NaN             NaN    2.0  \n",
      "Audi                           NaN             4.0   28.0  \n",
      "BMW                            NaN             3.0   20.0  \n",
      "BYD                            NaN             NaN   17.0  \n",
      "CUPRA                          NaN             NaN    5.0  \n",
      "Cadillac                       NaN             NaN    1.0  \n",
      "Citroen                        6.0             NaN   12.0  \n",
      "DS                             NaN             NaN    5.0  \n",
      "Dacia                          NaN             NaN    2.0  \n",
      "Dongfeng                       NaN             NaN    2.0  \n",
      "Elaris                         NaN             NaN    1.0  \n",
      "Fiat                           NaN             NaN    8.0  \n",
      "Ford                           5.0             NaN   22.0  \n",
      "GWM                            NaN             NaN    6.0  \n",
      "Genesis                        NaN             NaN    5.0  \n",
      "Honda                          NaN             NaN    1.0  \n",
      "Hongqi                         NaN             NaN    3.0  \n",
      "Hyundai                        NaN             NaN   14.0  \n",
      "Jaguar                         NaN             NaN    1.0  \n",
      "Jeep                           NaN             NaN    2.0  \n",
      "KGM                            NaN             NaN    1.0  \n",
      "Kia                            NaN             NaN   16.0  \n",
      "Lancia                         NaN             NaN    1.0  \n",
      "Leapmotor                      NaN             NaN    2.0  \n",
      "Lexus                          NaN             NaN    3.0  \n",
      "Lotus                          NaN             NaN    6.0  \n",
      "Lucid                          NaN             NaN    3.0  \n",
      "Lynk&Co                        NaN             NaN    1.0  \n",
      "MG                             NaN             2.0   12.0  \n",
      "Maserati                       NaN             NaN    3.0  \n",
      "Maxus                          1.0             NaN    1.0  \n",
      "Mazda                          NaN             NaN    2.0  \n",
      "Mercedes-Benz                  9.0             NaN   42.0  \n",
      "Mini                           NaN             NaN    8.0  \n",
      "NIO                            NaN             2.0   12.0  \n",
      "Nissan                         2.0             NaN    6.0  \n",
      "Omoda                          NaN             NaN    1.0  \n",
      "Opel                           6.0             1.0   14.0  \n",
      "Peugeot                        6.0             1.0   19.0  \n",
      "Polestar                       NaN             NaN    9.0  \n",
      "Porsche                        NaN            11.0   26.0  \n",
      "Renault                        2.0             NaN   11.0  \n",
      "Rolls-Royce                    NaN             NaN    1.0  \n",
      "Skoda                          NaN             NaN   12.0  \n",
      "Skywell                        NaN             NaN    2.0  \n",
      "Smart                          NaN             NaN   17.0  \n",
      "Subaru                         NaN             NaN    1.0  \n",
      "Tesla                          NaN             NaN   11.0  \n",
      "Toyota                         5.0             NaN    7.0  \n",
      "VinFast                        NaN             NaN    2.0  \n",
      "Volkswagen                     5.0             3.0   23.0  \n",
      "Volvo                          NaN             NaN   18.0  \n",
      "Voyah                          NaN             NaN    1.0  \n",
      "XPENG                          NaN             NaN    9.0  \n",
      "Zeekr                          NaN             NaN    9.0  \n",
      "firefly                        NaN             NaN    1.0  \n",
      "Total                         47.0            27.0  478.0  \n"
     ]
    }
   ],
   "source": [
    "#Group and count unique models by brands and body type\n",
    "model_counts = (\n",
    "    data.groupby(['brand', 'car_body_type'])['model']\n",
    "        .nunique()\n",
    "        .reset_index(name='unique_model_count')\n",
    ")\n",
    "\n",
    "#Pivot the data\n",
    "pivot_table = model_counts.pivot_table(index='brand', columns='car_body_type', values='unique_model_count')\n",
    "\n",
    "#Add totals for rows and columns\n",
    "pivot_table['Total'] = pivot_table.sum(axis=1)\n",
    "pivot_table.loc['Total'] = pivot_table.sum(axis=0)\n",
    "\n",
    "print(pivot_table)\n"
   ]
  },
  {
   "cell_type": "code",
   "execution_count": 20,
   "id": "14eba632-35d1-461a-bfbb-07f5570076ba",
   "metadata": {},
   "outputs": [
    {
     "data": {
      "image/png": "[encoded data removed]",
      "text/plain": [
       "<Figure size 1200x1000 with 1 Axes>"
      ]
     },
     "metadata": {},
     "output_type": "display_data"
    }
   ],
   "source": [
    "#Plot horizontal bar chart of top brands by unique models across bodytype\n",
    "top_brands = (\n",
    "    pivot_table.drop(index='Total', errors='ignore')\n",
    "               .sort_values('Total', ascending=True)\n",
    "               .tail(25) \n",
    ")\n",
    "top_brands = top_brands.drop(['Total'], axis=1)\n",
    "\n",
    "\n",
    "figure = top_brands.plot(\n",
    "    kind='barh',\n",
    "    stacked=True,\n",
    "    figsize=(12,10),\n",
    "    colormap='tab20',\n",
    "    edgecolor='black'\n",
    ")\n",
    "\n",
    "#Add total value labels at the end of each bar\n",
    "totals = top_brands.sum(axis=1)\n",
    "\n",
    "for i, (brand, total) in enumerate(totals.items()):\n",
    "    figure.text(\n",
    "        total + 0.5,\n",
    "        i,\n",
    "        str(int(total)),\n",
    "        va='center',\n",
    "        fontsize=9,\n",
    "        color='black'\n",
    "    )\n",
    "\n",
    "#Titles and labels\n",
    "plt.title('Top 25 brands by total unique models across body types', fontsize=14)\n",
    "plt.xlabel('Number of Unique Models')\n",
    "plt.ylabel('Brand')\n",
    "plt.legend(title='Body Type', loc='lower right')\n",
    "\n",
    "plt.tight_layout()\n",
    "plt.show()"
   ]
  },
  {
   "cell_type": "code",
   "execution_count": 21,
   "id": "9721668a-2ee4-4a9d-9c14-a147ce566f80",
   "metadata": {},
   "outputs": [
    {
     "name": "stdout",
     "output_type": "stream",
     "text": [
      "segment_group  Compact  Executive  Large  Luxury  Medium  Mini  Passenger Van  \\\n",
      "brand                                                                           \n",
      "Abarth             4.0        NaN    NaN     NaN     NaN   NaN            NaN   \n",
      "Aiways             NaN        NaN    NaN     NaN     2.0   NaN            NaN   \n",
      "Alfa               2.0        NaN    NaN     NaN     NaN   NaN            NaN   \n",
      "Alpine             2.0        NaN    NaN     NaN     NaN   NaN            NaN   \n",
      "Audi               NaN        8.0    8.0     4.0     8.0   NaN            NaN   \n",
      "BMW                NaN        9.0    4.0     3.0     4.0   NaN            NaN   \n",
      "BYD                4.0        1.0    8.0     NaN     4.0   NaN            NaN   \n",
      "CUPRA              NaN        NaN    NaN     NaN     5.0   NaN            NaN   \n",
      "Cadillac           NaN        NaN    NaN     1.0     NaN   NaN            NaN   \n",
      "Citroen            2.0        NaN    NaN     NaN     4.0   NaN            6.0   \n",
      "DS                 1.0        NaN    3.0     NaN     1.0   NaN            NaN   \n",
      "Dacia              NaN        NaN    NaN     NaN     NaN   2.0            NaN   \n",
      "Dongfeng           2.0        NaN    NaN     NaN     NaN   NaN            NaN   \n",
      "Elaris             NaN        NaN    1.0     NaN     NaN   NaN            NaN   \n",
      "Fiat               8.0        NaN    NaN     NaN     NaN   NaN            NaN   \n",
      "Ford               1.0        NaN   13.0     NaN     3.0   NaN            5.0   \n",
      "GWM                NaN        NaN    3.0     NaN     3.0   NaN            NaN   \n",
      "Genesis            NaN        NaN    1.0     1.0     3.0   NaN            NaN   \n",
      "Honda              1.0        NaN    NaN     NaN     NaN   NaN            NaN   \n",
      "Hongqi             NaN        NaN    NaN     3.0     NaN   NaN            NaN   \n",
      "Hyundai            2.0        NaN    3.0     3.0     4.0   2.0            NaN   \n",
      "Jaguar             NaN        NaN    1.0     NaN     NaN   NaN            NaN   \n",
      "Jeep               1.0        NaN    NaN     NaN     1.0   NaN            NaN   \n",
      "KGM                NaN        NaN    NaN     NaN     1.0   NaN            NaN   \n",
      "Kia                2.0        NaN    NaN     5.0     9.0   NaN            NaN   \n",
      "Lancia             1.0        NaN    NaN     NaN     NaN   NaN            NaN   \n",
      "Leapmotor          NaN        NaN    1.0     NaN     NaN   1.0            NaN   \n",
      "Lexus              NaN        NaN    1.0     NaN     2.0   NaN            NaN   \n",
      "Lotus              NaN        NaN    NaN     6.0     NaN   NaN            NaN   \n",
      "Lucid              NaN        NaN    NaN     3.0     NaN   NaN            NaN   \n",
      "Lynk&Co            NaN        NaN    NaN     NaN     1.0   NaN            NaN   \n",
      "MG                 2.0        NaN    NaN     NaN     8.0   NaN            NaN   \n",
      "Maserati           NaN        1.0    NaN     2.0     NaN   NaN            NaN   \n",
      "Maxus              NaN        NaN    NaN     NaN     NaN   NaN            1.0   \n",
      "Mazda              NaN        NaN    2.0     NaN     NaN   NaN            NaN   \n",
      "Mercedes-Benz      NaN       12.0    2.0    12.0     7.0   NaN            9.0   \n",
      "Mini               6.0        NaN    NaN     NaN     2.0   NaN            NaN   \n",
      "NIO                NaN        6.0    NaN     6.0     NaN   NaN            NaN   \n",
      "Nissan             NaN        NaN    NaN     NaN     4.0   NaN            2.0   \n",
      "Omoda              NaN        NaN    NaN     NaN     1.0   NaN            NaN   \n",
      "Opel               4.0        NaN    NaN     NaN     4.0   NaN            6.0   \n",
      "Peugeot            4.0        NaN    4.0     NaN     5.0   NaN            6.0   \n",
      "Polestar           NaN        5.0    4.0     NaN     NaN   NaN            NaN   \n",
      "Porsche            NaN        NaN    4.0    22.0     NaN   NaN            NaN   \n",
      "Renault            5.0        NaN    NaN     NaN     4.0   NaN            2.0   \n",
      "Rolls-Royce        NaN        NaN    NaN     1.0     NaN   NaN            NaN   \n",
      "Skoda              NaN        NaN    NaN     NaN    12.0   NaN            NaN   \n",
      "Skywell            NaN        NaN    2.0     NaN     NaN   NaN            NaN   \n",
      "Smart             11.0        NaN    6.0     NaN     NaN   NaN            NaN   \n",
      "Subaru             NaN        NaN    NaN     NaN     1.0   NaN            NaN   \n",
      "Tesla              NaN        NaN    7.0     4.0     NaN   NaN            NaN   \n",
      "Toyota             NaN        NaN    NaN     NaN     2.0   NaN            5.0   \n",
      "VinFast            NaN        NaN    2.0     NaN     NaN   NaN            NaN   \n",
      "Volkswagen         NaN        6.0    NaN     NaN    12.0   NaN            5.0   \n",
      "Volvo              4.0        NaN    NaN     6.0     8.0   NaN            NaN   \n",
      "Voyah              NaN        1.0    NaN     NaN     NaN   NaN            NaN   \n",
      "XPENG              NaN        6.0    3.0     NaN     NaN   NaN            NaN   \n",
      "Zeekr              3.0        3.0    3.0     NaN     NaN   NaN            NaN   \n",
      "firefly            1.0        NaN    NaN     NaN     NaN   NaN            NaN   \n",
      "Total             73.0       58.0   86.0    82.0   125.0   5.0           47.0   \n",
      "\n",
      "segment_group  Sports  Total  \n",
      "brand                         \n",
      "Abarth            NaN    4.0  \n",
      "Aiways            NaN    2.0  \n",
      "Alfa              NaN    2.0  \n",
      "Alpine            NaN    2.0  \n",
      "Audi              NaN   28.0  \n",
      "BMW               NaN   20.0  \n",
      "BYD               NaN   17.0  \n",
      "CUPRA             NaN    5.0  \n",
      "Cadillac          NaN    1.0  \n",
      "Citroen           NaN   12.0  \n",
      "DS                NaN    5.0  \n",
      "Dacia             NaN    2.0  \n",
      "Dongfeng          NaN    2.0  \n",
      "Elaris            NaN    1.0  \n",
      "Fiat              NaN    8.0  \n",
      "Ford              NaN   22.0  \n",
      "GWM               NaN    6.0  \n",
      "Genesis           NaN    5.0  \n",
      "Honda             NaN    1.0  \n",
      "Hongqi            NaN    3.0  \n",
      "Hyundai           NaN   14.0  \n",
      "Jaguar            NaN    1.0  \n",
      "Jeep              NaN    2.0  \n",
      "KGM               NaN    1.0  \n",
      "Kia               NaN   16.0  \n",
      "Lancia            NaN    1.0  \n",
      "Leapmotor         NaN    2.0  \n",
      "Lexus             NaN    3.0  \n",
      "Lotus             NaN    6.0  \n",
      "Lucid             NaN    3.0  \n",
      "Lynk&Co           NaN    1.0  \n",
      "MG                2.0   12.0  \n",
      "Maserati          NaN    3.0  \n",
      "Maxus             NaN    1.0  \n",
      "Mazda             NaN    2.0  \n",
      "Mercedes-Benz     NaN   42.0  \n",
      "Mini              NaN    8.0  \n",
      "NIO               NaN   12.0  \n",
      "Nissan            NaN    6.0  \n",
      "Omoda             NaN    1.0  \n",
      "Opel              NaN   14.0  \n",
      "Peugeot           NaN   19.0  \n",
      "Polestar          NaN    9.0  \n",
      "Porsche           NaN   26.0  \n",
      "Renault           NaN   11.0  \n",
      "Rolls-Royce       NaN    1.0  \n",
      "Skoda             NaN   12.0  \n",
      "Skywell           NaN    2.0  \n",
      "Smart             NaN   17.0  \n",
      "Subaru            NaN    1.0  \n",
      "Tesla             NaN   11.0  \n",
      "Toyota            NaN    7.0  \n",
      "VinFast           NaN    2.0  \n",
      "Volkswagen        NaN   23.0  \n",
      "Volvo             NaN   18.0  \n",
      "Voyah             NaN    1.0  \n",
      "XPENG             NaN    9.0  \n",
      "Zeekr             NaN    9.0  \n",
      "firefly           NaN    1.0  \n",
      "Total             2.0  478.0  \n"
     ]
    }
   ],
   "source": [
    "#Group and count unique models by brands and segment groups\n",
    "model_counts = (\n",
    "    data.groupby(['brand', 'segment_group'])['model']\n",
    "        .nunique()\n",
    "        .reset_index(name='unique_model_count')\n",
    ")\n",
    "\n",
    "#Pivot the data\n",
    "pivot_table = model_counts.pivot_table(index='brand', columns='segment_group', values='unique_model_count')\n",
    "\n",
    "#Add totals for rows and columns\n",
    "pivot_table['Total'] = pivot_table.sum(axis=1)\n",
    "pivot_table.loc['Total'] = pivot_table.sum(axis=0)\n",
    "\n",
    "print(pivot_table)"
   ]
  },
  {
   "cell_type": "code",
   "execution_count": 22,
   "id": "bb5da689-c955-4d9f-802f-18f798d25e89",
   "metadata": {},
   "outputs": [
    {
     "data": {
      "image/png": "[encoded data removed]",
      "text/plain": [
       "<Figure size 1200x1000 with 1 Axes>"
      ]
     },
     "metadata": {},
     "output_type": "display_data"
    }
   ],
   "source": [
    "#Plot horizontal bar chart of top brands by unique models across segment groups\n",
    "top_brands = (\n",
    "    pivot_table.drop(index='Total', errors='ignore')\n",
    "               .sort_values('Total', ascending=True)\n",
    "               .tail(25) \n",
    ")\n",
    "top_brands = top_brands.drop(['Total'], axis=1)\n",
    "\n",
    "\n",
    "figure = top_brands.plot(\n",
    "    kind='barh',\n",
    "    stacked=True,\n",
    "    figsize=(12,10),\n",
    "    colormap='tab20',\n",
    "    edgecolor='black'\n",
    ")\n",
    "\n",
    "#Add total value labels at the end of each bar\n",
    "totals = top_brands.sum(axis=1)\n",
    "\n",
    "for i, (brand, total) in enumerate(totals.items()):\n",
    "    figure.text(\n",
    "        total + 0.5,\n",
    "        i,\n",
    "        str(int(total)),\n",
    "        va='center',\n",
    "        fontsize=9,\n",
    "        color='black'\n",
    "    )\n",
    "\n",
    "#Titles and labels\n",
    "plt.title('Top 25 brands by total unique models across segment groups', fontsize=14)\n",
    "plt.xlabel('Number of Unique Models')\n",
    "plt.ylabel('Brand')\n",
    "plt.legend(title='Segment Groups', loc='lower right')\n",
    "\n",
    "plt.tight_layout()\n",
    "plt.show()"
   ]
  },
  {
   "cell_type": "markdown",
   "id": "e92c8243-4422-486e-97eb-669c3e1e3ffe",
   "metadata": {},
   "source": [
    "## Correlation Heatmap"
   ]
  },
  {
   "cell_type": "code",
   "execution_count": 23,
   "id": "30ea0f0e-43ea-40ee-9e0b-b216673de07b",
   "metadata": {},
   "outputs": [
    {
     "data": {
      "text/html": [
       "<iframe\n",
       "    scrolling=\"no\"\n",
       "    width=\"870px\"\n",
       "    height=\"870\"\n",
       "    src=\"iframe_figures/figure_23.html\"\n",
       "    frameborder=\"0\"\n",
       "    allowfullscreen\n",
       "></iframe>\n"
      ]
     },
     "metadata": {},
     "output_type": "display_data"
    }
   ],
   "source": [
    "import plotly.graph_objects as go\n",
    "#Compute correlation matrix\n",
    "corr = data[num_cols].corr().round(2)\n",
    "\n",
    "#Create heatmap\n",
    "fig = go.Figure(\n",
    "    data=go.Heatmap(\n",
    "        x=corr.columns,\n",
    "        y=corr.index,\n",
    "        z=corr.values,\n",
    "        colorscale='Viridis',\n",
    "        zmin=-1,\n",
    "        zmax=1,\n",
    "        colorbar=dict(\n",
    "            title=dict(text='Correlation', font=dict(color='green')),\n",
    "            tickfont=dict(color='green')\n",
    "        )\n",
    "    )\n",
    ")\n",
    "\n",
    "#Add annotations (correlation values)\n",
    "for i, row in enumerate(corr.index):\n",
    "    for j, col in enumerate(corr.columns):\n",
    "        fig.add_annotation(\n",
    "            x=col,\n",
    "            y=row,\n",
    "            text=str(corr.iloc[i,j]),\n",
    "            showarrow=False,\n",
    "            font=dict(color='green', size=10)\n",
    "        )\n",
    "\n",
    "#Layout customization\n",
    "fig.update_layout(\n",
    "    title='📊 Correlation Matrix (Numeric EV Features)',\n",
    "    title_font_color='green',\n",
    "    template='plotly_dark',\n",
    "    xaxis=dict(tickangle=45, tickfont=dict(color='green')),\n",
    "    yaxis=dict(tickfont=dict(color='green')),\n",
    "    width=850,\n",
    "    height=850\n",
    ")\n",
    "\n",
    "#Show figure\n",
    "fig.show(renderer='iframe')"
   ]
  },
  {
   "cell_type": "markdown",
   "id": "da7961e0-4aa7-4607-a0ba-f75e451a4a4c",
   "metadata": {},
   "source": [
    "`Notes`:\n",
    "- High positive correlation: 'range_km' vs 'battery_capacity_kWh'\n",
    "- High negative correlation: 'range_km' vs 'acceleration_0_100_s'"
   ]
  },
  {
   "cell_type": "markdown",
   "id": "6ba22c97-45e8-42da-8386-1e2d371198a6",
   "metadata": {},
   "source": [
    " ## Multivariate / Combined Visuals"
   ]
  },
  {
   "cell_type": "code",
   "execution_count": 24,
   "id": "95b96fe1-14ca-4d35-a962-0b5ce4549c2e",
   "metadata": {},
   "outputs": [
    {
     "data": {
      "application/vnd.plotly.v1+json": {
       "config": {
        "plotlyServerURL": "https://plot.ly"
       },
       "data": [
        {
         "hovertemplate": "segment_group=Compact<br>battery_capacity_kWh=%{x}<br>range_km=%{y}<extra></extra>",
         "legendgroup": "Compact",
         "marker": {
          "color": "#636efa",
          "symbol": "circle"
         },
         "mode": "markers",
         "name": "Compact",
         "orientation": "v",
         "showlegend": true,
         "type": "scatter",
         "x": {
          "bdata": "AAAAAAAAQ0AAAAAAAABDQAAAAAAAgElAAAAAAACASUAAAAAAAIBJQAAAAAAAgElAAAAAAAAASkAAAAAAAABKQAAAAAAAgEZAAAAAAAAAPkAAAAAAAIBFQAAAAAAAgEVAAAAAAAAARkAAAAAAAABGQAAAAAAAgElAAAAAAAAAPUAAAAAAAABEQAAAAAAAADVAAAAAAACAQkAAAAAAAAA1QAAAAAAAgEJAAAAAAAAANUAAAAAAAIBCQAAAAAAAgElAAAAAAAAARkAAAAAAAABGQAAAAAAAAE9AAAAAAAAASEAAAAAAAEBQQAAAAAAAgElAAAAAAACAU0AAAAAAAIBLQAAAAAAAAEhAAAAAAAAAUUAAAAAAAIBIQAAAAAAAAENAAAAAAACASEAAAAAAAIBIQAAAAAAAgEJAAAAAAACASEAAAAAAAIBIQAAAAAAAAEdAAAAAAAAASEAAAAAAAABGQAAAAAAAgElAAAAAAAAAR0AAAAAAAIBJQAAAAAAAAEdAAAAAAAAASEAAAAAAAABEQAAAAAAAAEpAAAAAAAAAREAAAAAAAABEQAAAAAAAAEpAAAAAAAAAT0AAAAAAAABPQAAAAAAAgEdAAAAAAAAAT0AAAAAAAABPQAAAAAAAgEdAAAAAAAAAT0AAAAAAAABPQAAAAAAAAE9AAAAAAACAR0AAAAAAAABPQAAAAAAAQFBAAAAAAACASEAAAAAAAEBQQAAAAAAAQFBAAAAAAACASEAAAAAAAEBQQAAAAAAAQFBAAAAAAACAREA=",
          "dtype": "f8"
         },
         "xaxis": "x",
         "y": {
          "bdata": "4QDhABgBGAFAATYBNgExAfUAvgAOAQkB/wDwACwBvgD/AIcA6wCHAOYAhwDrADYBBAETAU8BJwGGATYBxwFFATYBcgEJAeYAGAEiAfoAIgFKASIBOwH1AB0BDgEsASIBNgH1ADsB+gD/AEABRQFPAfoATwFFAfoATwFPAWMBCQFjAUoBEwFtAVQBCQFoAV4B+gA=",
          "dtype": "i2"
         },
         "yaxis": "y"
        },
        {
         "hovertemplate": "segment_group=Medium<br>battery_capacity_kWh=%{x}<br>range_km=%{y}<extra></extra>",
         "legendgroup": "Medium",
         "marker": {
          "color": "#EF553B",
          "symbol": "circle"
         },
         "mode": "markers",
         "name": "Medium",
         "orientation": "v",
         "showlegend": true,
         "type": "scatter",
         "x": {
          "bdata": "AAAAAAAATkAAAAAAAABOQAAAAAAAgE1AAAAAAABAU0AAAAAAAEBTQAAAAAAAQFNAAAAAAACATUAAAAAAAEBTQAAAAAAAQFNAAAAAAABAU0AAAAAAAEBQQAAAAAAAQFBAAAAAAABAUEAAAAAAAEBQQAAAAAAAAE5AAAAAAACARkAAAAAAAIBGQAAAAAAAAE5AAAAAAACATUAAAAAAAEBTQAAAAAAAwFNAAAAAAABAU0AAAAAAAEBTQAAAAAAAAEdAAAAAAACASUAAAAAAAABHQAAAAAAAgElAAAAAAAAATUAAAAAAAMBTQAAAAAAAQFNAAAAAAAAASkAAAAAAAIBGQAAAAAAAgE1AAAAAAACATUAAAAAAAIBSQAAAAAAAgFJAAAAAAACAUkAAAAAAAABOQAAAAAAAAFRAAAAAAAAAVEAAAAAAAABUQAAAAAAAgFJAAAAAAAAAUkAAAAAAAIBTQAAAAAAAgEtAAAAAAACAU0AAAAAAAIBLQAAAAAAAAFRAAAAAAAAAVEAAAAAAAABUQAAAAAAAAE5AAAAAAABAUEAAAAAAAABQQAAAAAAAAFBAAAAAAABAUEAAAAAAAIBJQAAAAAAAAE9AAAAAAACAUkAAAAAAAABPQAAAAAAAgExAAAAAAAAAR0AAAAAAAIBHQAAAAAAAAE9AAAAAAACAUEAAAAAAAIBRQAAAAAAAgFBAAAAAAACAUEAAAAAAAIBRQAAAAAAAgFBAAAAAAACAUEAAAAAAAEBQQAAAAAAAQFBAAAAAAACAT0AAAAAAAMBVQAAAAAAAwFVAAAAAAADAVUAAAAAAAIBOQAAAAAAAgElAAAAAAACASUAAAAAAAEBSQAAAAAAAgFRAAAAAAABAUkAAAAAAAEBSQAAAAAAAQFhAAAAAAACASUAAAAAAAIBJQAAAAAAAAE5AAAAAAAAATkAAAAAAAABOQAAAAAAAwFVAAAAAAAAASkAAAAAAAIBNQAAAAAAAQFNAAAAAAADAU0AAAAAAAIBNQAAAAAAAQFNAAAAAAABAU0AAAAAAAIBNQAAAAAAAQFNAAAAAAABAU0AAAAAAAMBTQAAAAAAAwFNAAAAAAAAAUEAAAAAAAABQQAAAAAAAAFBAAAAAAADAU0AAAAAAAMBTQAAAAAAAgE1AAAAAAABAU0AAAAAAAABKQAAAAAAAQFNAAAAAAABAU0AAAAAAAEBTQAAAAAAAAEpAAAAAAABAU0AAAAAAAEBTQAAAAAAAAEpAAAAAAADAUEAAAAAAAMBTQAAAAAAAwFNAAAAAAADAU0AAAAAAAMBQQAAAAAAAwFNAAAAAAADAU0AAAAAAAMBTQA==",
          "dtype": "f8"
         },
         "xaxis": "x",
         "y": {
          "bdata": "OwFeAVQBswGaAZ8BRQGkAYsBiwGGAXwBiwGBAVQBCQEEAV4BaAHMAdEBvQGpAR0BRQEiAU8BdwG4AbMBMQEEAVQBRQGGAXcBaAFZAb0BwgGGAXIBcgHbAVQB7wFjAYEBxwG4AVkBgQFtAVQBcgEsAWgBqQFAAU8BCQETAW0BiwGkAV4BXgGfAVkBWQF8AW0BTwHCAZUBgQFZAUABNgFtAZoBfAF3AfQBLAEsAXwBfAFUAeABNgFeAcIBwgFoAccBwgFyAdYBzAHWAcwBQAFZAV4B1gHRAW0B0QFFAaQBvQGzAR0BrgHMAUABaAGkAZABkAFZAZABgQGBAQ==",
          "dtype": "i2"
         },
         "yaxis": "y"
        },
        {
         "hovertemplate": "segment_group=Executive<br>battery_capacity_kWh=%{x}<br>range_km=%{y}<extra></extra>",
         "legendgroup": "Executive",
         "marker": {
          "color": "#00cc96",
          "symbol": "circle"
         },
         "mode": "markers",
         "name": "Executive",
         "orientation": "v",
         "showlegend": true,
         "type": "scatter",
         "x": {
          "bdata": "AAAAAAAAU0AAAAAAAMBXQAAAAAAAwFdAAAAAAAAAU0AAAAAAAMBXQAAAAAAAwFdAAAAAAADAV0AAAAAAAMBXQAAAAAAAQFRAAAAAAABAVEAAAAAAAEBUQAAAAAAAQFRAAAAAAABAVEAAAAAAAEBUQAAAAAAAQFtAAAAAAADAV0AAAAAAAEBbQAAAAAAAQFtAAAAAAADAV0AAAAAAAEBWQAAAAAAAwFZAAAAAAAAAWEAAAAAAAMBWQAAAAAAAwFZAAAAAAADAVkAAAAAAAMBWQAAAAAAAwFZAAAAAAAAAWEAAAAAAAABYQAAAAAAAwFZAAAAAAADAVkAAAAAAAIBWQAAAAAAAgFJAAAAAAACAVkAAAAAAAIBSQAAAAAAAgFZAAAAAAACAUkAAAAAAAMBaQAAAAAAAwFpAAAAAAADAWkAAAAAAAIBXQAAAAAAAgFdAAAAAAACAVUAAAAAAAEBTQAAAAAAAgFVAAAAAAACAVUAAAAAAAEBTQAAAAAAAgFVAAAAAAAAAWUAAAAAAAEBXQAAAAAAAQFdAAAAAAAAAU0AAAAAAAMBUQAAAAAAAwFRAAAAAAADAVEAAAAAAAIBXQAAAAAAAgFdAAAAAAACAV0A=",
          "dtype": "f8"
         },
         "xaxis": "x",
         "y": {
          "bdata": "0QE/AjAC7wFiAk4CEgIrAq4BqQHgAdEB0QHCAfQB1gENAswBkAENAgMCKwL5AcIBwgHCAbMB2wHHAakBpAGzAW0B9AGaAeUBkAEDAu8BEgLlAe8B9AHbAQ0C9AHWAQgC4AHRAeABiwHMAe8BxwH5AeAB4AE=",
          "dtype": "i2"
         },
         "yaxis": "y"
        },
        {
         "hovertemplate": "segment_group=Large<br>battery_capacity_kWh=%{x}<br>range_km=%{y}<extra></extra>",
         "legendgroup": "Large",
         "marker": {
          "color": "#ab63fa",
          "symbol": "circle"
         },
         "mode": "markers",
         "name": "Large",
         "orientation": "v",
         "showlegend": true,
         "type": "scatter",
         "x": {
          "bdata": "AAAAAAAAU0AAAAAAAABTQAAAAAAAwFdAAAAAAADAV0AAAAAAAMBXQAAAAAAAwFdAAAAAAADAV0AAAAAAAMBXQAAAAAAAQFRAAAAAAADAUEAAAAAAAEBUQAAAAAAAQFRAAAAAAACATkAAAAAAAIBUQAAAAAAAgFRAAAAAAAAAUkAAAAAAAMBVQAAAAAAAgFRAAAAAAACAVEAAAAAAAMBWQAAAAAAAQFhAAAAAAACAUkAAAAAAAEBYQAAAAAAAQFRAAAAAAADAU0AAAAAAAEBTQAAAAAAAAEpAAAAAAAAAVkAAAAAAAMBWQAAAAAAAAFZAAAAAAADAVkAAAAAAAMBWQAAAAAAAwFZAAAAAAADAVkAAAAAAAMBWQAAAAAAAQFJAAAAAAABAUkAAAAAAAABVQAAAAAAAAFBAAAAAAAAAUEAAAAAAAIBSQAAAAAAAgFJAAAAAAACAUkAAAAAAAABJQAAAAAAAQFVAAAAAAACAUUAAAAAAAABQQAAAAAAAgFBAAAAAAADAUkAAAAAAAEBVQAAAAAAAQFVAAAAAAAAATUAAAAAAAEBSQAAAAAAAQFJAAAAAAABAWEAAAAAAAMBTQAAAAAAAwFNAAAAAAADAU0AAAAAAAMBQQAAAAAAAwFdAAAAAAADAV0AAAAAAAMBXQAAAAAAAwFdAAAAAAABAVEAAAAAAAABRQAAAAAAAgFdAAAAAAACAV0AAAAAAAIBSQAAAAAAAgFdAAAAAAACAV0AAAAAAAIBXQAAAAAAAwFJAAAAAAADAUkAAAAAAAMBSQAAAAAAAAE5AAAAAAADAUkAAAAAAAMBSQAAAAAAAAE5AAAAAAAAAVkAAAAAAAABWQAAAAAAAAFZAAAAAAAAAVkAAAAAAAIBQQAAAAAAAgFdAAAAAAACAV0AAAAAAAMBRQA==",
          "dtype": "f8"
         },
         "xaxis": "x",
         "y": {
          "bdata": "iwGaAf4B9AHqAeAB1gHvAcIBrgEDAuoBbQG9AeABaAGpAZABnwGuARICnwEhAoYBxwHHAUABswG9AdsB4AGpAbMBnwGaAYEBfAGuAV4BXgFeAe8BuAFPAXwBXgFeAYYBuAE1AiYCdwFyAWgB5QHHAcIB2wGVAdYB1gHvAcwBhgFKAcIB0QFyAdEBxwHHAQ0CIQLqAb0BxwHWAXcBlQGQAdsB4AFyAdsBwgFtAQ==",
          "dtype": "i2"
         },
         "yaxis": "y"
        },
        {
         "hovertemplate": "segment_group=Luxury<br>battery_capacity_kWh=%{x}<br>range_km=%{y}<extra></extra>",
         "legendgroup": "Luxury",
         "marker": {
          "color": "#FFA15A",
          "symbol": "circle"
         },
         "mode": "markers",
         "name": "Luxury",
         "orientation": "v",
         "showlegend": true,
         "type": "scatter",
         "x": {
          "bdata": "AAAAAABAWEAAAAAAAEBYQAAAAAAAQFhAAAAAAABAWEAAAAAAAIBZQAAAAAAAgFlAAAAAAACAWUAAAAAAAIBZQAAAAAAAgFRAAAAAAAAAXEAAAAAAAABTQAAAAAAAgFZAAAAAAACAWkAAAAAAAIBaQAAAAAAAgFpAAAAAAABAUkAAAAAAAABYQAAAAAAAAFhAAAAAAAAAWEAAAAAAAABYQAAAAAAAQFtAAAAAAABAW0AAAAAAAEBbQAAAAAAAwFhAAAAAAADAWEAAAAAAAMBYQAAAAAAAAFxAAAAAAAAAV0AAAAAAAABXQAAAAAAAwFRAAAAAAADAVEAAAAAAAABYQAAAAAAAgF1AAAAAAACAXUAAAAAAAIBdQAAAAAAAgF1AAAAAAACAXUAAAAAAAIBdQAAAAAAAgF1AAAAAAACAXUAAAAAAAIBdQAAAAAAAgF1AAAAAAAAAXUAAAAAAAIBWQAAAAAAAgFJAAAAAAACAVkAAAAAAAIBSQAAAAAAAgFZAAAAAAACAUkAAAAAAAIBUQAAAAAAAgFRAAAAAAABAWEAAAAAAAEBYQAAAAAAAgFRAAAAAAABAWEAAAAAAAEBYQAAAAAAAQFhAAAAAAACAVEAAAAAAAEBYQAAAAAAAQFhAAAAAAABAWEAAAAAAAEBYQAAAAAAAgFRAAAAAAABAWEAAAAAAAEBYQAAAAAAAQFhAAAAAAABAWEAAAAAAAEBYQAAAAAAAQFhAAAAAAABAWEAAAAAAAEBYQAAAAAAAgFlAAAAAAADAV0AAAAAAAMBXQAAAAAAAwFdAAAAAAADAV0AAAAAAAABWQAAAAAAAgFlAAAAAAACAWUAAAAAAAABZQAAAAAAAwFpAAAAAAADAWkA=",
          "dtype": "f8"
         },
         "xaxis": "x",
         "y": {
          "bdata": "DQINAhwCHALqAQgC/gHMAbgBxwFAAXIB6gH0AeABYwGzAaQBqQHCAe8BxwHgAQgC0QEIApkCNQJEAosBpAE6Ao8CrQKAAoACSQISAhwCEgISAuoBaAGuAWMBuAFoAfkBnwHvAeoB/gE1AuoB/gE1Av4BuAEXAvkBPwISAswBFwLvAdsB2wENAuUB+QH5AdEBPwIwAuUB0QHlARICEgLMAdYBxwE=",
          "dtype": "i2"
         },
         "yaxis": "y"
        },
        {
         "hovertemplate": "segment_group=Passenger Van<br>battery_capacity_kWh=%{x}<br>range_km=%{y}<extra></extra>",
         "legendgroup": "Passenger Van",
         "marker": {
          "color": "#19d3f3",
          "symbol": "circle"
         },
         "mode": "markers",
         "name": "Passenger Van",
         "orientation": "v",
         "showlegend": true,
         "type": "scatter",
         "x": {
          "bdata": "AAAAAAAASUAAAAAAAABJQAAAAAAAAEdAAAAAAAAAUUAAAAAAAABHQAAAAAAAAFFAAAAAAAAARkAAAAAAAABQQAAAAAAAAFBAAAAAAAAAUEAAAAAAAABQQAAAAAAAAFVAAAAAAACARkAAAAAAAIBGQAAAAAAAAE5AAAAAAAAATkAAAAAAAIBWQAAAAAAAgFZAAAAAAAAATkAAAAAAAABOQAAAAAAAgFZAAAAAAACARkAAAAAAAIBGQAAAAAAAAElAAAAAAAAASUAAAAAAAABHQAAAAAAAAFFAAAAAAAAAR0AAAAAAAABRQAAAAAAAAElAAAAAAAAASUAAAAAAAABHQAAAAAAAAFFAAAAAAAAAR0AAAAAAAABRQAAAAAAAgEZAAAAAAACARkAAAAAAAABRQAAAAAAAAEdAAAAAAAAAUUAAAAAAAABJQAAAAAAAAElAAAAAAACAVUAAAAAAAIBVQAAAAAAAwFNAAAAAAADAU0AAAAAAAIBNQA==",
          "dtype": "f8"
         },
         "xaxis": "x",
         "y": {
          "bdata": "6wDmALQABAG0AAQByADrAOsA6wDrAG0B3ADhANIA1wA7AUAB1wDcAEUB4QDcAOsA5gC0AAQBtAAEAesA5gC0AAQBtAAEAeEA3AAEAbQABAHrAOYAXgFyAUoBaAETAQ==",
          "dtype": "i2"
         },
         "yaxis": "y"
        },
        {
         "hovertemplate": "segment_group=Mini<br>battery_capacity_kWh=%{x}<br>range_km=%{y}<extra></extra>",
         "legendgroup": "Mini",
         "marker": {
          "color": "#FF6692",
          "symbol": "circle"
         },
         "mode": "markers",
         "name": "Mini",
         "orientation": "v",
         "showlegend": true,
         "type": "scatter",
         "x": {
          "bdata": "AAAAAAAAOUAAAAAAAAA5QAAAAAAAAEdAAAAAAACAQ0AAAAAAAABCQA==",
          "dtype": "f8"
         },
         "xaxis": "x",
         "y": {
          "bdata": "pQCgACwB/wDhAA==",
          "dtype": "i2"
         },
         "yaxis": "y"
        },
        {
         "hovertemplate": "segment_group=Sports<br>battery_capacity_kWh=%{x}<br>range_km=%{y}<extra></extra>",
         "legendgroup": "Sports",
         "marker": {
          "color": "#B6E880",
          "symbol": "circle"
         },
         "mode": "markers",
         "name": "Sports",
         "orientation": "v",
         "showlegend": true,
         "type": "scatter",
         "x": {
          "bdata": "AAAAAACAUkAAAAAAAIBSQA==",
          "dtype": "f8"
         },
         "xaxis": "x",
         "y": {
          "bdata": "iwGpAQ==",
          "dtype": "i2"
         },
         "yaxis": "y"
        }
       ],
       "layout": {
        "legend": {
         "title": {
          "text": "segment_group"
         },
         "tracegroupgap": 0
        },
        "margin": {
         "t": 60
        },
        "template": {
         "data": {
          "bar": [
           {
            "error_x": {
             "color": "#2a3f5f"
            },
            "error_y": {
             "color": "#2a3f5f"
            },
            "marker": {
             "line": {
              "color": "#E5ECF6",
              "width": 0.5
             },
             "pattern": {
              "fillmode": "overlay",
              "size": 10,
              "solidity": 0.2
             }
            },
            "type": "bar"
           }
          ],
          "barpolar": [
           {
            "marker": {
             "line": {
              "color": "#E5ECF6",
              "width": 0.5
             },
             "pattern": {
              "fillmode": "overlay",
              "size": 10,
              "solidity": 0.2
             }
            },
            "type": "barpolar"
           }
          ],
          "carpet": [
           {
            "aaxis": {
             "endlinecolor": "#2a3f5f",
             "gridcolor": "white",
             "linecolor": "white",
             "minorgridcolor": "white",
             "startlinecolor": "#2a3f5f"
            },
            "baxis": {
             "endlinecolor": "#2a3f5f",
             "gridcolor": "white",
             "linecolor": "white",
             "minorgridcolor": "white",
             "startlinecolor": "#2a3f5f"
            },
            "type": "carpet"
           }
          ],
          "choropleth": [
           {
            "colorbar": {
             "outlinewidth": 0,
             "ticks": ""
            },
            "type": "choropleth"
           }
          ],
          "contour": [
           {
            "colorbar": {
             "outlinewidth": 0,
             "ticks": ""
            },
            "colorscale": [
             [
              0,
              "#0d0887"
             ],
             [
              0.1111111111111111,
              "#46039f"
             ],
             [
              0.2222222222222222,
              "#7201a8"
             ],
             [
              0.3333333333333333,
              "#9c179e"
             ],
             [
              0.4444444444444444,
              "#bd3786"
             ],
             [
              0.5555555555555556,
              "#d8576b"
             ],
             [
              0.6666666666666666,
              "#ed7953"
             ],
             [
              0.7777777777777778,
              "#fb9f3a"
             ],
             [
              0.8888888888888888,
              "#fdca26"
             ],
             [
              1,
              "#f0f921"
             ]
            ],
            "type": "contour"
           }
          ],
          "contourcarpet": [
           {
            "colorbar": {
             "outlinewidth": 0,
             "ticks": ""
            },
            "type": "contourcarpet"
           }
          ],
          "heatmap": [
           {
            "colorbar": {
             "outlinewidth": 0,
             "ticks": ""
            },
            "colorscale": [
             [
              0,
              "#0d0887"
             ],
             [
              0.1111111111111111,
              "#46039f"
             ],
             [
              0.2222222222222222,
              "#7201a8"
             ],
             [
              0.3333333333333333,
              "#9c179e"
             ],
             [
              0.4444444444444444,
              "#bd3786"
             ],
             [
              0.5555555555555556,
              "#d8576b"
             ],
             [
              0.6666666666666666,
              "#ed7953"
             ],
             [
              0.7777777777777778,
              "#fb9f3a"
             ],
             [
              0.8888888888888888,
              "#fdca26"
             ],
             [
              1,
              "#f0f921"
             ]
            ],
            "type": "heatmap"
           }
          ],
          "histogram": [
           {
            "marker": {
             "pattern": {
              "fillmode": "overlay",
              "size": 10,
              "solidity": 0.2
             }
            },
            "type": "histogram"
           }
          ],
          "histogram2d": [
           {
            "colorbar": {
             "outlinewidth": 0,
             "ticks": ""
            },
            "colorscale": [
             [
              0,
              "#0d0887"
             ],
             [
              0.1111111111111111,
              "#46039f"
             ],
             [
              0.2222222222222222,
              "#7201a8"
             ],
             [
              0.3333333333333333,
              "#9c179e"
             ],
             [
              0.4444444444444444,
              "#bd3786"
             ],
             [
              0.5555555555555556,
              "#d8576b"
             ],
             [
              0.6666666666666666,
              "#ed7953"
             ],
             [
              0.7777777777777778,
              "#fb9f3a"
             ],
             [
              0.8888888888888888,
              "#fdca26"
             ],
             [
              1,
              "#f0f921"
             ]
            ],
            "type": "histogram2d"
           }
          ],
          "histogram2dcontour": [
           {
            "colorbar": {
             "outlinewidth": 0,
             "ticks": ""
            },
            "colorscale": [
             [
              0,
              "#0d0887"
             ],
             [
              0.1111111111111111,
              "#46039f"
             ],
             [
              0.2222222222222222,
              "#7201a8"
             ],
             [
              0.3333333333333333,
              "#9c179e"
             ],
             [
              0.4444444444444444,
              "#bd3786"
             ],
             [
              0.5555555555555556,
              "#d8576b"
             ],
             [
              0.6666666666666666,
              "#ed7953"
             ],
             [
              0.7777777777777778,
              "#fb9f3a"
             ],
             [
              0.8888888888888888,
              "#fdca26"
             ],
             [
              1,
              "#f0f921"
             ]
            ],
            "type": "histogram2dcontour"
           }
          ],
          "mesh3d": [
           {
            "colorbar": {
             "outlinewidth": 0,
             "ticks": ""
            },
            "type": "mesh3d"
           }
          ],
          "parcoords": [
           {
            "line": {
             "colorbar": {
              "outlinewidth": 0,
              "ticks": ""
             }
            },
            "type": "parcoords"
           }
          ],
          "pie": [
           {
            "automargin": true,
            "type": "pie"
           }
          ],
          "scatter": [
           {
            "fillpattern": {
             "fillmode": "overlay",
             "size": 10,
             "solidity": 0.2
            },
            "type": "scatter"
           }
          ],
          "scatter3d": [
           {
            "line": {
             "colorbar": {
              "outlinewidth": 0,
              "ticks": ""
             }
            },
            "marker": {
             "colorbar": {
              "outlinewidth": 0,
              "ticks": ""
             }
            },
            "type": "scatter3d"
           }
          ],
          "scattercarpet": [
           {
            "marker": {
             "colorbar": {
              "outlinewidth": 0,
              "ticks": ""
             }
            },
            "type": "scattercarpet"
           }
          ],
          "scattergeo": [
           {
            "marker": {
             "colorbar": {
              "outlinewidth": 0,
              "ticks": ""
             }
            },
            "type": "scattergeo"
           }
          ],
          "scattergl": [
           {
            "marker": {
             "colorbar": {
              "outlinewidth": 0,
              "ticks": ""
             }
            },
            "type": "scattergl"
           }
          ],
          "scattermap": [
           {
            "marker": {
             "colorbar": {
              "outlinewidth": 0,
              "ticks": ""
             }
            },
            "type": "scattermap"
           }
          ],
          "scattermapbox": [
           {
            "marker": {
             "colorbar": {
              "outlinewidth": 0,
              "ticks": ""
             }
            },
            "type": "scattermapbox"
           }
          ],
          "scatterpolar": [
           {
            "marker": {
             "colorbar": {
              "outlinewidth": 0,
              "ticks": ""
             }
            },
            "type": "scatterpolar"
           }
          ],
          "scatterpolargl": [
           {
            "marker": {
             "colorbar": {
              "outlinewidth": 0,
              "ticks": ""
             }
            },
            "type": "scatterpolargl"
           }
          ],
          "scatterternary": [
           {
            "marker": {
             "colorbar": {
              "outlinewidth": 0,
              "ticks": ""
             }
            },
            "type": "scatterternary"
           }
          ],
          "surface": [
           {
            "colorbar": {
             "outlinewidth": 0,
             "ticks": ""
            },
            "colorscale": [
             [
              0,
              "#0d0887"
             ],
             [
              0.1111111111111111,
              "#46039f"
             ],
             [
              0.2222222222222222,
              "#7201a8"
             ],
             [
              0.3333333333333333,
              "#9c179e"
             ],
             [
              0.4444444444444444,
              "#bd3786"
             ],
             [
              0.5555555555555556,
              "#d8576b"
             ],
             [
              0.6666666666666666,
              "#ed7953"
             ],
             [
              0.7777777777777778,
              "#fb9f3a"
             ],
             [
              0.8888888888888888,
              "#fdca26"
             ],
             [
              1,
              "#f0f921"
             ]
            ],
            "type": "surface"
           }
          ],
          "table": [
           {
            "cells": {
             "fill": {
              "color": "#EBF0F8"
             },
             "line": {
              "color": "white"
             }
            },
            "header": {
             "fill": {
              "color": "#C8D4E3"
             },
             "line": {
              "color": "white"
             }
            },
            "type": "table"
           }
          ]
         },
         "layout": {
          "annotationdefaults": {
           "arrowcolor": "#2a3f5f",
           "arrowhead": 0,
           "arrowwidth": 1
          },
          "autotypenumbers": "strict",
          "coloraxis": {
           "colorbar": {
            "outlinewidth": 0,
            "ticks": ""
           }
          },
          "colorscale": {
           "diverging": [
            [
             0,
             "#8e0152"
            ],
            [
             0.1,
             "#c51b7d"
            ],
            [
             0.2,
             "#de77ae"
            ],
            [
             0.3,
             "#f1b6da"
            ],
            [
             0.4,
             "#fde0ef"
            ],
            [
             0.5,
             "#f7f7f7"
            ],
            [
             0.6,
             "#e6f5d0"
            ],
            [
             0.7,
             "#b8e186"
            ],
            [
             0.8,
             "#7fbc41"
            ],
            [
             0.9,
             "#4d9221"
            ],
            [
             1,
             "#276419"
            ]
           ],
           "sequential": [
            [
             0,
             "#0d0887"
            ],
            [
             0.1111111111111111,
             "#46039f"
            ],
            [
             0.2222222222222222,
             "#7201a8"
            ],
            [
             0.3333333333333333,
             "#9c179e"
            ],
            [
             0.4444444444444444,
             "#bd3786"
            ],
            [
             0.5555555555555556,
             "#d8576b"
            ],
            [
             0.6666666666666666,
             "#ed7953"
            ],
            [
             0.7777777777777778,
             "#fb9f3a"
            ],
            [
             0.8888888888888888,
             "#fdca26"
            ],
            [
             1,
             "#f0f921"
            ]
           ],
           "sequentialminus": [
            [
             0,
             "#0d0887"
            ],
            [
             0.1111111111111111,
             "#46039f"
            ],
            [
             0.2222222222222222,
             "#7201a8"
            ],
            [
             0.3333333333333333,
             "#9c179e"
            ],
            [
             0.4444444444444444,
             "#bd3786"
            ],
            [
             0.5555555555555556,
             "#d8576b"
            ],
            [
             0.6666666666666666,
             "#ed7953"
            ],
            [
             0.7777777777777778,
             "#fb9f3a"
            ],
            [
             0.8888888888888888,
             "#fdca26"
            ],
            [
             1,
             "#f0f921"
            ]
           ]
          },
          "colorway": [
           "#636efa",
           "#EF553B",
           "#00cc96",
           "#ab63fa",
           "#FFA15A",
           "#19d3f3",
           "#FF6692",
           "#B6E880",
           "#FF97FF",
           "#FECB52"
          ],
          "font": {
           "color": "#2a3f5f"
          },
          "geo": {
           "bgcolor": "white",
           "lakecolor": "white",
           "landcolor": "#E5ECF6",
           "showlakes": true,
           "showland": true,
           "subunitcolor": "white"
          },
          "hoverlabel": {
           "align": "left"
          },
          "hovermode": "closest",
          "mapbox": {
           "style": "light"
          },
          "paper_bgcolor": "white",
          "plot_bgcolor": "#E5ECF6",
          "polar": {
           "angularaxis": {
            "gridcolor": "white",
            "linecolor": "white",
            "ticks": ""
           },
           "bgcolor": "#E5ECF6",
           "radialaxis": {
            "gridcolor": "white",
            "linecolor": "white",
            "ticks": ""
           }
          },
          "scene": {
           "xaxis": {
            "backgroundcolor": "#E5ECF6",
            "gridcolor": "white",
            "gridwidth": 2,
            "linecolor": "white",
            "showbackground": true,
            "ticks": "",
            "zerolinecolor": "white"
           },
           "yaxis": {
            "backgroundcolor": "#E5ECF6",
            "gridcolor": "white",
            "gridwidth": 2,
            "linecolor": "white",
            "showbackground": true,
            "ticks": "",
            "zerolinecolor": "white"
           },
           "zaxis": {
            "backgroundcolor": "#E5ECF6",
            "gridcolor": "white",
            "gridwidth": 2,
            "linecolor": "white",
            "showbackground": true,
            "ticks": "",
            "zerolinecolor": "white"
           }
          },
          "shapedefaults": {
           "line": {
            "color": "#2a3f5f"
           }
          },
          "ternary": {
           "aaxis": {
            "gridcolor": "white",
            "linecolor": "white",
            "ticks": ""
           },
           "baxis": {
            "gridcolor": "white",
            "linecolor": "white",
            "ticks": ""
           },
           "bgcolor": "#E5ECF6",
           "caxis": {
            "gridcolor": "white",
            "linecolor": "white",
            "ticks": ""
           }
          },
          "title": {
           "x": 0.05
          },
          "xaxis": {
           "automargin": true,
           "gridcolor": "white",
           "linecolor": "white",
           "ticks": "",
           "title": {
            "standoff": 15
           },
           "zerolinecolor": "white",
           "zerolinewidth": 2
          },
          "yaxis": {
           "automargin": true,
           "gridcolor": "white",
           "linecolor": "white",
           "ticks": "",
           "title": {
            "standoff": 15
           },
           "zerolinecolor": "white",
           "zerolinewidth": 2
          }
         }
        },
        "xaxis": {
         "anchor": "y",
         "domain": [
          0,
          1
         ],
         "title": {
          "text": "battery_capacity_kWh"
         }
        },
        "yaxis": {
         "anchor": "x",
         "domain": [
          0,
          1
         ],
         "title": {
          "text": "range_km"
         }
        }
       }
      }
     },
     "metadata": {},
     "output_type": "display_data"
    }
   ],
   "source": [
    "#battery capacity vs. range vs. segment_group\n",
    "import plotly.express as px\n",
    "fig = px.scatter(\n",
    "    data,\n",
    "    x='battery_capacity_kWh',\n",
    "    y='range_km',\n",
    "    color='segment_group'\n",
    ")\n",
    "\n",
    "fig.show()"
   ]
  },
  {
   "cell_type": "code",
   "execution_count": 25,
   "id": "a45ceb07-a17b-4cc0-b3f9-919aa848406c",
   "metadata": {},
   "outputs": [
    {
     "data": {
      "application/vnd.plotly.v1+json": {
       "config": {
        "plotlyServerURL": "https://plot.ly"
       },
       "data": [
        {
         "hovertemplate": "segment_group=Compact<br>efficiency_wh_per_km=%{x}<br>range_km=%{y}<extra></extra>",
         "legendgroup": "Compact",
         "marker": {
          "color": "#636efa",
          "symbol": "circle"
         },
         "mode": "markers",
         "name": "Compact",
         "orientation": "v",
         "showlegend": true,
         "type": "scatter",
         "x": {
          "bdata": "nACVAJ4AngCAAKQAigCQAJEAiACGAIsAhwCQAIAAfgCBAHAAegBwAH0AcAB2AHwAiAB+AJYAgACQAIQAiwCFAHoAmwCZAIEAjwCBAH0AhwB/AIMAeACQAH4AiAB9AIQAeAB8AH8AhACBAIEAmwCNAJgAlACbAJgAlACVAIgAkQCPAJgAkwCKAJEAlACSAJkAfQA=",
          "dtype": "i2"
         },
         "xaxis": "x",
         "y": {
          "bdata": "4QDhABgBGAFAATYBNgExAfUAvgAOAQkB/wDwACwBvgD/AIcA6wCHAOYAhwDrADYBBAETAU8BJwGGATYBxwFFATYBcgEJAeYAGAEiAfoAIgFKASIBOwH1AB0BDgEsASIBNgH1ADsB+gD/AEABRQFPAfoATwFFAfoATwFPAWMBCQFjAUoBEwFtAVQBCQFoAV4B+gA=",
          "dtype": "i2"
         },
         "yaxis": "y"
        },
        {
         "hovertemplate": "segment_group=Medium<br>efficiency_wh_per_km=%{x}<br>range_km=%{y}<extra></extra>",
         "legendgroup": "Medium",
         "marker": {
          "color": "#EF553B",
          "symbol": "circle"
         },
         "mode": "markers",
         "name": "Medium",
         "orientation": "v",
         "showlegend": true,
         "type": "scatter",
         "x": {
          "bdata": "nACWAJwAogClAKUAnwCpAKsAqwCWAJsAkwCbAJAAhACRAI4AnACdAJUAjgCWAIcAegCEAHcAggCZAIsAiQCSAI0AlACPAJ0AnwCIAKIAmwCzAJQAnACEAIYAfACAALIAjwCaAIwAjACVAJEAlQCRAI4AjwCgAJcAlACLAIYAkgCOAKIAogCYAKgAqACMAJUArwCpAL4A0QCYAIAAewCRAJIAjwDDAJEAfAB/AH0AhQCQAI8AlQCVAJEAlwCRAI0AlgCNAIoAkgCPAJMAmgCaAJEAgwCDAIgAigCGAJgAlQCbAI8AkACKAI4AlwCSAJsAmwCaAJgAowCjAA==",
          "dtype": "i2"
         },
         "xaxis": "x",
         "y": {
          "bdata": "OwFeAVQBswGaAZ8BRQGkAYsBiwGGAXwBiwGBAVQBCQEEAV4BaAHMAdEBvQGpAR0BRQEiAU8BdwG4AbMBMQEEAVQBRQGGAXcBaAFZAb0BwgGGAXIBcgHbAVQB7wFjAYEBxwG4AVkBgQFtAVQBcgEsAWgBqQFAAU8BCQETAW0BiwGkAV4BXgGfAVkBWQF8AW0BTwHCAZUBgQFZAUABNgFtAZoBfAF3AfQBLAEsAXwBfAFUAeABNgFeAcIBwgFoAccBwgFyAdYBzAHWAcwBQAFZAV4B1gHRAW0B0QFFAaQBvQGzAR0BrgHMAUABaAGkAZABkAFZAZABgQGBAQ==",
          "dtype": "i2"
         },
         "yaxis": "y"
        },
        {
         "hovertemplate": "segment_group=Executive<br>efficiency_wh_per_km=%{x}<br>range_km=%{y}<extra></extra>",
         "legendgroup": "Executive",
         "marker": {
          "color": "#00cc96",
          "symbol": "circle"
         },
         "mode": "markers",
         "name": "Executive",
         "orientation": "v",
         "showlegend": true,
         "type": "scatter",
         "x": {
          "bdata": "kgCXAJ0AiACNAJMAnACVAKwAswCfAKUApwCuANEAwQDCAM0A3ACjAK0ApACtAM8A0AC2AL0ApAC7ANYA8gCqALUApwCvALIAqQC3AMIApgClAJ0AkQCEAIUAkwCSAH0AyACzAKMApQCkAJAApACYAJ8AogA=",
          "dtype": "i2"
         },
         "xaxis": "x",
         "y": {
          "bdata": "0QE/AjAC7wFiAk4CEgIrAq4BqQHgAdEB0QHCAfQB1gENAswBkAENAgMCKwL5AcIBwgHCAbMB2wHHAakBpAGzAW0B9AGaAeUBkAEDAu8BEgLlAe8B9AHbAQ0C9AHWAQgC4AHRAeABiwHMAe8BxwH5AeAB4AE=",
          "dtype": "i2"
         },
         "yaxis": "y"
        },
        {
         "hovertemplate": "segment_group=Large<br>efficiency_wh_per_km=%{x}<br>range_km=%{y}<extra></extra>",
         "legendgroup": "Large",
         "marker": {
          "color": "#ab63fa",
          "symbol": "circle"
         },
         "mode": "markers",
         "name": "Large",
         "orientation": "v",
         "showlegend": true,
         "type": "scatter",
         "x": {
          "bdata": "pgCLAJEAlQCrALAAqQCkAMUArgCuALcAhQCfAJEAqwCuALUAqwC2AJIAjQCIAMsAlACHAKMAoAClAJMAmACxALEAsgCyAJoAmgChAJIAkgCjAIgAjwB1ANAApgCeAIoAiAB6AH4AgQCWAMsAmACOAI4AggCBALgAugCxALcApgCVAK4AnwCgAJ8ArgCuAHcAdQCOAHQAhAB5AHkAugDEAJ8AmgCYAJkArQCUAA==",
          "dtype": "i2"
         },
         "xaxis": "x",
         "y": {
          "bdata": "iwGaAf4B9AHqAeAB1gHvAcIBrgEDAuoBbQG9AeABaAGpAZABnwGuARICnwEhAoYBxwHHAUABswG9AdsB4AGpAbMBnwGaAYEBfAGuAV4BXgFeAe8BuAFPAXwBXgFeAYYBuAE1AiYCdwFyAWgB5QHHAcIB2wGVAdYB1gHvAcwBhgFKAcIB0QFyAdEBxwHHAQ0CIQLqAb0BxwHWAXcBlQGQAdsB4AFyAdsBwgFtAQ==",
          "dtype": "i2"
         },
         "yaxis": "y"
        },
        {
         "hovertemplate": "segment_group=Luxury<br>efficiency_wh_per_km=%{x}<br>range_km=%{y}<extra></extra>",
         "legendgroup": "Luxury",
         "marker": {
          "color": "#FFA15A",
          "symbol": "circle"
         },
         "mode": "markers",
         "name": "Luxury",
         "orientation": "v",
         "showlegend": true,
         "type": "scatter",
         "x": {
          "bdata": "uAC2AKwAqQDQALEArADAAJ8A2QDBAMIAsQCrALEApQC8AL4AvgCrAMwACgHeAMYA4wDGAI8AggCOAMYAtgClALQArQC0ALQA3gDHAMMAxwDHANMACwG5AMYAuQDEALIAvwCkAKwAvACvAK4AvACxALoAtwCwALkAqACwAK0ArgC8ALgAtACuALwAtwC4AMAAlgCeAKUAtACHAJIAkgC2ALwAvAA=",
          "dtype": "i2"
         },
         "xaxis": "x",
         "y": {
          "bdata": "DQINAhwCHALqAQgC/gHMAbgBxwFAAXIB6gH0AeABYwGzAaQBqQHCAe8BxwHgAQgC0QEIApkCNQJEAosBpAE6Ao8CrQKAAoACSQISAhwCEgISAuoBaAGuAWMBuAFoAfkBnwHvAeoB/gE1AuoB/gE1Av4BuAEXAvkBPwISAswBFwLvAdsB2wENAuUB+QH5AdEBPwIwAuUB0QHlARICEgLMAdYBxwE=",
          "dtype": "i2"
         },
         "yaxis": "y"
        },
        {
         "hovertemplate": "segment_group=Passenger Van<br>efficiency_wh_per_km=%{x}<br>range_km=%{y}<extra></extra>",
         "legendgroup": "Passenger Van",
         "marker": {
          "color": "#19d3f3",
          "symbol": "circle"
         },
         "mode": "markers",
         "name": "Passenger Van",
         "orientation": "v",
         "showlegend": true,
         "type": "scatter",
         "x": {
          "bdata": "lQCVANkAygDbAMwApAByAXIBcgFyAcMAsQCnABoBGgH5ABQB/gADAQQBngCtAJUAlQDZAMoA2wDMAJgAmQDZAMoA2wDMAJ4AqgDMANkAygCVAJUAtgC+AMIAuwCyAA==",
          "dtype": "i2"
         },
         "xaxis": "x",
         "y": {
          "bdata": "6wDmALQABAG0AAQByADrAOsA6wDrAG0B3ADhANIA1wA7AUAB1wDcAEUB4QDcAOsA5gC0AAQBtAAEAesA5gC0AAQBtAAEAeEA3AAEAbQABAHrAOYAXgFyAUoBaAETAQ==",
          "dtype": "i2"
         },
         "yaxis": "y"
        },
        {
         "hovertemplate": "segment_group=Mini<br>efficiency_wh_per_km=%{x}<br>range_km=%{y}<extra></extra>",
         "legendgroup": "Mini",
         "marker": {
          "color": "#FF6692",
          "symbol": "circle"
         },
         "mode": "markers",
         "name": "Mini",
         "orientation": "v",
         "showlegend": true,
         "type": "scatter",
         "x": {
          "bdata": "bQByAHwAdwCIAA==",
          "dtype": "i2"
         },
         "xaxis": "x",
         "y": {
          "bdata": "pQCgACwB/wDhAA==",
          "dtype": "i2"
         },
         "yaxis": "y"
        },
        {
         "hovertemplate": "segment_group=Sports<br>efficiency_wh_per_km=%{x}<br>range_km=%{y}<extra></extra>",
         "legendgroup": "Sports",
         "marker": {
          "color": "#B6E880",
          "symbol": "circle"
         },
         "mode": "markers",
         "name": "Sports",
         "orientation": "v",
         "showlegend": true,
         "type": "scatter",
         "x": {
          "bdata": "qACSAA==",
          "dtype": "i2"
         },
         "xaxis": "x",
         "y": {
          "bdata": "iwGpAQ==",
          "dtype": "i2"
         },
         "yaxis": "y"
        }
       ],
       "layout": {
        "legend": {
         "title": {
          "text": "segment_group"
         },
         "tracegroupgap": 0
        },
        "margin": {
         "t": 60
        },
        "template": {
         "data": {
          "bar": [
           {
            "error_x": {
             "color": "#2a3f5f"
            },
            "error_y": {
             "color": "#2a3f5f"
            },
            "marker": {
             "line": {
              "color": "#E5ECF6",
              "width": 0.5
             },
             "pattern": {
              "fillmode": "overlay",
              "size": 10,
              "solidity": 0.2
             }
            },
            "type": "bar"
           }
          ],
          "barpolar": [
           {
            "marker": {
             "line": {
              "color": "#E5ECF6",
              "width": 0.5
             },
             "pattern": {
              "fillmode": "overlay",
              "size": 10,
              "solidity": 0.2
             }
            },
            "type": "barpolar"
           }
          ],
          "carpet": [
           {
            "aaxis": {
             "endlinecolor": "#2a3f5f",
             "gridcolor": "white",
             "linecolor": "white",
             "minorgridcolor": "white",
             "startlinecolor": "#2a3f5f"
            },
            "baxis": {
             "endlinecolor": "#2a3f5f",
             "gridcolor": "white",
             "linecolor": "white",
             "minorgridcolor": "white",
             "startlinecolor": "#2a3f5f"
            },
            "type": "carpet"
           }
          ],
          "choropleth": [
           {
            "colorbar": {
             "outlinewidth": 0,
             "ticks": ""
            },
            "type": "choropleth"
           }
          ],
          "contour": [
           {
            "colorbar": {
             "outlinewidth": 0,
             "ticks": ""
            },
            "colorscale": [
             [
              0,
              "#0d0887"
             ],
             [
              0.1111111111111111,
              "#46039f"
             ],
             [
              0.2222222222222222,
              "#7201a8"
             ],
             [
              0.3333333333333333,
              "#9c179e"
             ],
             [
              0.4444444444444444,
              "#bd3786"
             ],
             [
              0.5555555555555556,
              "#d8576b"
             ],
             [
              0.6666666666666666,
              "#ed7953"
             ],
             [
              0.7777777777777778,
              "#fb9f3a"
             ],
             [
              0.8888888888888888,
              "#fdca26"
             ],
             [
              1,
              "#f0f921"
             ]
            ],
            "type": "contour"
           }
          ],
          "contourcarpet": [
           {
            "colorbar": {
             "outlinewidth": 0,
             "ticks": ""
            },
            "type": "contourcarpet"
           }
          ],
          "heatmap": [
           {
            "colorbar": {
             "outlinewidth": 0,
             "ticks": ""
            },
            "colorscale": [
             [
              0,
              "#0d0887"
             ],
             [
              0.1111111111111111,
              "#46039f"
             ],
             [
              0.2222222222222222,
              "#7201a8"
             ],
             [
              0.3333333333333333,
              "#9c179e"
             ],
             [
              0.4444444444444444,
              "#bd3786"
             ],
             [
              0.5555555555555556,
              "#d8576b"
             ],
             [
              0.6666666666666666,
              "#ed7953"
             ],
             [
              0.7777777777777778,
              "#fb9f3a"
             ],
             [
              0.8888888888888888,
              "#fdca26"
             ],
             [
              1,
              "#f0f921"
             ]
            ],
            "type": "heatmap"
           }
          ],
          "histogram": [
           {
            "marker": {
             "pattern": {
              "fillmode": "overlay",
              "size": 10,
              "solidity": 0.2
             }
            },
            "type": "histogram"
           }
          ],
          "histogram2d": [
           {
            "colorbar": {
             "outlinewidth": 0,
             "ticks": ""
            },
            "colorscale": [
             [
              0,
              "#0d0887"
             ],
             [
              0.1111111111111111,
              "#46039f"
             ],
             [
              0.2222222222222222,
              "#7201a8"
             ],
             [
              0.3333333333333333,
              "#9c179e"
             ],
             [
              0.4444444444444444,
              "#bd3786"
             ],
             [
              0.5555555555555556,
              "#d8576b"
             ],
             [
              0.6666666666666666,
              "#ed7953"
             ],
             [
              0.7777777777777778,
              "#fb9f3a"
             ],
             [
              0.8888888888888888,
              "#fdca26"
             ],
             [
              1,
              "#f0f921"
             ]
            ],
            "type": "histogram2d"
           }
          ],
          "histogram2dcontour": [
           {
            "colorbar": {
             "outlinewidth": 0,
             "ticks": ""
            },
            "colorscale": [
             [
              0,
              "#0d0887"
             ],
             [
              0.1111111111111111,
              "#46039f"
             ],
             [
              0.2222222222222222,
              "#7201a8"
             ],
             [
              0.3333333333333333,
              "#9c179e"
             ],
             [
              0.4444444444444444,
              "#bd3786"
             ],
             [
              0.5555555555555556,
              "#d8576b"
             ],
             [
              0.6666666666666666,
              "#ed7953"
             ],
             [
              0.7777777777777778,
              "#fb9f3a"
             ],
             [
              0.8888888888888888,
              "#fdca26"
             ],
             [
              1,
              "#f0f921"
             ]
            ],
            "type": "histogram2dcontour"
           }
          ],
          "mesh3d": [
           {
            "colorbar": {
             "outlinewidth": 0,
             "ticks": ""
            },
            "type": "mesh3d"
           }
          ],
          "parcoords": [
           {
            "line": {
             "colorbar": {
              "outlinewidth": 0,
              "ticks": ""
             }
            },
            "type": "parcoords"
           }
          ],
          "pie": [
           {
            "automargin": true,
            "type": "pie"
           }
          ],
          "scatter": [
           {
            "fillpattern": {
             "fillmode": "overlay",
             "size": 10,
             "solidity": 0.2
            },
            "type": "scatter"
           }
          ],
          "scatter3d": [
           {
            "line": {
             "colorbar": {
              "outlinewidth": 0,
              "ticks": ""
             }
            },
            "marker": {
             "colorbar": {
              "outlinewidth": 0,
              "ticks": ""
             }
            },
            "type": "scatter3d"
           }
          ],
          "scattercarpet": [
           {
            "marker": {
             "colorbar": {
              "outlinewidth": 0,
              "ticks": ""
             }
            },
            "type": "scattercarpet"
           }
          ],
          "scattergeo": [
           {
            "marker": {
             "colorbar": {
              "outlinewidth": 0,
              "ticks": ""
             }
            },
            "type": "scattergeo"
           }
          ],
          "scattergl": [
           {
            "marker": {
             "colorbar": {
              "outlinewidth": 0,
              "ticks": ""
             }
            },
            "type": "scattergl"
           }
          ],
          "scattermap": [
           {
            "marker": {
             "colorbar": {
              "outlinewidth": 0,
              "ticks": ""
             }
            },
            "type": "scattermap"
           }
          ],
          "scattermapbox": [
           {
            "marker": {
             "colorbar": {
              "outlinewidth": 0,
              "ticks": ""
             }
            },
            "type": "scattermapbox"
           }
          ],
          "scatterpolar": [
           {
            "marker": {
             "colorbar": {
              "outlinewidth": 0,
              "ticks": ""
             }
            },
            "type": "scatterpolar"
           }
          ],
          "scatterpolargl": [
           {
            "marker": {
             "colorbar": {
              "outlinewidth": 0,
              "ticks": ""
             }
            },
            "type": "scatterpolargl"
           }
          ],
          "scatterternary": [
           {
            "marker": {
             "colorbar": {
              "outlinewidth": 0,
              "ticks": ""
             }
            },
            "type": "scatterternary"
           }
          ],
          "surface": [
           {
            "colorbar": {
             "outlinewidth": 0,
             "ticks": ""
            },
            "colorscale": [
             [
              0,
              "#0d0887"
             ],
             [
              0.1111111111111111,
              "#46039f"
             ],
             [
              0.2222222222222222,
              "#7201a8"
             ],
             [
              0.3333333333333333,
              "#9c179e"
             ],
             [
              0.4444444444444444,
              "#bd3786"
             ],
             [
              0.5555555555555556,
              "#d8576b"
             ],
             [
              0.6666666666666666,
              "#ed7953"
             ],
             [
              0.7777777777777778,
              "#fb9f3a"
             ],
             [
              0.8888888888888888,
              "#fdca26"
             ],
             [
              1,
              "#f0f921"
             ]
            ],
            "type": "surface"
           }
          ],
          "table": [
           {
            "cells": {
             "fill": {
              "color": "#EBF0F8"
             },
             "line": {
              "color": "white"
             }
            },
            "header": {
             "fill": {
              "color": "#C8D4E3"
             },
             "line": {
              "color": "white"
             }
            },
            "type": "table"
           }
          ]
         },
         "layout": {
          "annotationdefaults": {
           "arrowcolor": "#2a3f5f",
           "arrowhead": 0,
           "arrowwidth": 1
          },
          "autotypenumbers": "strict",
          "coloraxis": {
           "colorbar": {
            "outlinewidth": 0,
            "ticks": ""
           }
          },
          "colorscale": {
           "diverging": [
            [
             0,
             "#8e0152"
            ],
            [
             0.1,
             "#c51b7d"
            ],
            [
             0.2,
             "#de77ae"
            ],
            [
             0.3,
             "#f1b6da"
            ],
            [
             0.4,
             "#fde0ef"
            ],
            [
             0.5,
             "#f7f7f7"
            ],
            [
             0.6,
             "#e6f5d0"
            ],
            [
             0.7,
             "#b8e186"
            ],
            [
             0.8,
             "#7fbc41"
            ],
            [
             0.9,
             "#4d9221"
            ],
            [
             1,
             "#276419"
            ]
           ],
           "sequential": [
            [
             0,
             "#0d0887"
            ],
            [
             0.1111111111111111,
             "#46039f"
            ],
            [
             0.2222222222222222,
             "#7201a8"
            ],
            [
             0.3333333333333333,
             "#9c179e"
            ],
            [
             0.4444444444444444,
             "#bd3786"
            ],
            [
             0.5555555555555556,
             "#d8576b"
            ],
            [
             0.6666666666666666,
             "#ed7953"
            ],
            [
             0.7777777777777778,
             "#fb9f3a"
            ],
            [
             0.8888888888888888,
             "#fdca26"
            ],
            [
             1,
             "#f0f921"
            ]
           ],
           "sequentialminus": [
            [
             0,
             "#0d0887"
            ],
            [
             0.1111111111111111,
             "#46039f"
            ],
            [
             0.2222222222222222,
             "#7201a8"
            ],
            [
             0.3333333333333333,
             "#9c179e"
            ],
            [
             0.4444444444444444,
             "#bd3786"
            ],
            [
             0.5555555555555556,
             "#d8576b"
            ],
            [
             0.6666666666666666,
             "#ed7953"
            ],
            [
             0.7777777777777778,
             "#fb9f3a"
            ],
            [
             0.8888888888888888,
             "#fdca26"
            ],
            [
             1,
             "#f0f921"
            ]
           ]
          },
          "colorway": [
           "#636efa",
           "#EF553B",
           "#00cc96",
           "#ab63fa",
           "#FFA15A",
           "#19d3f3",
           "#FF6692",
           "#B6E880",
           "#FF97FF",
           "#FECB52"
          ],
          "font": {
           "color": "#2a3f5f"
          },
          "geo": {
           "bgcolor": "white",
           "lakecolor": "white",
           "landcolor": "#E5ECF6",
           "showlakes": true,
           "showland": true,
           "subunitcolor": "white"
          },
          "hoverlabel": {
           "align": "left"
          },
          "hovermode": "closest",
          "mapbox": {
           "style": "light"
          },
          "paper_bgcolor": "white",
          "plot_bgcolor": "#E5ECF6",
          "polar": {
           "angularaxis": {
            "gridcolor": "white",
            "linecolor": "white",
            "ticks": ""
           },
           "bgcolor": "#E5ECF6",
           "radialaxis": {
            "gridcolor": "white",
            "linecolor": "white",
            "ticks": ""
           }
          },
          "scene": {
           "xaxis": {
            "backgroundcolor": "#E5ECF6",
            "gridcolor": "white",
            "gridwidth": 2,
            "linecolor": "white",
            "showbackground": true,
            "ticks": "",
            "zerolinecolor": "white"
           },
           "yaxis": {
            "backgroundcolor": "#E5ECF6",
            "gridcolor": "white",
            "gridwidth": 2,
            "linecolor": "white",
            "showbackground": true,
            "ticks": "",
            "zerolinecolor": "white"
           },
           "zaxis": {
            "backgroundcolor": "#E5ECF6",
            "gridcolor": "white",
            "gridwidth": 2,
            "linecolor": "white",
            "showbackground": true,
            "ticks": "",
            "zerolinecolor": "white"
           }
          },
          "shapedefaults": {
           "line": {
            "color": "#2a3f5f"
           }
          },
          "ternary": {
           "aaxis": {
            "gridcolor": "white",
            "linecolor": "white",
            "ticks": ""
           },
           "baxis": {
            "gridcolor": "white",
            "linecolor": "white",
            "ticks": ""
           },
           "bgcolor": "#E5ECF6",
           "caxis": {
            "gridcolor": "white",
            "linecolor": "white",
            "ticks": ""
           }
          },
          "title": {
           "x": 0.05
          },
          "xaxis": {
           "automargin": true,
           "gridcolor": "white",
           "linecolor": "white",
           "ticks": "",
           "title": {
            "standoff": 15
           },
           "zerolinecolor": "white",
           "zerolinewidth": 2
          },
          "yaxis": {
           "automargin": true,
           "gridcolor": "white",
           "linecolor": "white",
           "ticks": "",
           "title": {
            "standoff": 15
           },
           "zerolinecolor": "white",
           "zerolinewidth": 2
          }
         }
        },
        "xaxis": {
         "anchor": "y",
         "domain": [
          0,
          1
         ],
         "title": {
          "text": "efficiency_wh_per_km"
         }
        },
        "yaxis": {
         "anchor": "x",
         "domain": [
          0,
          1
         ],
         "title": {
          "text": "range_km"
         }
        }
       }
      },
      "image/png": "[encoded data removed]"
     },
     "metadata": {},
     "output_type": "display_data"
    }
   ],
   "source": [
    "#battery capacity vs. range vs. segment_group\n",
    "\n",
    "fig = px.scatter(\n",
    "    data,\n",
    "    x='efficiency_wh_per_km',\n",
    "    y='range_km',\n",
    "    color='segment_group'\n",
    ")\n",
    "\n",
    "fig.show()"
   ]
  },
  {
   "cell_type": "code",
   "execution_count": 26,
   "id": "86056c5f-59cc-4c26-a04b-1cc49f6f93fa",
   "metadata": {},
   "outputs": [
    {
     "data": {
      "application/vnd.plotly.v1+json": {
       "config": {
        "plotlyServerURL": "https://plot.ly"
       },
       "data": [
        {
         "hovertemplate": "segment_group=Compact<br>car_body_type=Hatchback<br>top_speed_kmh=%{x}<br>range_km=%{y}<extra></extra>",
         "legendgroup": "Compact",
         "marker": {
          "color": "#636efa",
          "opacity": 0.7,
          "symbol": "circle"
         },
         "mode": "markers",
         "name": "Compact",
         "orientation": "v",
         "showlegend": true,
         "type": "scatter",
         "x": {
          "bdata": "mwCbAKAAqgCWAJYAlgCHAIwAjACHAJYAhwCWAIQAlgCgAMgAqgCWAJYAlgCWAJYAggCWAJYA",
          "dtype": "i2"
         },
         "xaxis": "x",
         "y": {
          "bdata": "4QDhADYBMQG+AA4BCQH/AL4A/wCHAOsAhwDrAAQBNgH6ACIBSgEiATsBIgE2AfoA/wBAAfoA",
          "dtype": "i2"
         },
         "yaxis": "y"
        },
        {
         "hovertemplate": "segment_group=Compact<br>car_body_type=SUV<br>top_speed_kmh=%{x}<br>range_km=%{y}<extra></extra>",
         "legendgroup": "Compact",
         "marker": {
          "color": "#636efa",
          "opacity": 0.7,
          "symbol": "circle"
         },
         "mode": "markers",
         "name": "Compact",
         "orientation": "v",
         "showlegend": false,
         "type": "scatter",
         "x": {
          "bdata": "yADIAJYAyACgAJEAlgCWAKAAoACgAKoAlgCqAKoArwCvAKAAyACqAIwAlgCWAJYAlgCWALQAtAC0ALQAtAC0ALQAtAC0ALQAtAC0ALQAtAC0AL4AvgC+AA==",
          "dtype": "i2"
         },
         "xaxis": "x2",
         "y": {
          "bdata": "GAEYAUABNgH1APAALAE2ARMBTwEnAYYBNgHHAUUBcgEJAeYAGAEiAfUAHQEOASwB9QA7AUUBTwH6AE8BRQH6AE8BTwFjAQkBYwFKARMBbQFUAQkBaAFeAQ==",
          "dtype": "i2"
         },
         "yaxis": "y2"
        },
        {
         "hovertemplate": "segment_group=Compact<br>car_body_type=Cabriolet<br>top_speed_kmh=%{x}<br>range_km=%{y}<extra></extra>",
         "legendgroup": "Compact",
         "marker": {
          "color": "#636efa",
          "opacity": 0.7,
          "symbol": "circle"
         },
         "mode": "markers",
         "name": "Compact",
         "orientation": "v",
         "showlegend": false,
         "type": "scatter",
         "x": {
          "bdata": "hwCWAA==",
          "dtype": "i2"
         },
         "xaxis": "x7",
         "y": {
          "bdata": "hwDmAA==",
          "dtype": "i2"
         },
         "yaxis": "y7"
        },
        {
         "hovertemplate": "segment_group=Medium<br>car_body_type=Hatchback<br>top_speed_kmh=%{x}<br>range_km=%{y}<extra></extra>",
         "legendgroup": "Medium",
         "marker": {
          "color": "#EF553B",
          "opacity": 0.7,
          "symbol": "circle"
         },
         "mode": "markers",
         "name": "Medium",
         "orientation": "v",
         "showlegend": true,
         "type": "scatter",
         "x": {
          "bdata": "lgCgAKAAoACgAMgAlgCWAKAAoACgAKAAqgCqAKAAoAC0AMgAqgCqAJYAoAC0AMgAoACgAKAA",
          "dtype": "i2"
         },
         "xaxis": "x",
         "y": {
          "bdata": "CQEEAV4BaAHMAdEBHQFFAXcBBAFUAUUB2wFUASwBaAGpAUABQAEsAXwBfAHWAdEBbQHRAUUB",
          "dtype": "i2"
         },
         "yaxis": "y"
        },
        {
         "hovertemplate": "segment_group=Medium<br>car_body_type=SUV<br>top_speed_kmh=%{x}<br>range_km=%{y}<extra></extra>",
         "legendgroup": "Medium",
         "marker": {
          "color": "#EF553B",
          "opacity": 0.7,
          "symbol": "circle"
         },
         "mode": "markers",
         "name": "Medium",
         "orientation": "v",
         "showlegend": false,
         "type": "scatter",
         "x": {
          "bdata": "lgCgAKAAtAC0ALQAoAC0ALQAtACqALQAqgC0AKAAtAC0ALQAtACgALkAyADrALkAuQC5AAQBtACvAAQBuQC5ALkApwCgAKAAtACqAL4AoACgAKAAoACgAKAAoACqALQAoACgAMgAyACsAKoAqgCqAKoAqgCWAKoAoACgALQAtACgALQAtACgALQAtAC0ALQAoACgAKAAtAC0ALQAoAC0ALQAoAC0ALQAtAC0ALQAtAC0ALQA",
          "dtype": "i2"
         },
         "xaxis": "x2",
         "y": {
          "bdata": "OwFeAVQBswGaAZ8BRQGkAYsBiwGGAXwBiwGBAVQBvQGpAbgBswExAYYBdwFoAVkBvQHCAYYBcgFyAYEBxwG4AVkBgQFtAVQBcgETAW0BiwGkAV4BXgGfAVkBWQF8AW0BTwHCAZUBgQFZAW0BmgF8AXcB9AFUAeABNgFeAcIBwgFoAccBwgFyAdYBzAHWAcwBQAFZAV4BpAG9AbMBHQGuAcwBQAFoAaQBkAGQAVkBkAGBAYEB",
          "dtype": "i2"
         },
         "yaxis": "y2"
        },
        {
         "hovertemplate": "segment_group=Medium<br>car_body_type=Station/Estate<br>top_speed_kmh=%{x}<br>range_km=%{y}<extra></extra>",
         "legendgroup": "Medium",
         "marker": {
          "color": "#EF553B",
          "opacity": 0.7,
          "symbol": "circle"
         },
         "mode": "markers",
         "name": "Medium",
         "orientation": "v",
         "showlegend": false,
         "type": "scatter",
         "x": {
          "bdata": "uQC5AKoAlgA=",
          "dtype": "i2"
         },
         "xaxis": "x3",
         "y": {
          "bdata": "TwEJATYBLAE=",
          "dtype": "i2"
         },
         "yaxis": "y3"
        },
        {
         "hovertemplate": "segment_group=Medium<br>car_body_type=Sedan<br>top_speed_kmh=%{x}<br>range_km=%{y}<extra></extra>",
         "legendgroup": "Medium",
         "marker": {
          "color": "#EF553B",
          "opacity": 0.7,
          "symbol": "circle"
         },
         "mode": "markers",
         "name": "Medium",
         "orientation": "v",
         "showlegend": false,
         "type": "scatter",
         "x": {
          "bdata": "lgCWAKoAqgA=",
          "dtype": "i2"
         },
         "xaxis": "x5",
         "y": {
          "bdata": "IgFPAe8BYwE=",
          "dtype": "i2"
         },
         "yaxis": "y5"
        },
        {
         "hovertemplate": "segment_group=Executive<br>car_body_type=SUV<br>top_speed_kmh=%{x}<br>range_km=%{y}<extra></extra>",
         "legendgroup": "Executive",
         "marker": {
          "color": "#00cc96",
          "opacity": 0.7,
          "symbol": "circle"
         },
         "mode": "markers",
         "name": "Executive",
         "orientation": "v",
         "showlegend": true,
         "type": "scatter",
         "x": {
          "bdata": "+gDIAMgAvgDcANIA0gDSANIA0gDwAMgAyADSANIAtADIAMgAyADIAA==",
          "dtype": "i2"
         },
         "xaxis": "x2",
         "y": {
          "bdata": "9AHWAQ0CzAGQAcIBswHbAccBqQGkAbMBbQEDAu8BEgLgAdEB4AGLAQ==",
          "dtype": "i2"
         },
         "yaxis": "y2"
        },
        {
         "hovertemplate": "segment_group=Executive<br>car_body_type=Station/Estate<br>top_speed_kmh=%{x}<br>range_km=%{y}<extra></extra>",
         "legendgroup": "Executive",
         "marker": {
          "color": "#00cc96",
          "opacity": 0.7,
          "symbol": "circle"
         },
         "mode": "markers",
         "name": "Executive",
         "orientation": "v",
         "showlegend": false,
         "type": "scatter",
         "x": {
          "bdata": "0gDSANIA8ADmAMEA1wDIAMgAtAC0ALQA",
          "dtype": "i2"
         },
         "xaxis": "x3",
         "y": {
          "bdata": "0QE/AjACEgKpAdEBwgHlAZAB9AHWAQgC",
          "dtype": "i2"
         },
         "yaxis": "y3"
        },
        {
         "hovertemplate": "segment_group=Executive<br>car_body_type=Liftback Sedan<br>top_speed_kmh=%{x}<br>range_km=%{y}<extra></extra>",
         "legendgroup": "Executive",
         "marker": {
          "color": "#00cc96",
          "opacity": 0.7,
          "symbol": "circle"
         },
         "mode": "markers",
         "name": "Executive",
         "orientation": "v",
         "showlegend": false,
         "type": "scatter",
         "x": {
          "bdata": "0gDSANIA8ADIALQAtAC0ALQAyADIAMgA",
          "dtype": "i2"
         },
         "xaxis": "x4",
         "y": {
          "bdata": "7wFiAk4CKwLlAe8B9AHbAQ0C+QHgAeAB",
          "dtype": "i2"
         },
         "yaxis": "y4"
        },
        {
         "hovertemplate": "segment_group=Executive<br>car_body_type=Sedan<br>top_speed_kmh=%{x}<br>range_km=%{y}<extra></extra>",
         "legendgroup": "Executive",
         "marker": {
          "color": "#00cc96",
          "opacity": 0.7,
          "symbol": "circle"
         },
         "mode": "markers",
         "name": "Executive",
         "orientation": "v",
         "showlegend": false,
         "type": "scatter",
         "x": {
          "bdata": "5gDBANcA0gDSANIA0gDSANwAyADIAMgAyADIAA==",
          "dtype": "i2"
         },
         "xaxis": "x5",
         "y": {
          "bdata": "rgHgAdEBDQIDAisC+QHCAcIB9AGaAcwB7wHHAQ==",
          "dtype": "i2"
         },
         "yaxis": "y5"
        },
        {
         "hovertemplate": "segment_group=Large<br>car_body_type=SUV<br>top_speed_kmh=%{x}<br>range_km=%{y}<extra></extra>",
         "legendgroup": "Large",
         "marker": {
          "color": "#ab63fa",
          "opacity": 0.7,
          "symbol": "circle"
         },
         "mode": "markers",
         "name": "Large",
         "orientation": "v",
         "showlegend": true,
         "type": "scatter",
         "x": {
          "bdata": "0gDSANIA0gDSANIA5gDmAK8ArwDXANcA1wC+AL4AvgCWALQAtAC0ALQAyADIAMgAyAC0ALQA6wDIAKoAoACgAKoAqgCqANwA8ADcAAQBlgCWANIAyADIAMgAyADIAMkAyQDJAMgAyADIAMgAyADSANIA0gA=",
          "dtype": "i2"
         },
         "xaxis": "x2",
         "y": {
          "bdata": "iwGaAf4B9AHqAeAB1gHvAWgBqQGQAZ8BrgESAp8BIQKGAbMBvQHbAeABqQGzAZ8BmgGBAXwBXgF8AV4BXgF3AXIBaAHlAdYB1gHvAcwBhgFKAcIB0QFyAdEBxwHHAccB1gF3AZUBkAHbAeABcgHbAcIBbQE=",
          "dtype": "i2"
         },
         "yaxis": "y2"
        },
        {
         "hovertemplate": "segment_group=Large<br>car_body_type=Liftback Sedan<br>top_speed_kmh=%{x}<br>range_km=%{y}<extra></extra>",
         "legendgroup": "Large",
         "marker": {
          "color": "#ab63fa",
          "opacity": 0.7,
          "symbol": "circle"
         },
         "mode": "markers",
         "name": "Large",
         "orientation": "v",
         "showlegend": false,
         "type": "scatter",
         "x": {
          "bdata": "4QC+AL4AyAC0ALQAoACvAK8AzQDNAM0AzQA=",
          "dtype": "i2"
         },
         "xaxis": "x4",
         "y": {
          "bdata": "wgGuAQMC6gHHAccBQAGGAbgBxwHCAdsBlQE=",
          "dtype": "i2"
         },
         "yaxis": "y4"
        },
        {
         "hovertemplate": "segment_group=Large<br>car_body_type=Sedan<br>top_speed_kmh=%{x}<br>range_km=%{y}<extra></extra>",
         "legendgroup": "Large",
         "marker": {
          "color": "#ab63fa",
          "opacity": 0.7,
          "symbol": "circle"
         },
         "mode": "markers",
         "name": "Large",
         "orientation": "v",
         "showlegend": false,
         "type": "scatter",
         "x": {
          "bdata": "3AC0ALQAtACqAKoAuQC5ALkA0gDSAMkAyQAGAckA",
          "dtype": "i2"
         },
         "xaxis": "x5",
         "y": {
          "bdata": "bQG9AeABrgFeAV4B7wG4AU8BNQImAg0CIQLqAb0B",
          "dtype": "i2"
         },
         "yaxis": "y5"
        },
        {
         "hovertemplate": "segment_group=Luxury<br>car_body_type=SUV<br>top_speed_kmh=%{x}<br>range_km=%{y}<extra></extra>",
         "legendgroup": "Luxury",
         "marker": {
          "color": "#FFA15A",
          "opacity": 0.7,
          "symbol": "circle"
         },
         "mode": "markers",
         "name": "Luxury",
         "orientation": "v",
         "showlegend": true,
         "type": "scatter",
         "x": {
          "bdata": "0gDIAMgAyADIALkAyAC+AMgA3ADIALkA+gAEAfoA0gDSANIA0gDSALQAyADIAMgAyAD6AAYBtAC0ALQA",
          "dtype": "i2"
         },
         "xaxis": "x2",
         "y": {
          "bdata": "zAHHAUABcgHqAfQB4AFjAbMBpAGpAcIB7wHHAeABEgIcAhICEgLqAWgBrgFjAbgBaAHlAdEBzAHWAccB",
          "dtype": "i2"
         },
         "yaxis": "y2"
        },
        {
         "hovertemplate": "segment_group=Luxury<br>car_body_type=Station/Estate<br>top_speed_kmh=%{x}<br>range_km=%{y}<extra></extra>",
         "legendgroup": "Luxury",
         "marker": {
          "color": "#FFA15A",
          "opacity": 0.7,
          "symbol": "circle"
         },
         "mode": "markers",
         "name": "Luxury",
         "orientation": "v",
         "showlegend": false,
         "type": "scatter",
         "x": {
          "bdata": "3ADwAPoA+gD6AOYA5gD6APoABAEEAQ==",
          "dtype": "i2"
         },
         "xaxis": "x3",
         "y": {
          "bdata": "/gH+Af4BuAH5ARICzAHvAeUB+QH5AQ==",
          "dtype": "i2"
         },
         "yaxis": "y3"
        },
        {
         "hovertemplate": "segment_group=Luxury<br>car_body_type=Liftback Sedan<br>top_speed_kmh=%{x}<br>range_km=%{y}<extra></extra>",
         "legendgroup": "Luxury",
         "marker": {
          "color": "#FFA15A",
          "opacity": 0.7,
          "symbol": "circle"
         },
         "mode": "markers",
         "name": "Luxury",
         "orientation": "v",
         "showlegend": false,
         "type": "scatter",
         "x": {
          "bdata": "+gAAAfoA+gAaAbQAtAC0AA==",
          "dtype": "i2"
         },
         "xaxis": "x4",
         "y": {
          "bdata": "CALRAQgCPwIwAuUBEgISAg==",
          "dtype": "i2"
         },
         "yaxis": "y4"
        },
        {
         "hovertemplate": "segment_group=Luxury<br>car_body_type=Sedan<br>top_speed_kmh=%{x}<br>range_km=%{y}<extra></extra>",
         "legendgroup": "Luxury",
         "marker": {
          "color": "#FFA15A",
          "opacity": 0.7,
          "symbol": "circle"
         },
         "mode": "markers",
         "name": "Luxury",
         "orientation": "v",
         "showlegend": false,
         "type": "scatter",
         "x": {
          "bdata": "+gD6APUA9QD6AM0A8ADhAA4ByAD6ANIA0gDSANIA0gD6AMgAyADmAOYA5gD6APoA+gDmAAQBIgExAQQB",
          "dtype": "i2"
         },
         "xaxis": "x5",
         "y": {
          "bdata": "DQINAhwCHALqAQgC/gG4AZkCNQJEAjoCjwKtAoACgAJJAvkBnwHvAeoBNQLqATUCFwI/AhcC2wHbAQ0C",
          "dtype": "i2"
         },
         "yaxis": "y5"
        },
        {
         "hovertemplate": "segment_group=Luxury<br>car_body_type=Cabriolet<br>top_speed_kmh=%{x}<br>range_km=%{y}<extra></extra>",
         "legendgroup": "Luxury",
         "marker": {
          "color": "#FFA15A",
          "opacity": 0.7,
          "symbol": "circle"
         },
         "mode": "markers",
         "name": "Luxury",
         "orientation": "v",
         "showlegend": false,
         "type": "scatter",
         "x": {
          "bdata": "IgE=",
          "dtype": "i2"
         },
         "xaxis": "x7",
         "y": {
          "bdata": "iwE=",
          "dtype": "i2"
         },
         "yaxis": "y7"
        },
        {
         "hovertemplate": "segment_group=Luxury<br>car_body_type=Coupe<br>top_speed_kmh=%{x}<br>range_km=%{y}<extra></extra>",
         "legendgroup": "Luxury",
         "marker": {
          "color": "#FFA15A",
          "opacity": 0.7,
          "symbol": "circle"
         },
         "mode": "markers",
         "name": "Luxury",
         "orientation": "v",
         "showlegend": false,
         "type": "scatter",
         "x": {
          "bdata": "RQH6AA==",
          "dtype": "i2"
         },
         "xaxis": "x8",
         "y": {
          "bdata": "pAHRAQ==",
          "dtype": "i2"
         },
         "yaxis": "y8"
        },
        {
         "hovertemplate": "segment_group=Passenger Van<br>car_body_type=Small Passenger Van<br>top_speed_kmh=%{x}<br>range_km=%{y}<extra></extra>",
         "legendgroup": "Passenger Van",
         "marker": {
          "color": "#19d3f3",
          "opacity": 0.7,
          "symbol": "circle"
         },
         "mode": "markers",
         "name": "Passenger Van",
         "orientation": "v",
         "showlegend": true,
         "type": "scatter",
         "x": {
          "bdata": "hACEAIIAggCCAIIAkQCCAIIAlgCWALQAhACEAKAAoACMAKAAoACgAKAAhACCAIcAhwCCAIIAggCCAIQAhACCAIIAggCCAIcAggCCAIIAggCEAIQAoACgAKAAoACRAA==",
          "dtype": "i2"
         },
         "xaxis": "x6",
         "y": {
          "bdata": "6wDmALQABAG0AAQByADrAOsA6wDrAG0B3ADhANIA1wA7AUAB1wDcAEUB4QDcAOsA5gC0AAQBtAAEAesA5gC0AAQBtAAEAeEA3AAEAbQABAHrAOYAXgFyAUoBaAETAQ==",
          "dtype": "i2"
         },
         "yaxis": "y6"
        },
        {
         "hovertemplate": "segment_group=Mini<br>car_body_type=Hatchback<br>top_speed_kmh=%{x}<br>range_km=%{y}<extra></extra>",
         "legendgroup": "Mini",
         "marker": {
          "color": "#FF6692",
          "opacity": 0.7,
          "symbol": "circle"
         },
         "mode": "markers",
         "name": "Mini",
         "orientation": "v",
         "showlegend": true,
         "type": "scatter",
         "x": {
          "bdata": "fQB9AIIA",
          "dtype": "i2"
         },
         "xaxis": "x",
         "y": {
          "bdata": "pQCgAOEA",
          "dtype": "i2"
         },
         "yaxis": "y"
        },
        {
         "hovertemplate": "segment_group=Mini<br>car_body_type=SUV<br>top_speed_kmh=%{x}<br>range_km=%{y}<extra></extra>",
         "legendgroup": "Mini",
         "marker": {
          "color": "#FF6692",
          "opacity": 0.7,
          "symbol": "circle"
         },
         "mode": "markers",
         "name": "Mini",
         "orientation": "v",
         "showlegend": false,
         "type": "scatter",
         "x": {
          "bdata": "lgCMAA==",
          "dtype": "i2"
         },
         "xaxis": "x2",
         "y": {
          "bdata": "LAH/AA==",
          "dtype": "i2"
         },
         "yaxis": "y2"
        },
        {
         "hovertemplate": "segment_group=Sports<br>car_body_type=Cabriolet<br>top_speed_kmh=%{x}<br>range_km=%{y}<extra></extra>",
         "legendgroup": "Sports",
         "marker": {
          "color": "#B6E880",
          "opacity": 0.7,
          "symbol": "circle"
         },
         "mode": "markers",
         "name": "Sports",
         "orientation": "v",
         "showlegend": true,
         "type": "scatter",
         "x": {
          "bdata": "yADDAA==",
          "dtype": "i2"
         },
         "xaxis": "x7",
         "y": {
          "bdata": "iwGpAQ==",
          "dtype": "i2"
         },
         "yaxis": "y7"
        }
       ],
       "layout": {
        "annotations": [
         {
          "font": {},
          "showarrow": false,
          "text": "car_body_type=Hatchback",
          "textangle": 10,
          "x": 0.05375,
          "xanchor": "center",
          "xref": "paper",
          "y": 1,
          "yanchor": "bottom",
          "yref": "paper"
         },
         {
          "font": {},
          "showarrow": false,
          "text": "car_body_type=SUV",
          "textangle": 10,
          "x": 0.18125,
          "xanchor": "center",
          "xref": "paper",
          "y": 1,
          "yanchor": "bottom",
          "yref": "paper"
         },
         {
          "font": {},
          "showarrow": false,
          "text": "car_body_type=Station/Estate",
          "textangle": 10,
          "x": 0.30874999999999997,
          "xanchor": "center",
          "xref": "paper",
          "y": 1,
          "yanchor": "bottom",
          "yref": "paper"
         },
         {
          "font": {},
          "showarrow": false,
          "text": "car_body_type=Liftback Sedan",
          "textangle": 10,
          "x": 0.43625,
          "xanchor": "center",
          "xref": "paper",
          "y": 1,
          "yanchor": "bottom",
          "yref": "paper"
         },
         {
          "font": {},
          "showarrow": false,
          "text": "car_body_type=Sedan",
          "textangle": 10,
          "x": 0.56375,
          "xanchor": "center",
          "xref": "paper",
          "y": 1,
          "yanchor": "bottom",
          "yref": "paper"
         },
         {
          "font": {},
          "showarrow": false,
          "text": "car_body_type=Small Passenger Van",
          "textangle": 10,
          "x": 0.6912499999999999,
          "xanchor": "center",
          "xref": "paper",
          "y": 1,
          "yanchor": "bottom",
          "yref": "paper"
         },
         {
          "font": {},
          "showarrow": false,
          "text": "car_body_type=Cabriolet",
          "textangle": 10,
          "x": 0.8187500000000001,
          "xanchor": "center",
          "xref": "paper",
          "y": 1,
          "yanchor": "bottom",
          "yref": "paper"
         },
         {
          "font": {},
          "showarrow": false,
          "text": "car_body_type=Coupe",
          "textangle": 10,
          "x": 0.94625,
          "xanchor": "center",
          "xref": "paper",
          "y": 1,
          "yanchor": "bottom",
          "yref": "paper"
         }
        ],
        "legend": {
         "title": {
          "text": "segment_group"
         },
         "tracegroupgap": 0
        },
        "margin": {
         "t": 60
        },
        "template": {
         "data": {
          "bar": [
           {
            "error_x": {
             "color": "#2a3f5f"
            },
            "error_y": {
             "color": "#2a3f5f"
            },
            "marker": {
             "line": {
              "color": "#E5ECF6",
              "width": 0.5
             },
             "pattern": {
              "fillmode": "overlay",
              "size": 10,
              "solidity": 0.2
             }
            },
            "type": "bar"
           }
          ],
          "barpolar": [
           {
            "marker": {
             "line": {
              "color": "#E5ECF6",
              "width": 0.5
             },
             "pattern": {
              "fillmode": "overlay",
              "size": 10,
              "solidity": 0.2
             }
            },
            "type": "barpolar"
           }
          ],
          "carpet": [
           {
            "aaxis": {
             "endlinecolor": "#2a3f5f",
             "gridcolor": "white",
             "linecolor": "white",
             "minorgridcolor": "white",
             "startlinecolor": "#2a3f5f"
            },
            "baxis": {
             "endlinecolor": "#2a3f5f",
             "gridcolor": "white",
             "linecolor": "white",
             "minorgridcolor": "white",
             "startlinecolor": "#2a3f5f"
            },
            "type": "carpet"
           }
          ],
          "choropleth": [
           {
            "colorbar": {
             "outlinewidth": 0,
             "ticks": ""
            },
            "type": "choropleth"
           }
          ],
          "contour": [
           {
            "colorbar": {
             "outlinewidth": 0,
             "ticks": ""
            },
            "colorscale": [
             [
              0,
              "#0d0887"
             ],
             [
              0.1111111111111111,
              "#46039f"
             ],
             [
              0.2222222222222222,
              "#7201a8"
             ],
             [
              0.3333333333333333,
              "#9c179e"
             ],
             [
              0.4444444444444444,
              "#bd3786"
             ],
             [
              0.5555555555555556,
              "#d8576b"
             ],
             [
              0.6666666666666666,
              "#ed7953"
             ],
             [
              0.7777777777777778,
              "#fb9f3a"
             ],
             [
              0.8888888888888888,
              "#fdca26"
             ],
             [
              1,
              "#f0f921"
             ]
            ],
            "type": "contour"
           }
          ],
          "contourcarpet": [
           {
            "colorbar": {
             "outlinewidth": 0,
             "ticks": ""
            },
            "type": "contourcarpet"
           }
          ],
          "heatmap": [
           {
            "colorbar": {
             "outlinewidth": 0,
             "ticks": ""
            },
            "colorscale": [
             [
              0,
              "#0d0887"
             ],
             [
              0.1111111111111111,
              "#46039f"
             ],
             [
              0.2222222222222222,
              "#7201a8"
             ],
             [
              0.3333333333333333,
              "#9c179e"
             ],
             [
              0.4444444444444444,
              "#bd3786"
             ],
             [
              0.5555555555555556,
              "#d8576b"
             ],
             [
              0.6666666666666666,
              "#ed7953"
             ],
             [
              0.7777777777777778,
              "#fb9f3a"
             ],
             [
              0.8888888888888888,
              "#fdca26"
             ],
             [
              1,
              "#f0f921"
             ]
            ],
            "type": "heatmap"
           }
          ],
          "histogram": [
           {
            "marker": {
             "pattern": {
              "fillmode": "overlay",
              "size": 10,
              "solidity": 0.2
             }
            },
            "type": "histogram"
           }
          ],
          "histogram2d": [
           {
            "colorbar": {
             "outlinewidth": 0,
             "ticks": ""
            },
            "colorscale": [
             [
              0,
              "#0d0887"
             ],
             [
              0.1111111111111111,
              "#46039f"
             ],
             [
              0.2222222222222222,
              "#7201a8"
             ],
             [
              0.3333333333333333,
              "#9c179e"
             ],
             [
              0.4444444444444444,
              "#bd3786"
             ],
             [
              0.5555555555555556,
              "#d8576b"
             ],
             [
              0.6666666666666666,
              "#ed7953"
             ],
             [
              0.7777777777777778,
              "#fb9f3a"
             ],
             [
              0.8888888888888888,
              "#fdca26"
             ],
             [
              1,
              "#f0f921"
             ]
            ],
            "type": "histogram2d"
           }
          ],
          "histogram2dcontour": [
           {
            "colorbar": {
             "outlinewidth": 0,
             "ticks": ""
            },
            "colorscale": [
             [
              0,
              "#0d0887"
             ],
             [
              0.1111111111111111,
              "#46039f"
             ],
             [
              0.2222222222222222,
              "#7201a8"
             ],
             [
              0.3333333333333333,
              "#9c179e"
             ],
             [
              0.4444444444444444,
              "#bd3786"
             ],
             [
              0.5555555555555556,
              "#d8576b"
             ],
             [
              0.6666666666666666,
              "#ed7953"
             ],
             [
              0.7777777777777778,
              "#fb9f3a"
             ],
             [
              0.8888888888888888,
              "#fdca26"
             ],
             [
              1,
              "#f0f921"
             ]
            ],
            "type": "histogram2dcontour"
           }
          ],
          "mesh3d": [
           {
            "colorbar": {
             "outlinewidth": 0,
             "ticks": ""
            },
            "type": "mesh3d"
           }
          ],
          "parcoords": [
           {
            "line": {
             "colorbar": {
              "outlinewidth": 0,
              "ticks": ""
             }
            },
            "type": "parcoords"
           }
          ],
          "pie": [
           {
            "automargin": true,
            "type": "pie"
           }
          ],
          "scatter": [
           {
            "fillpattern": {
             "fillmode": "overlay",
             "size": 10,
             "solidity": 0.2
            },
            "type": "scatter"
           }
          ],
          "scatter3d": [
           {
            "line": {
             "colorbar": {
              "outlinewidth": 0,
              "ticks": ""
             }
            },
            "marker": {
             "colorbar": {
              "outlinewidth": 0,
              "ticks": ""
             }
            },
            "type": "scatter3d"
           }
          ],
          "scattercarpet": [
           {
            "marker": {
             "colorbar": {
              "outlinewidth": 0,
              "ticks": ""
             }
            },
            "type": "scattercarpet"
           }
          ],
          "scattergeo": [
           {
            "marker": {
             "colorbar": {
              "outlinewidth": 0,
              "ticks": ""
             }
            },
            "type": "scattergeo"
           }
          ],
          "scattergl": [
           {
            "marker": {
             "colorbar": {
              "outlinewidth": 0,
              "ticks": ""
             }
            },
            "type": "scattergl"
           }
          ],
          "scattermap": [
           {
            "marker": {
             "colorbar": {
              "outlinewidth": 0,
              "ticks": ""
             }
            },
            "type": "scattermap"
           }
          ],
          "scattermapbox": [
           {
            "marker": {
             "colorbar": {
              "outlinewidth": 0,
              "ticks": ""
             }
            },
            "type": "scattermapbox"
           }
          ],
          "scatterpolar": [
           {
            "marker": {
             "colorbar": {
              "outlinewidth": 0,
              "ticks": ""
             }
            },
            "type": "scatterpolar"
           }
          ],
          "scatterpolargl": [
           {
            "marker": {
             "colorbar": {
              "outlinewidth": 0,
              "ticks": ""
             }
            },
            "type": "scatterpolargl"
           }
          ],
          "scatterternary": [
           {
            "marker": {
             "colorbar": {
              "outlinewidth": 0,
              "ticks": ""
             }
            },
            "type": "scatterternary"
           }
          ],
          "surface": [
           {
            "colorbar": {
             "outlinewidth": 0,
             "ticks": ""
            },
            "colorscale": [
             [
              0,
              "#0d0887"
             ],
             [
              0.1111111111111111,
              "#46039f"
             ],
             [
              0.2222222222222222,
              "#7201a8"
             ],
             [
              0.3333333333333333,
              "#9c179e"
             ],
             [
              0.4444444444444444,
              "#bd3786"
             ],
             [
              0.5555555555555556,
              "#d8576b"
             ],
             [
              0.6666666666666666,
              "#ed7953"
             ],
             [
              0.7777777777777778,
              "#fb9f3a"
             ],
             [
              0.8888888888888888,
              "#fdca26"
             ],
             [
              1,
              "#f0f921"
             ]
            ],
            "type": "surface"
           }
          ],
          "table": [
           {
            "cells": {
             "fill": {
              "color": "#EBF0F8"
             },
             "line": {
              "color": "white"
             }
            },
            "header": {
             "fill": {
              "color": "#C8D4E3"
             },
             "line": {
              "color": "white"
             }
            },
            "type": "table"
           }
          ]
         },
         "layout": {
          "annotationdefaults": {
           "arrowcolor": "#2a3f5f",
           "arrowhead": 0,
           "arrowwidth": 1
          },
          "autotypenumbers": "strict",
          "coloraxis": {
           "colorbar": {
            "outlinewidth": 0,
            "ticks": ""
           }
          },
          "colorscale": {
           "diverging": [
            [
             0,
             "#8e0152"
            ],
            [
             0.1,
             "#c51b7d"
            ],
            [
             0.2,
             "#de77ae"
            ],
            [
             0.3,
             "#f1b6da"
            ],
            [
             0.4,
             "#fde0ef"
            ],
            [
             0.5,
             "#f7f7f7"
            ],
            [
             0.6,
             "#e6f5d0"
            ],
            [
             0.7,
             "#b8e186"
            ],
            [
             0.8,
             "#7fbc41"
            ],
            [
             0.9,
             "#4d9221"
            ],
            [
             1,
             "#276419"
            ]
           ],
           "sequential": [
            [
             0,
             "#0d0887"
            ],
            [
             0.1111111111111111,
             "#46039f"
            ],
            [
             0.2222222222222222,
             "#7201a8"
            ],
            [
             0.3333333333333333,
             "#9c179e"
            ],
            [
             0.4444444444444444,
             "#bd3786"
            ],
            [
             0.5555555555555556,
             "#d8576b"
            ],
            [
             0.6666666666666666,
             "#ed7953"
            ],
            [
             0.7777777777777778,
             "#fb9f3a"
            ],
            [
             0.8888888888888888,
             "#fdca26"
            ],
            [
             1,
             "#f0f921"
            ]
           ],
           "sequentialminus": [
            [
             0,
             "#0d0887"
            ],
            [
             0.1111111111111111,
             "#46039f"
            ],
            [
             0.2222222222222222,
             "#7201a8"
            ],
            [
             0.3333333333333333,
             "#9c179e"
            ],
            [
             0.4444444444444444,
             "#bd3786"
            ],
            [
             0.5555555555555556,
             "#d8576b"
            ],
            [
             0.6666666666666666,
             "#ed7953"
            ],
            [
             0.7777777777777778,
             "#fb9f3a"
            ],
            [
             0.8888888888888888,
             "#fdca26"
            ],
            [
             1,
             "#f0f921"
            ]
           ]
          },
          "colorway": [
           "#636efa",
           "#EF553B",
           "#00cc96",
           "#ab63fa",
           "#FFA15A",
           "#19d3f3",
           "#FF6692",
           "#B6E880",
           "#FF97FF",
           "#FECB52"
          ],
          "font": {
           "color": "#2a3f5f"
          },
          "geo": {
           "bgcolor": "white",
           "lakecolor": "white",
           "landcolor": "#E5ECF6",
           "showlakes": true,
           "showland": true,
           "subunitcolor": "white"
          },
          "hoverlabel": {
           "align": "left"
          },
          "hovermode": "closest",
          "mapbox": {
           "style": "light"
          },
          "paper_bgcolor": "white",
          "plot_bgcolor": "#E5ECF6",
          "polar": {
           "angularaxis": {
            "gridcolor": "white",
            "linecolor": "white",
            "ticks": ""
           },
           "bgcolor": "#E5ECF6",
           "radialaxis": {
            "gridcolor": "white",
            "linecolor": "white",
            "ticks": ""
           }
          },
          "scene": {
           "xaxis": {
            "backgroundcolor": "#E5ECF6",
            "gridcolor": "white",
            "gridwidth": 2,
            "linecolor": "white",
            "showbackground": true,
            "ticks": "",
            "zerolinecolor": "white"
           },
           "yaxis": {
            "backgroundcolor": "#E5ECF6",
            "gridcolor": "white",
            "gridwidth": 2,
            "linecolor": "white",
            "showbackground": true,
            "ticks": "",
            "zerolinecolor": "white"
           },
           "zaxis": {
            "backgroundcolor": "#E5ECF6",
            "gridcolor": "white",
            "gridwidth": 2,
            "linecolor": "white",
            "showbackground": true,
            "ticks": "",
            "zerolinecolor": "white"
           }
          },
          "shapedefaults": {
           "line": {
            "color": "#2a3f5f"
           }
          },
          "ternary": {
           "aaxis": {
            "gridcolor": "white",
            "linecolor": "white",
            "ticks": ""
           },
           "baxis": {
            "gridcolor": "white",
            "linecolor": "white",
            "ticks": ""
           },
           "bgcolor": "#E5ECF6",
           "caxis": {
            "gridcolor": "white",
            "linecolor": "white",
            "ticks": ""
           }
          },
          "title": {
           "x": 0.05
          },
          "xaxis": {
           "automargin": true,
           "gridcolor": "white",
           "linecolor": "white",
           "ticks": "",
           "title": {
            "standoff": 15
           },
           "zerolinecolor": "white",
           "zerolinewidth": 2
          },
          "yaxis": {
           "automargin": true,
           "gridcolor": "white",
           "linecolor": "white",
           "ticks": "",
           "title": {
            "standoff": 15
           },
           "zerolinecolor": "white",
           "zerolinewidth": 2
          }
         }
        },
        "xaxis": {
         "anchor": "y",
         "domain": [
          0,
          0.1075
         ],
         "title": {
          "text": "top_speed_kmh"
         }
        },
        "xaxis2": {
         "anchor": "y2",
         "domain": [
          0.1275,
          0.235
         ],
         "matches": "x",
         "title": {
          "text": "top_speed_kmh"
         }
        },
        "xaxis3": {
         "anchor": "y3",
         "domain": [
          0.255,
          0.3625
         ],
         "matches": "x",
         "title": {
          "text": "top_speed_kmh"
         }
        },
        "xaxis4": {
         "anchor": "y4",
         "domain": [
          0.3825,
          0.49
         ],
         "matches": "x",
         "title": {
          "text": "top_speed_kmh"
         }
        },
        "xaxis5": {
         "anchor": "y5",
         "domain": [
          0.51,
          0.6175
         ],
         "matches": "x",
         "title": {
          "text": "top_speed_kmh"
         }
        },
        "xaxis6": {
         "anchor": "y6",
         "domain": [
          0.6375,
          0.745
         ],
         "matches": "x",
         "title": {
          "text": "top_speed_kmh"
         }
        },
        "xaxis7": {
         "anchor": "y7",
         "domain": [
          0.765,
          0.8725
         ],
         "matches": "x",
         "title": {
          "text": "top_speed_kmh"
         }
        },
        "xaxis8": {
         "anchor": "y8",
         "domain": [
          0.8925000000000001,
          1
         ],
         "matches": "x",
         "title": {
          "text": "top_speed_kmh"
         }
        },
        "yaxis": {
         "anchor": "x",
         "domain": [
          0,
          1
         ],
         "title": {
          "text": "range_km"
         }
        },
        "yaxis2": {
         "anchor": "x2",
         "domain": [
          0,
          1
         ],
         "matches": "y",
         "showticklabels": false
        },
        "yaxis3": {
         "anchor": "x3",
         "domain": [
          0,
          1
         ],
         "matches": "y",
         "showticklabels": false
        },
        "yaxis4": {
         "anchor": "x4",
         "domain": [
          0,
          1
         ],
         "matches": "y",
         "showticklabels": false
        },
        "yaxis5": {
         "anchor": "x5",
         "domain": [
          0,
          1
         ],
         "matches": "y",
         "showticklabels": false
        },
        "yaxis6": {
         "anchor": "x6",
         "domain": [
          0,
          1
         ],
         "matches": "y",
         "showticklabels": false
        },
        "yaxis7": {
         "anchor": "x7",
         "domain": [
          0,
          1
         ],
         "matches": "y",
         "showticklabels": false
        },
        "yaxis8": {
         "anchor": "x8",
         "domain": [
          0,
          1
         ],
         "matches": "y",
         "showticklabels": false
        }
       }
      },
      "image/png": "[encoded data removed]"
     },
     "metadata": {},
     "output_type": "display_data"
    }
   ],
   "source": [
    "#top speed vs. range vs. segment_group\n",
    "fig = px.scatter(\n",
    "    data,\n",
    "    x='top_speed_kmh',\n",
    "    y='range_km',\n",
    "    color='segment_group',\n",
    "    facet_col='car_body_type',\n",
    "    opacity=0.7\n",
    ")\n",
    "\n",
    "fig.for_each_annotation(lambda a: a.update(textangle=10))\n",
    "\n",
    "fig.show()"
   ]
  },
  {
   "cell_type": "code",
   "execution_count": 27,
   "id": "513d9bee-0241-4676-a891-0fc97c81e11f",
   "metadata": {
    "scrolled": true
   },
   "outputs": [
    {
     "data": {
      "application/vnd.plotly.v1+json": {
       "config": {
        "plotlyServerURL": "https://plot.ly"
       },
       "data": [
        {
         "hovertemplate": "range_km=%{r}<br>segment_group=%{theta}<extra></extra>",
         "legendgroup": "",
         "line": {
          "color": "#636efa",
          "dash": "solid"
         },
         "marker": {
          "symbol": "circle"
         },
         "mode": "lines",
         "name": "",
         "r": {
          "bdata": "WK9evXrVcUD3NMJyTxN+QOgL+oK+QHtAuxK1K1ELf0AAAAAAAMB3QAAAAAAAoGtA39mo72y0bkAAAAAAAKB5QFivXr161XFA",
          "dtype": "f8"
         },
         "showlegend": false,
         "subplot": "polar",
         "theta": [
          "Compact",
          "Executive",
          "Large",
          "Luxury",
          "Medium",
          "Mini",
          "Passenger Van",
          "Sports",
          "Compact"
         ],
         "type": "scatterpolar"
        }
       ],
       "layout": {
        "legend": {
         "tracegroupgap": 0
        },
        "margin": {
         "t": 60
        },
        "polar": {
         "angularaxis": {
          "direction": "clockwise",
          "rotation": 90
         },
         "domain": {
          "x": [
           0,
           1
          ],
          "y": [
           0,
           1
          ]
         }
        },
        "template": {
         "data": {
          "bar": [
           {
            "error_x": {
             "color": "#2a3f5f"
            },
            "error_y": {
             "color": "#2a3f5f"
            },
            "marker": {
             "line": {
              "color": "#E5ECF6",
              "width": 0.5
             },
             "pattern": {
              "fillmode": "overlay",
              "size": 10,
              "solidity": 0.2
             }
            },
            "type": "bar"
           }
          ],
          "barpolar": [
           {
            "marker": {
             "line": {
              "color": "#E5ECF6",
              "width": 0.5
             },
             "pattern": {
              "fillmode": "overlay",
              "size": 10,
              "solidity": 0.2
             }
            },
            "type": "barpolar"
           }
          ],
          "carpet": [
           {
            "aaxis": {
             "endlinecolor": "#2a3f5f",
             "gridcolor": "white",
             "linecolor": "white",
             "minorgridcolor": "white",
             "startlinecolor": "#2a3f5f"
            },
            "baxis": {
             "endlinecolor": "#2a3f5f",
             "gridcolor": "white",
             "linecolor": "white",
             "minorgridcolor": "white",
             "startlinecolor": "#2a3f5f"
            },
            "type": "carpet"
           }
          ],
          "choropleth": [
           {
            "colorbar": {
             "outlinewidth": 0,
             "ticks": ""
            },
            "type": "choropleth"
           }
          ],
          "contour": [
           {
            "colorbar": {
             "outlinewidth": 0,
             "ticks": ""
            },
            "colorscale": [
             [
              0,
              "#0d0887"
             ],
             [
              0.1111111111111111,
              "#46039f"
             ],
             [
              0.2222222222222222,
              "#7201a8"
             ],
             [
              0.3333333333333333,
              "#9c179e"
             ],
             [
              0.4444444444444444,
              "#bd3786"
             ],
             [
              0.5555555555555556,
              "#d8576b"
             ],
             [
              0.6666666666666666,
              "#ed7953"
             ],
             [
              0.7777777777777778,
              "#fb9f3a"
             ],
             [
              0.8888888888888888,
              "#fdca26"
             ],
             [
              1,
              "#f0f921"
             ]
            ],
            "type": "contour"
           }
          ],
          "contourcarpet": [
           {
            "colorbar": {
             "outlinewidth": 0,
             "ticks": ""
            },
            "type": "contourcarpet"
           }
          ],
          "heatmap": [
           {
            "colorbar": {
             "outlinewidth": 0,
             "ticks": ""
            },
            "colorscale": [
             [
              0,
              "#0d0887"
             ],
             [
              0.1111111111111111,
              "#46039f"
             ],
             [
              0.2222222222222222,
              "#7201a8"
             ],
             [
              0.3333333333333333,
              "#9c179e"
             ],
             [
              0.4444444444444444,
              "#bd3786"
             ],
             [
              0.5555555555555556,
              "#d8576b"
             ],
             [
              0.6666666666666666,
              "#ed7953"
             ],
             [
              0.7777777777777778,
              "#fb9f3a"
             ],
             [
              0.8888888888888888,
              "#fdca26"
             ],
             [
              1,
              "#f0f921"
             ]
            ],
            "type": "heatmap"
           }
          ],
          "histogram": [
           {
            "marker": {
             "pattern": {
              "fillmode": "overlay",
              "size": 10,
              "solidity": 0.2
             }
            },
            "type": "histogram"
           }
          ],
          "histogram2d": [
           {
            "colorbar": {
             "outlinewidth": 0,
             "ticks": ""
            },
            "colorscale": [
             [
              0,
              "#0d0887"
             ],
             [
              0.1111111111111111,
              "#46039f"
             ],
             [
              0.2222222222222222,
              "#7201a8"
             ],
             [
              0.3333333333333333,
              "#9c179e"
             ],
             [
              0.4444444444444444,
              "#bd3786"
             ],
             [
              0.5555555555555556,
              "#d8576b"
             ],
             [
              0.6666666666666666,
              "#ed7953"
             ],
             [
              0.7777777777777778,
              "#fb9f3a"
             ],
             [
              0.8888888888888888,
              "#fdca26"
             ],
             [
              1,
              "#f0f921"
             ]
            ],
            "type": "histogram2d"
           }
          ],
          "histogram2dcontour": [
           {
            "colorbar": {
             "outlinewidth": 0,
             "ticks": ""
            },
            "colorscale": [
             [
              0,
              "#0d0887"
             ],
             [
              0.1111111111111111,
              "#46039f"
             ],
             [
              0.2222222222222222,
              "#7201a8"
             ],
             [
              0.3333333333333333,
              "#9c179e"
             ],
             [
              0.4444444444444444,
              "#bd3786"
             ],
             [
              0.5555555555555556,
              "#d8576b"
             ],
             [
              0.6666666666666666,
              "#ed7953"
             ],
             [
              0.7777777777777778,
              "#fb9f3a"
             ],
             [
              0.8888888888888888,
              "#fdca26"
             ],
             [
              1,
              "#f0f921"
             ]
            ],
            "type": "histogram2dcontour"
           }
          ],
          "mesh3d": [
           {
            "colorbar": {
             "outlinewidth": 0,
             "ticks": ""
            },
            "type": "mesh3d"
           }
          ],
          "parcoords": [
           {
            "line": {
             "colorbar": {
              "outlinewidth": 0,
              "ticks": ""
             }
            },
            "type": "parcoords"
           }
          ],
          "pie": [
           {
            "automargin": true,
            "type": "pie"
           }
          ],
          "scatter": [
           {
            "fillpattern": {
             "fillmode": "overlay",
             "size": 10,
             "solidity": 0.2
            },
            "type": "scatter"
           }
          ],
          "scatter3d": [
           {
            "line": {
             "colorbar": {
              "outlinewidth": 0,
              "ticks": ""
             }
            },
            "marker": {
             "colorbar": {
              "outlinewidth": 0,
              "ticks": ""
             }
            },
            "type": "scatter3d"
           }
          ],
          "scattercarpet": [
           {
            "marker": {
             "colorbar": {
              "outlinewidth": 0,
              "ticks": ""
             }
            },
            "type": "scattercarpet"
           }
          ],
          "scattergeo": [
           {
            "marker": {
             "colorbar": {
              "outlinewidth": 0,
              "ticks": ""
             }
            },
            "type": "scattergeo"
           }
          ],
          "scattergl": [
           {
            "marker": {
             "colorbar": {
              "outlinewidth": 0,
              "ticks": ""
             }
            },
            "type": "scattergl"
           }
          ],
          "scattermap": [
           {
            "marker": {
             "colorbar": {
              "outlinewidth": 0,
              "ticks": ""
             }
            },
            "type": "scattermap"
           }
          ],
          "scattermapbox": [
           {
            "marker": {
             "colorbar": {
              "outlinewidth": 0,
              "ticks": ""
             }
            },
            "type": "scattermapbox"
           }
          ],
          "scatterpolar": [
           {
            "marker": {
             "colorbar": {
              "outlinewidth": 0,
              "ticks": ""
             }
            },
            "type": "scatterpolar"
           }
          ],
          "scatterpolargl": [
           {
            "marker": {
             "colorbar": {
              "outlinewidth": 0,
              "ticks": ""
             }
            },
            "type": "scatterpolargl"
           }
          ],
          "scatterternary": [
           {
            "marker": {
             "colorbar": {
              "outlinewidth": 0,
              "ticks": ""
             }
            },
            "type": "scatterternary"
           }
          ],
          "surface": [
           {
            "colorbar": {
             "outlinewidth": 0,
             "ticks": ""
            },
            "colorscale": [
             [
              0,
              "#0d0887"
             ],
             [
              0.1111111111111111,
              "#46039f"
             ],
             [
              0.2222222222222222,
              "#7201a8"
             ],
             [
              0.3333333333333333,
              "#9c179e"
             ],
             [
              0.4444444444444444,
              "#bd3786"
             ],
             [
              0.5555555555555556,
              "#d8576b"
             ],
             [
              0.6666666666666666,
              "#ed7953"
             ],
             [
              0.7777777777777778,
              "#fb9f3a"
             ],
             [
              0.8888888888888888,
              "#fdca26"
             ],
             [
              1,
              "#f0f921"
             ]
            ],
            "type": "surface"
           }
          ],
          "table": [
           {
            "cells": {
             "fill": {
              "color": "#EBF0F8"
             },
             "line": {
              "color": "white"
             }
            },
            "header": {
             "fill": {
              "color": "#C8D4E3"
             },
             "line": {
              "color": "white"
             }
            },
            "type": "table"
           }
          ]
         },
         "layout": {
          "annotationdefaults": {
           "arrowcolor": "#2a3f5f",
           "arrowhead": 0,
           "arrowwidth": 1
          },
          "autotypenumbers": "strict",
          "coloraxis": {
           "colorbar": {
            "outlinewidth": 0,
            "ticks": ""
           }
          },
          "colorscale": {
           "diverging": [
            [
             0,
             "#8e0152"
            ],
            [
             0.1,
             "#c51b7d"
            ],
            [
             0.2,
             "#de77ae"
            ],
            [
             0.3,
             "#f1b6da"
            ],
            [
             0.4,
             "#fde0ef"
            ],
            [
             0.5,
             "#f7f7f7"
            ],
            [
             0.6,
             "#e6f5d0"
            ],
            [
             0.7,
             "#b8e186"
            ],
            [
             0.8,
             "#7fbc41"
            ],
            [
             0.9,
             "#4d9221"
            ],
            [
             1,
             "#276419"
            ]
           ],
           "sequential": [
            [
             0,
             "#0d0887"
            ],
            [
             0.1111111111111111,
             "#46039f"
            ],
            [
             0.2222222222222222,
             "#7201a8"
            ],
            [
             0.3333333333333333,
             "#9c179e"
            ],
            [
             0.4444444444444444,
             "#bd3786"
            ],
            [
             0.5555555555555556,
             "#d8576b"
            ],
            [
             0.6666666666666666,
             "#ed7953"
            ],
            [
             0.7777777777777778,
             "#fb9f3a"
            ],
            [
             0.8888888888888888,
             "#fdca26"
            ],
            [
             1,
             "#f0f921"
            ]
           ],
           "sequentialminus": [
            [
             0,
             "#0d0887"
            ],
            [
             0.1111111111111111,
             "#46039f"
            ],
            [
             0.2222222222222222,
             "#7201a8"
            ],
            [
             0.3333333333333333,
             "#9c179e"
            ],
            [
             0.4444444444444444,
             "#bd3786"
            ],
            [
             0.5555555555555556,
             "#d8576b"
            ],
            [
             0.6666666666666666,
             "#ed7953"
            ],
            [
             0.7777777777777778,
             "#fb9f3a"
            ],
            [
             0.8888888888888888,
             "#fdca26"
            ],
            [
             1,
             "#f0f921"
            ]
           ]
          },
          "colorway": [
           "#636efa",
           "#EF553B",
           "#00cc96",
           "#ab63fa",
           "#FFA15A",
           "#19d3f3",
           "#FF6692",
           "#B6E880",
           "#FF97FF",
           "#FECB52"
          ],
          "font": {
           "color": "#2a3f5f"
          },
          "geo": {
           "bgcolor": "white",
           "lakecolor": "white",
           "landcolor": "#E5ECF6",
           "showlakes": true,
           "showland": true,
           "subunitcolor": "white"
          },
          "hoverlabel": {
           "align": "left"
          },
          "hovermode": "closest",
          "mapbox": {
           "style": "light"
          },
          "paper_bgcolor": "white",
          "plot_bgcolor": "#E5ECF6",
          "polar": {
           "angularaxis": {
            "gridcolor": "white",
            "linecolor": "white",
            "ticks": ""
           },
           "bgcolor": "#E5ECF6",
           "radialaxis": {
            "gridcolor": "white",
            "linecolor": "white",
            "ticks": ""
           }
          },
          "scene": {
           "xaxis": {
            "backgroundcolor": "#E5ECF6",
            "gridcolor": "white",
            "gridwidth": 2,
            "linecolor": "white",
            "showbackground": true,
            "ticks": "",
            "zerolinecolor": "white"
           },
           "yaxis": {
            "backgroundcolor": "#E5ECF6",
            "gridcolor": "white",
            "gridwidth": 2,
            "linecolor": "white",
            "showbackground": true,
            "ticks": "",
            "zerolinecolor": "white"
           },
           "zaxis": {
            "backgroundcolor": "#E5ECF6",
            "gridcolor": "white",
            "gridwidth": 2,
            "linecolor": "white",
            "showbackground": true,
            "ticks": "",
            "zerolinecolor": "white"
           }
          },
          "shapedefaults": {
           "line": {
            "color": "#2a3f5f"
           }
          },
          "ternary": {
           "aaxis": {
            "gridcolor": "white",
            "linecolor": "white",
            "ticks": ""
           },
           "baxis": {
            "gridcolor": "white",
            "linecolor": "white",
            "ticks": ""
           },
           "bgcolor": "#E5ECF6",
           "caxis": {
            "gridcolor": "white",
            "linecolor": "white",
            "ticks": ""
           }
          },
          "title": {
           "x": 0.05
          },
          "xaxis": {
           "automargin": true,
           "gridcolor": "white",
           "linecolor": "white",
           "ticks": "",
           "title": {
            "standoff": 15
           },
           "zerolinecolor": "white",
           "zerolinewidth": 2
          },
          "yaxis": {
           "automargin": true,
           "gridcolor": "white",
           "linecolor": "white",
           "ticks": "",
           "title": {
            "standoff": 15
           },
           "zerolinecolor": "white",
           "zerolinewidth": 2
          }
         }
        }
       }
      },
      "image/png": "[encoded data removed]"
     },
     "metadata": {},
     "output_type": "display_data"
    },
    {
     "data": {
      "application/vnd.plotly.v1+json": {
       "config": {
        "plotlyServerURL": "https://plot.ly"
       },
       "data": [
        {
         "hovertemplate": "battery_capacity_kWh=%{r}<br>segment_group=%{theta}<extra></extra>",
         "legendgroup": "",
         "line": {
          "color": "#636efa",
          "dash": "solid"
         },
         "marker": {
          "symbol": "circle"
         },
         "mode": "lines",
         "name": "",
         "r": {
          "bdata": "y5YtW7ZsSEBPIyz3NIJWQI+4I+6IO1RAidqVqF2JWEApXI/C9ehQQJqZmZmZGUFAno36zkb9TUAAAAAAAIBSQMuWLVu2bEhA",
          "dtype": "f8"
         },
         "showlegend": false,
         "subplot": "polar",
         "theta": [
          "Compact",
          "Executive",
          "Large",
          "Luxury",
          "Medium",
          "Mini",
          "Passenger Van",
          "Sports",
          "Compact"
         ],
         "type": "scatterpolar"
        }
       ],
       "layout": {
        "legend": {
         "tracegroupgap": 0
        },
        "margin": {
         "t": 60
        },
        "polar": {
         "angularaxis": {
          "direction": "clockwise",
          "rotation": 90
         },
         "domain": {
          "x": [
           0,
           1
          ],
          "y": [
           0,
           1
          ]
         }
        },
        "template": {
         "data": {
          "bar": [
           {
            "error_x": {
             "color": "#2a3f5f"
            },
            "error_y": {
             "color": "#2a3f5f"
            },
            "marker": {
             "line": {
              "color": "#E5ECF6",
              "width": 0.5
             },
             "pattern": {
              "fillmode": "overlay",
              "size": 10,
              "solidity": 0.2
             }
            },
            "type": "bar"
           }
          ],
          "barpolar": [
           {
            "marker": {
             "line": {
              "color": "#E5ECF6",
              "width": 0.5
             },
             "pattern": {
              "fillmode": "overlay",
              "size": 10,
              "solidity": 0.2
             }
            },
            "type": "barpolar"
           }
          ],
          "carpet": [
           {
            "aaxis": {
             "endlinecolor": "#2a3f5f",
             "gridcolor": "white",
             "linecolor": "white",
             "minorgridcolor": "white",
             "startlinecolor": "#2a3f5f"
            },
            "baxis": {
             "endlinecolor": "#2a3f5f",
             "gridcolor": "white",
             "linecolor": "white",
             "minorgridcolor": "white",
             "startlinecolor": "#2a3f5f"
            },
            "type": "carpet"
           }
          ],
          "choropleth": [
           {
            "colorbar": {
             "outlinewidth": 0,
             "ticks": ""
            },
            "type": "choropleth"
           }
          ],
          "contour": [
           {
            "colorbar": {
             "outlinewidth": 0,
             "ticks": ""
            },
            "colorscale": [
             [
              0,
              "#0d0887"
             ],
             [
              0.1111111111111111,
              "#46039f"
             ],
             [
              0.2222222222222222,
              "#7201a8"
             ],
             [
              0.3333333333333333,
              "#9c179e"
             ],
             [
              0.4444444444444444,
              "#bd3786"
             ],
             [
              0.5555555555555556,
              "#d8576b"
             ],
             [
              0.6666666666666666,
              "#ed7953"
             ],
             [
              0.7777777777777778,
              "#fb9f3a"
             ],
             [
              0.8888888888888888,
              "#fdca26"
             ],
             [
              1,
              "#f0f921"
             ]
            ],
            "type": "contour"
           }
          ],
          "contourcarpet": [
           {
            "colorbar": {
             "outlinewidth": 0,
             "ticks": ""
            },
            "type": "contourcarpet"
           }
          ],
          "heatmap": [
           {
            "colorbar": {
             "outlinewidth": 0,
             "ticks": ""
            },
            "colorscale": [
             [
              0,
              "#0d0887"
             ],
             [
              0.1111111111111111,
              "#46039f"
             ],
             [
              0.2222222222222222,
              "#7201a8"
             ],
             [
              0.3333333333333333,
              "#9c179e"
             ],
             [
              0.4444444444444444,
              "#bd3786"
             ],
             [
              0.5555555555555556,
              "#d8576b"
             ],
             [
              0.6666666666666666,
              "#ed7953"
             ],
             [
              0.7777777777777778,
              "#fb9f3a"
             ],
             [
              0.8888888888888888,
              "#fdca26"
             ],
             [
              1,
              "#f0f921"
             ]
            ],
            "type": "heatmap"
           }
          ],
          "histogram": [
           {
            "marker": {
             "pattern": {
              "fillmode": "overlay",
              "size": 10,
              "solidity": 0.2
             }
            },
            "type": "histogram"
           }
          ],
          "histogram2d": [
           {
            "colorbar": {
             "outlinewidth": 0,
             "ticks": ""
            },
            "colorscale": [
             [
              0,
              "#0d0887"
             ],
             [
              0.1111111111111111,
              "#46039f"
             ],
             [
              0.2222222222222222,
              "#7201a8"
             ],
             [
              0.3333333333333333,
              "#9c179e"
             ],
             [
              0.4444444444444444,
              "#bd3786"
             ],
             [
              0.5555555555555556,
              "#d8576b"
             ],
             [
              0.6666666666666666,
              "#ed7953"
             ],
             [
              0.7777777777777778,
              "#fb9f3a"
             ],
             [
              0.8888888888888888,
              "#fdca26"
             ],
             [
              1,
              "#f0f921"
             ]
            ],
            "type": "histogram2d"
           }
          ],
          "histogram2dcontour": [
           {
            "colorbar": {
             "outlinewidth": 0,
             "ticks": ""
            },
            "colorscale": [
             [
              0,
              "#0d0887"
             ],
             [
              0.1111111111111111,
              "#46039f"
             ],
             [
              0.2222222222222222,
              "#7201a8"
             ],
             [
              0.3333333333333333,
              "#9c179e"
             ],
             [
              0.4444444444444444,
              "#bd3786"
             ],
             [
              0.5555555555555556,
              "#d8576b"
             ],
             [
              0.6666666666666666,
              "#ed7953"
             ],
             [
              0.7777777777777778,
              "#fb9f3a"
             ],
             [
              0.8888888888888888,
              "#fdca26"
             ],
             [
              1,
              "#f0f921"
             ]
            ],
            "type": "histogram2dcontour"
           }
          ],
          "mesh3d": [
           {
            "colorbar": {
             "outlinewidth": 0,
             "ticks": ""
            },
            "type": "mesh3d"
           }
          ],
          "parcoords": [
           {
            "line": {
             "colorbar": {
              "outlinewidth": 0,
              "ticks": ""
             }
            },
            "type": "parcoords"
           }
          ],
          "pie": [
           {
            "automargin": true,
            "type": "pie"
           }
          ],
          "scatter": [
           {
            "fillpattern": {
             "fillmode": "overlay",
             "size": 10,
             "solidity": 0.2
            },
            "type": "scatter"
           }
          ],
          "scatter3d": [
           {
            "line": {
             "colorbar": {
              "outlinewidth": 0,
              "ticks": ""
             }
            },
            "marker": {
             "colorbar": {
              "outlinewidth": 0,
              "ticks": ""
             }
            },
            "type": "scatter3d"
           }
          ],
          "scattercarpet": [
           {
            "marker": {
             "colorbar": {
              "outlinewidth": 0,
              "ticks": ""
             }
            },
            "type": "scattercarpet"
           }
          ],
          "scattergeo": [
           {
            "marker": {
             "colorbar": {
              "outlinewidth": 0,
              "ticks": ""
             }
            },
            "type": "scattergeo"
           }
          ],
          "scattergl": [
           {
            "marker": {
             "colorbar": {
              "outlinewidth": 0,
              "ticks": ""
             }
            },
            "type": "scattergl"
           }
          ],
          "scattermap": [
           {
            "marker": {
             "colorbar": {
              "outlinewidth": 0,
              "ticks": ""
             }
            },
            "type": "scattermap"
           }
          ],
          "scattermapbox": [
           {
            "marker": {
             "colorbar": {
              "outlinewidth": 0,
              "ticks": ""
             }
            },
            "type": "scattermapbox"
           }
          ],
          "scatterpolar": [
           {
            "marker": {
             "colorbar": {
              "outlinewidth": 0,
              "ticks": ""
             }
            },
            "type": "scatterpolar"
           }
          ],
          "scatterpolargl": [
           {
            "marker": {
             "colorbar": {
              "outlinewidth": 0,
              "ticks": ""
             }
            },
            "type": "scatterpolargl"
           }
          ],
          "scatterternary": [
           {
            "marker": {
             "colorbar": {
              "outlinewidth": 0,
              "ticks": ""
             }
            },
            "type": "scatterternary"
           }
          ],
          "surface": [
           {
            "colorbar": {
             "outlinewidth": 0,
             "ticks": ""
            },
            "colorscale": [
             [
              0,
              "#0d0887"
             ],
             [
              0.1111111111111111,
              "#46039f"
             ],
             [
              0.2222222222222222,
              "#7201a8"
             ],
             [
              0.3333333333333333,
              "#9c179e"
             ],
             [
              0.4444444444444444,
              "#bd3786"
             ],
             [
              0.5555555555555556,
              "#d8576b"
             ],
             [
              0.6666666666666666,
              "#ed7953"
             ],
             [
              0.7777777777777778,
              "#fb9f3a"
             ],
             [
              0.8888888888888888,
              "#fdca26"
             ],
             [
              1,
              "#f0f921"
             ]
            ],
            "type": "surface"
           }
          ],
          "table": [
           {
            "cells": {
             "fill": {
              "color": "#EBF0F8"
             },
             "line": {
              "color": "white"
             }
            },
            "header": {
             "fill": {
              "color": "#C8D4E3"
             },
             "line": {
              "color": "white"
             }
            },
            "type": "table"
           }
          ]
         },
         "layout": {
          "annotationdefaults": {
           "arrowcolor": "#2a3f5f",
           "arrowhead": 0,
           "arrowwidth": 1
          },
          "autotypenumbers": "strict",
          "coloraxis": {
           "colorbar": {
            "outlinewidth": 0,
            "ticks": ""
           }
          },
          "colorscale": {
           "diverging": [
            [
             0,
             "#8e0152"
            ],
            [
             0.1,
             "#c51b7d"
            ],
            [
             0.2,
             "#de77ae"
            ],
            [
             0.3,
             "#f1b6da"
            ],
            [
             0.4,
             "#fde0ef"
            ],
            [
             0.5,
             "#f7f7f7"
            ],
            [
             0.6,
             "#e6f5d0"
            ],
            [
             0.7,
             "#b8e186"
            ],
            [
             0.8,
             "#7fbc41"
            ],
            [
             0.9,
             "#4d9221"
            ],
            [
             1,
             "#276419"
            ]
           ],
           "sequential": [
            [
             0,
             "#0d0887"
            ],
            [
             0.1111111111111111,
             "#46039f"
            ],
            [
             0.2222222222222222,
             "#7201a8"
            ],
            [
             0.3333333333333333,
             "#9c179e"
            ],
            [
             0.4444444444444444,
             "#bd3786"
            ],
            [
             0.5555555555555556,
             "#d8576b"
            ],
            [
             0.6666666666666666,
             "#ed7953"
            ],
            [
             0.7777777777777778,
             "#fb9f3a"
            ],
            [
             0.8888888888888888,
             "#fdca26"
            ],
            [
             1,
             "#f0f921"
            ]
           ],
           "sequentialminus": [
            [
             0,
             "#0d0887"
            ],
            [
             0.1111111111111111,
             "#46039f"
            ],
            [
             0.2222222222222222,
             "#7201a8"
            ],
            [
             0.3333333333333333,
             "#9c179e"
            ],
            [
             0.4444444444444444,
             "#bd3786"
            ],
            [
             0.5555555555555556,
             "#d8576b"
            ],
            [
             0.6666666666666666,
             "#ed7953"
            ],
            [
             0.7777777777777778,
             "#fb9f3a"
            ],
            [
             0.8888888888888888,
             "#fdca26"
            ],
            [
             1,
             "#f0f921"
            ]
           ]
          },
          "colorway": [
           "#636efa",
           "#EF553B",
           "#00cc96",
           "#ab63fa",
           "#FFA15A",
           "#19d3f3",
           "#FF6692",
           "#B6E880",
           "#FF97FF",
           "#FECB52"
          ],
          "font": {
           "color": "#2a3f5f"
          },
          "geo": {
           "bgcolor": "white",
           "lakecolor": "white",
           "landcolor": "#E5ECF6",
           "showlakes": true,
           "showland": true,
           "subunitcolor": "white"
          },
          "hoverlabel": {
           "align": "left"
          },
          "hovermode": "closest",
          "mapbox": {
           "style": "light"
          },
          "paper_bgcolor": "white",
          "plot_bgcolor": "#E5ECF6",
          "polar": {
           "angularaxis": {
            "gridcolor": "white",
            "linecolor": "white",
            "ticks": ""
           },
           "bgcolor": "#E5ECF6",
           "radialaxis": {
            "gridcolor": "white",
            "linecolor": "white",
            "ticks": ""
           }
          },
          "scene": {
           "xaxis": {
            "backgroundcolor": "#E5ECF6",
            "gridcolor": "white",
            "gridwidth": 2,
            "linecolor": "white",
            "showbackground": true,
            "ticks": "",
            "zerolinecolor": "white"
           },
           "yaxis": {
            "backgroundcolor": "#E5ECF6",
            "gridcolor": "white",
            "gridwidth": 2,
            "linecolor": "white",
            "showbackground": true,
            "ticks": "",
            "zerolinecolor": "white"
           },
           "zaxis": {
            "backgroundcolor": "#E5ECF6",
            "gridcolor": "white",
            "gridwidth": 2,
            "linecolor": "white",
            "showbackground": true,
            "ticks": "",
            "zerolinecolor": "white"
           }
          },
          "shapedefaults": {
           "line": {
            "color": "#2a3f5f"
           }
          },
          "ternary": {
           "aaxis": {
            "gridcolor": "white",
            "linecolor": "white",
            "ticks": ""
           },
           "baxis": {
            "gridcolor": "white",
            "linecolor": "white",
            "ticks": ""
           },
           "bgcolor": "#E5ECF6",
           "caxis": {
            "gridcolor": "white",
            "linecolor": "white",
            "ticks": ""
           }
          },
          "title": {
           "x": 0.05
          },
          "xaxis": {
           "automargin": true,
           "gridcolor": "white",
           "linecolor": "white",
           "ticks": "",
           "title": {
            "standoff": 15
           },
           "zerolinecolor": "white",
           "zerolinewidth": 2
          },
          "yaxis": {
           "automargin": true,
           "gridcolor": "white",
           "linecolor": "white",
           "ticks": "",
           "title": {
            "standoff": 15
           },
           "zerolinecolor": "white",
           "zerolinewidth": 2
          }
         }
        }
       }
      },
      "image/png": "[encoded data removed]"
     },
     "metadata": {},
     "output_type": "display_data"
    },
    {
     "data": {
      "application/vnd.plotly.v1+json": {
       "config": {
        "plotlyServerURL": "https://plot.ly"
       },
       "data": [
        {
         "hovertemplate": "efficiency_wh_per_km=%{r}<br>segment_group=%{theta}<extra></extra>",
         "legendgroup": "",
         "line": {
          "color": "#636efa",
          "dash": "solid"
         },
         "marker": {
          "symbol": "circle"
         },
         "mode": "lines",
         "name": "",
         "r": {
          "bdata": "1qtXr14dYUAaYbmnEUZlQHFH3BF3pGNA+hicj8HpZkACK4cW2Y5iQJqZmZmZGV5AUt/ZqO+MakAAAAAAAKBjQNarV69eHWFA",
          "dtype": "f8"
         },
         "showlegend": false,
         "subplot": "polar",
         "theta": [
          "Compact",
          "Executive",
          "Large",
          "Luxury",
          "Medium",
          "Mini",
          "Passenger Van",
          "Sports",
          "Compact"
         ],
         "type": "scatterpolar"
        }
       ],
       "layout": {
        "legend": {
         "tracegroupgap": 0
        },
        "margin": {
         "t": 60
        },
        "polar": {
         "angularaxis": {
          "direction": "clockwise",
          "rotation": 90
         },
         "domain": {
          "x": [
           0,
           1
          ],
          "y": [
           0,
           1
          ]
         }
        },
        "template": {
         "data": {
          "bar": [
           {
            "error_x": {
             "color": "#2a3f5f"
            },
            "error_y": {
             "color": "#2a3f5f"
            },
            "marker": {
             "line": {
              "color": "#E5ECF6",
              "width": 0.5
             },
             "pattern": {
              "fillmode": "overlay",
              "size": 10,
              "solidity": 0.2
             }
            },
            "type": "bar"
           }
          ],
          "barpolar": [
           {
            "marker": {
             "line": {
              "color": "#E5ECF6",
              "width": 0.5
             },
             "pattern": {
              "fillmode": "overlay",
              "size": 10,
              "solidity": 0.2
             }
            },
            "type": "barpolar"
           }
          ],
          "carpet": [
           {
            "aaxis": {
             "endlinecolor": "#2a3f5f",
             "gridcolor": "white",
             "linecolor": "white",
             "minorgridcolor": "white",
             "startlinecolor": "#2a3f5f"
            },
            "baxis": {
             "endlinecolor": "#2a3f5f",
             "gridcolor": "white",
             "linecolor": "white",
             "minorgridcolor": "white",
             "startlinecolor": "#2a3f5f"
            },
            "type": "carpet"
           }
          ],
          "choropleth": [
           {
            "colorbar": {
             "outlinewidth": 0,
             "ticks": ""
            },
            "type": "choropleth"
           }
          ],
          "contour": [
           {
            "colorbar": {
             "outlinewidth": 0,
             "ticks": ""
            },
            "colorscale": [
             [
              0,
              "#0d0887"
             ],
             [
              0.1111111111111111,
              "#46039f"
             ],
             [
              0.2222222222222222,
              "#7201a8"
             ],
             [
              0.3333333333333333,
              "#9c179e"
             ],
             [
              0.4444444444444444,
              "#bd3786"
             ],
             [
              0.5555555555555556,
              "#d8576b"
             ],
             [
              0.6666666666666666,
              "#ed7953"
             ],
             [
              0.7777777777777778,
              "#fb9f3a"
             ],
             [
              0.8888888888888888,
              "#fdca26"
             ],
             [
              1,
              "#f0f921"
             ]
            ],
            "type": "contour"
           }
          ],
          "contourcarpet": [
           {
            "colorbar": {
             "outlinewidth": 0,
             "ticks": ""
            },
            "type": "contourcarpet"
           }
          ],
          "heatmap": [
           {
            "colorbar": {
             "outlinewidth": 0,
             "ticks": ""
            },
            "colorscale": [
             [
              0,
              "#0d0887"
             ],
             [
              0.1111111111111111,
              "#46039f"
             ],
             [
              0.2222222222222222,
              "#7201a8"
             ],
             [
              0.3333333333333333,
              "#9c179e"
             ],
             [
              0.4444444444444444,
              "#bd3786"
             ],
             [
              0.5555555555555556,
              "#d8576b"
             ],
             [
              0.6666666666666666,
              "#ed7953"
             ],
             [
              0.7777777777777778,
              "#fb9f3a"
             ],
             [
              0.8888888888888888,
              "#fdca26"
             ],
             [
              1,
              "#f0f921"
             ]
            ],
            "type": "heatmap"
           }
          ],
          "histogram": [
           {
            "marker": {
             "pattern": {
              "fillmode": "overlay",
              "size": 10,
              "solidity": 0.2
             }
            },
            "type": "histogram"
           }
          ],
          "histogram2d": [
           {
            "colorbar": {
             "outlinewidth": 0,
             "ticks": ""
            },
            "colorscale": [
             [
              0,
              "#0d0887"
             ],
             [
              0.1111111111111111,
              "#46039f"
             ],
             [
              0.2222222222222222,
              "#7201a8"
             ],
             [
              0.3333333333333333,
              "#9c179e"
             ],
             [
              0.4444444444444444,
              "#bd3786"
             ],
             [
              0.5555555555555556,
              "#d8576b"
             ],
             [
              0.6666666666666666,
              "#ed7953"
             ],
             [
              0.7777777777777778,
              "#fb9f3a"
             ],
             [
              0.8888888888888888,
              "#fdca26"
             ],
             [
              1,
              "#f0f921"
             ]
            ],
            "type": "histogram2d"
           }
          ],
          "histogram2dcontour": [
           {
            "colorbar": {
             "outlinewidth": 0,
             "ticks": ""
            },
            "colorscale": [
             [
              0,
              "#0d0887"
             ],
             [
              0.1111111111111111,
              "#46039f"
             ],
             [
              0.2222222222222222,
              "#7201a8"
             ],
             [
              0.3333333333333333,
              "#9c179e"
             ],
             [
              0.4444444444444444,
              "#bd3786"
             ],
             [
              0.5555555555555556,
              "#d8576b"
             ],
             [
              0.6666666666666666,
              "#ed7953"
             ],
             [
              0.7777777777777778,
              "#fb9f3a"
             ],
             [
              0.8888888888888888,
              "#fdca26"
             ],
             [
              1,
              "#f0f921"
             ]
            ],
            "type": "histogram2dcontour"
           }
          ],
          "mesh3d": [
           {
            "colorbar": {
             "outlinewidth": 0,
             "ticks": ""
            },
            "type": "mesh3d"
           }
          ],
          "parcoords": [
           {
            "line": {
             "colorbar": {
              "outlinewidth": 0,
              "ticks": ""
             }
            },
            "type": "parcoords"
           }
          ],
          "pie": [
           {
            "automargin": true,
            "type": "pie"
           }
          ],
          "scatter": [
           {
            "fillpattern": {
             "fillmode": "overlay",
             "size": 10,
             "solidity": 0.2
            },
            "type": "scatter"
           }
          ],
          "scatter3d": [
           {
            "line": {
             "colorbar": {
              "outlinewidth": 0,
              "ticks": ""
             }
            },
            "marker": {
             "colorbar": {
              "outlinewidth": 0,
              "ticks": ""
             }
            },
            "type": "scatter3d"
           }
          ],
          "scattercarpet": [
           {
            "marker": {
             "colorbar": {
              "outlinewidth": 0,
              "ticks": ""
             }
            },
            "type": "scattercarpet"
           }
          ],
          "scattergeo": [
           {
            "marker": {
             "colorbar": {
              "outlinewidth": 0,
              "ticks": ""
             }
            },
            "type": "scattergeo"
           }
          ],
          "scattergl": [
           {
            "marker": {
             "colorbar": {
              "outlinewidth": 0,
              "ticks": ""
             }
            },
            "type": "scattergl"
           }
          ],
          "scattermap": [
           {
            "marker": {
             "colorbar": {
              "outlinewidth": 0,
              "ticks": ""
             }
            },
            "type": "scattermap"
           }
          ],
          "scattermapbox": [
           {
            "marker": {
             "colorbar": {
              "outlinewidth": 0,
              "ticks": ""
             }
            },
            "type": "scattermapbox"
           }
          ],
          "scatterpolar": [
           {
            "marker": {
             "colorbar": {
              "outlinewidth": 0,
              "ticks": ""
             }
            },
            "type": "scatterpolar"
           }
          ],
          "scatterpolargl": [
           {
            "marker": {
             "colorbar": {
              "outlinewidth": 0,
              "ticks": ""
             }
            },
            "type": "scatterpolargl"
           }
          ],
          "scatterternary": [
           {
            "marker": {
             "colorbar": {
              "outlinewidth": 0,
              "ticks": ""
             }
            },
            "type": "scatterternary"
           }
          ],
          "surface": [
           {
            "colorbar": {
             "outlinewidth": 0,
             "ticks": ""
            },
            "colorscale": [
             [
              0,
              "#0d0887"
             ],
             [
              0.1111111111111111,
              "#46039f"
             ],
             [
              0.2222222222222222,
              "#7201a8"
             ],
             [
              0.3333333333333333,
              "#9c179e"
             ],
             [
              0.4444444444444444,
              "#bd3786"
             ],
             [
              0.5555555555555556,
              "#d8576b"
             ],
             [
              0.6666666666666666,
              "#ed7953"
             ],
             [
              0.7777777777777778,
              "#fb9f3a"
             ],
             [
              0.8888888888888888,
              "#fdca26"
             ],
             [
              1,
              "#f0f921"
             ]
            ],
            "type": "surface"
           }
          ],
          "table": [
           {
            "cells": {
             "fill": {
              "color": "#EBF0F8"
             },
             "line": {
              "color": "white"
             }
            },
            "header": {
             "fill": {
              "color": "#C8D4E3"
             },
             "line": {
              "color": "white"
             }
            },
            "type": "table"
           }
          ]
         },
         "layout": {
          "annotationdefaults": {
           "arrowcolor": "#2a3f5f",
           "arrowhead": 0,
           "arrowwidth": 1
          },
          "autotypenumbers": "strict",
          "coloraxis": {
           "colorbar": {
            "outlinewidth": 0,
            "ticks": ""
           }
          },
          "colorscale": {
           "diverging": [
            [
             0,
             "#8e0152"
            ],
            [
             0.1,
             "#c51b7d"
            ],
            [
             0.2,
             "#de77ae"
            ],
            [
             0.3,
             "#f1b6da"
            ],
            [
             0.4,
             "#fde0ef"
            ],
            [
             0.5,
             "#f7f7f7"
            ],
            [
             0.6,
             "#e6f5d0"
            ],
            [
             0.7,
             "#b8e186"
            ],
            [
             0.8,
             "#7fbc41"
            ],
            [
             0.9,
             "#4d9221"
            ],
            [
             1,
             "#276419"
            ]
           ],
           "sequential": [
            [
             0,
             "#0d0887"
            ],
            [
             0.1111111111111111,
             "#46039f"
            ],
            [
             0.2222222222222222,
             "#7201a8"
            ],
            [
             0.3333333333333333,
             "#9c179e"
            ],
            [
             0.4444444444444444,
             "#bd3786"
            ],
            [
             0.5555555555555556,
             "#d8576b"
            ],
            [
             0.6666666666666666,
             "#ed7953"
            ],
            [
             0.7777777777777778,
             "#fb9f3a"
            ],
            [
             0.8888888888888888,
             "#fdca26"
            ],
            [
             1,
             "#f0f921"
            ]
           ],
           "sequentialminus": [
            [
             0,
             "#0d0887"
            ],
            [
             0.1111111111111111,
             "#46039f"
            ],
            [
             0.2222222222222222,
             "#7201a8"
            ],
            [
             0.3333333333333333,
             "#9c179e"
            ],
            [
             0.4444444444444444,
             "#bd3786"
            ],
            [
             0.5555555555555556,
             "#d8576b"
            ],
            [
             0.6666666666666666,
             "#ed7953"
            ],
            [
             0.7777777777777778,
             "#fb9f3a"
            ],
            [
             0.8888888888888888,
             "#fdca26"
            ],
            [
             1,
             "#f0f921"
            ]
           ]
          },
          "colorway": [
           "#636efa",
           "#EF553B",
           "#00cc96",
           "#ab63fa",
           "#FFA15A",
           "#19d3f3",
           "#FF6692",
           "#B6E880",
           "#FF97FF",
           "#FECB52"
          ],
          "font": {
           "color": "#2a3f5f"
          },
          "geo": {
           "bgcolor": "white",
           "lakecolor": "white",
           "landcolor": "#E5ECF6",
           "showlakes": true,
           "showland": true,
           "subunitcolor": "white"
          },
          "hoverlabel": {
           "align": "left"
          },
          "hovermode": "closest",
          "mapbox": {
           "style": "light"
          },
          "paper_bgcolor": "white",
          "plot_bgcolor": "#E5ECF6",
          "polar": {
           "angularaxis": {
            "gridcolor": "white",
            "linecolor": "white",
            "ticks": ""
           },
           "bgcolor": "#E5ECF6",
           "radialaxis": {
            "gridcolor": "white",
            "linecolor": "white",
            "ticks": ""
           }
          },
          "scene": {
           "xaxis": {
            "backgroundcolor": "#E5ECF6",
            "gridcolor": "white",
            "gridwidth": 2,
            "linecolor": "white",
            "showbackground": true,
            "ticks": "",
            "zerolinecolor": "white"
           },
           "yaxis": {
            "backgroundcolor": "#E5ECF6",
            "gridcolor": "white",
            "gridwidth": 2,
            "linecolor": "white",
            "showbackground": true,
            "ticks": "",
            "zerolinecolor": "white"
           },
           "zaxis": {
            "backgroundcolor": "#E5ECF6",
            "gridcolor": "white",
            "gridwidth": 2,
            "linecolor": "white",
            "showbackground": true,
            "ticks": "",
            "zerolinecolor": "white"
           }
          },
          "shapedefaults": {
           "line": {
            "color": "#2a3f5f"
           }
          },
          "ternary": {
           "aaxis": {
            "gridcolor": "white",
            "linecolor": "white",
            "ticks": ""
           },
           "baxis": {
            "gridcolor": "white",
            "linecolor": "white",
            "ticks": ""
           },
           "bgcolor": "#E5ECF6",
           "caxis": {
            "gridcolor": "white",
            "linecolor": "white",
            "ticks": ""
           }
          },
          "title": {
           "x": 0.05
          },
          "xaxis": {
           "automargin": true,
           "gridcolor": "white",
           "linecolor": "white",
           "ticks": "",
           "title": {
            "standoff": 15
           },
           "zerolinecolor": "white",
           "zerolinewidth": 2
          },
          "yaxis": {
           "automargin": true,
           "gridcolor": "white",
           "linecolor": "white",
           "ticks": "",
           "title": {
            "standoff": 15
           },
           "zerolinecolor": "white",
           "zerolinewidth": 2
          }
         }
        }
       }
      },
      "image/png": "[encoded data removed]"
     },
     "metadata": {},
     "output_type": "display_data"
    }
   ],
   "source": [
    "#Compare normalized performance profiles of different segment_groups\n",
    "segment_means = data.groupby('segment_group')[['range_km', 'top_speed_kmh', \n",
    "                                             'acceleration_0_100_s', 'battery_capacity_kWh', \n",
    "                                             'efficiency_wh_per_km']].mean().reset_index()\n",
    "\n",
    "fig = px.line_polar(segment_means, r='range_km', theta='segment_group', line_close=True)\n",
    "fig.show()\n",
    "fig = px.line_polar(segment_means, r='battery_capacity_kWh', theta='segment_group', line_close=True)\n",
    "fig.show()\n",
    "fig = px.line_polar(segment_means, r='efficiency_wh_per_km', theta='segment_group', line_close=True)\n",
    "fig.show()"
   ]
  },
  {
   "cell_type": "markdown",
   "id": "aca14973-4aee-459d-b48c-5319818ce3ee",
   "metadata": {},
   "source": [
    "# 3. Machine learning model to predict the EV range"
   ]
  },
  {
   "cell_type": "markdown",
   "id": "f8c60e7d-b333-45c8-8651-bc4f6924db82",
   "metadata": {},
   "source": [
    "## Preprocessing"
   ]
  },
  {
   "cell_type": "code",
   "execution_count": 28,
   "id": "eeae8884-c623-400d-83ea-a76b4b27ad0c",
   "metadata": {},
   "outputs": [
    {
     "data": {
      "text/plain": [
       "Index(['brand', 'model', 'top_speed_kmh', 'battery_capacity_kWh',\n",
       "       'number_of_cells', 'torque_nm', 'efficiency_wh_per_km', 'range_km',\n",
       "       'acceleration_0_100_s', 'fast_charging_power_kw_dc', 'fast_charge_port',\n",
       "       'towing_capacity_kg', 'seats', 'drivetrain', 'length_mm', 'width_mm',\n",
       "       'height_mm', 'car_body_type', 'cargo_volume_corrected',\n",
       "       'segment_group'],\n",
       "      dtype='object')"
      ]
     },
     "execution_count": 28,
     "metadata": {},
     "output_type": "execute_result"
    }
   ],
   "source": [
    "data.columns"
   ]
  },
  {
   "cell_type": "code",
   "execution_count": 29,
   "id": "e6b65747-aea9-4b07-b13d-b3cb91c436c4",
   "metadata": {},
   "outputs": [],
   "source": [
    "X = data.drop('range_km', axis=1)\n",
    "y = data['range_km']"
   ]
  },
  {
   "cell_type": "code",
   "execution_count": 30,
   "id": "0c8d8e9f-be02-4ad0-ad27-a7209b03f358",
   "metadata": {},
   "outputs": [],
   "source": [
    "from sklearn.compose import ColumnTransformer\n",
    "from sklearn.preprocessing import StandardScaler, OneHotEncoder\n",
    "from sklearn.model_selection import train_test_split\n",
    "from sklearn.pipeline import make_pipeline\n",
    "from sklearn.linear_model import LinearRegression, Ridge, Lasso\n",
    "from sklearn.ensemble import RandomForestRegressor, GradientBoostingRegressor, AdaBoostRegressor, ExtraTreesRegressor\n",
    "from sklearn.svm import SVR\n",
    "from sklearn.neighbors import KNeighborsRegressor\n",
    "from sklearn.metrics import mean_squared_error, r2_score"
   ]
  },
  {
   "cell_type": "code",
   "execution_count": 31,
   "id": "5c60fcd8-0ef5-48c9-b368-8557a8dd0232",
   "metadata": {},
   "outputs": [],
   "source": [
    "num_cols_except_target = [col for col in num_cols if col != 'range_km']\n",
    "\n",
    "preprocessor = ColumnTransformer([\n",
    "    ('num', StandardScaler(), num_cols_except_target),\n",
    "    ('cat', OneHotEncoder(drop='first', handle_unknown='ignore'), cat_cols)\n",
    "])\n",
    "\n",
    "X_train, X_test, y_train, y_test = train_test_split(\n",
    "    X, y, test_size=0.2, random_state=869\n",
    ")"
   ]
  },
  {
   "cell_type": "markdown",
   "id": "1b6f9e27-3946-48cd-a83d-37583918f059",
   "metadata": {},
   "source": [
    "## Model definition"
   ]
  },
  {
   "cell_type": "code",
   "execution_count": 33,
   "id": "b1081d06-90b5-45ff-9107-b2abe9069057",
   "metadata": {},
   "outputs": [],
   "source": [
    "models = {\n",
    "    \"Linear Regression\": LinearRegression(),\n",
    "    \"Ridge Regression\": Ridge(),\n",
    "    \"Lasso Regression\": Lasso(),\n",
    "    \"Random Forest\": RandomForestRegressor(n_estimators=100, random_state=537),\n",
    "    \"Gradient Boosting\": GradientBoostingRegressor(n_estimators=100, random_state=537),\n",
    "    \"AdaBoost\": AdaBoostRegressor(n_estimators=100, random_state=537),\n",
    "    \"Extra Trees\": ExtraTreesRegressor(n_estimators=100, random_state=537),\n",
    "    \"Support Vector Regressor\": SVR(),\n",
    "    \"K-Nearest Neighbors\": KNeighborsRegressor(n_neighbors=5)\n",
    "}"
   ]
  },
  {
   "cell_type": "markdown",
   "id": "df817ee9-38b2-4b4e-a10c-2138aeddf237",
   "metadata": {},
   "source": [
    "## Model Training, Prediction and Evaluation"
   ]
  },
  {
   "cell_type": "code",
   "execution_count": 37,
   "id": "198cfef4-a8bf-4d0c-af37-620f80e089c7",
   "metadata": {},
   "outputs": [
    {
     "data": {
      "text/html": [
       "<div>\n",
       "<style scoped>\n",
       "    .dataframe tbody tr th:only-of-type {\n",
       "        vertical-align: middle;\n",
       "    }\n",
       "\n",
       "    .dataframe tbody tr th {\n",
       "        vertical-align: top;\n",
       "    }\n",
       "\n",
       "    .dataframe thead th {\n",
       "        text-align: right;\n",
       "    }\n",
       "</style>\n",
       "<table border=\"1\" class=\"dataframe\">\n",
       "  <thead>\n",
       "    <tr style=\"text-align: right;\">\n",
       "      <th></th>\n",
       "      <th>Model</th>\n",
       "      <th>RMSE</th>\n",
       "      <th>R² Score</th>\n",
       "    </tr>\n",
       "  </thead>\n",
       "  <tbody>\n",
       "    <tr>\n",
       "      <th>1</th>\n",
       "      <td>Ridge Regression</td>\n",
       "      <td>17.927764</td>\n",
       "      <td>0.969934</td>\n",
       "    </tr>\n",
       "    <tr>\n",
       "      <th>0</th>\n",
       "      <td>Linear Regression</td>\n",
       "      <td>18.015952</td>\n",
       "      <td>0.969637</td>\n",
       "    </tr>\n",
       "    <tr>\n",
       "      <th>4</th>\n",
       "      <td>Gradient Boosting</td>\n",
       "      <td>18.018612</td>\n",
       "      <td>0.969629</td>\n",
       "    </tr>\n",
       "    <tr>\n",
       "      <th>3</th>\n",
       "      <td>Random Forest</td>\n",
       "      <td>18.905303</td>\n",
       "      <td>0.966566</td>\n",
       "    </tr>\n",
       "    <tr>\n",
       "      <th>2</th>\n",
       "      <td>Lasso Regression</td>\n",
       "      <td>19.077602</td>\n",
       "      <td>0.965954</td>\n",
       "    </tr>\n",
       "    <tr>\n",
       "      <th>6</th>\n",
       "      <td>Extra Trees</td>\n",
       "      <td>19.212211</td>\n",
       "      <td>0.965471</td>\n",
       "    </tr>\n",
       "    <tr>\n",
       "      <th>5</th>\n",
       "      <td>AdaBoost</td>\n",
       "      <td>26.737026</td>\n",
       "      <td>0.933127</td>\n",
       "    </tr>\n",
       "    <tr>\n",
       "      <th>8</th>\n",
       "      <td>K-Nearest Neighbors</td>\n",
       "      <td>37.525408</td>\n",
       "      <td>0.868273</td>\n",
       "    </tr>\n",
       "    <tr>\n",
       "      <th>7</th>\n",
       "      <td>Support Vector Regressor</td>\n",
       "      <td>86.955182</td>\n",
       "      <td>0.292683</td>\n",
       "    </tr>\n",
       "  </tbody>\n",
       "</table>\n",
       "</div>"
      ],
      "text/plain": [
       "                      Model       RMSE  R² Score\n",
       "1          Ridge Regression  17.927764  0.969934\n",
       "0         Linear Regression  18.015952  0.969637\n",
       "4         Gradient Boosting  18.018612  0.969629\n",
       "3             Random Forest  18.905303  0.966566\n",
       "2          Lasso Regression  19.077602  0.965954\n",
       "6               Extra Trees  19.212211  0.965471\n",
       "5                  AdaBoost  26.737026  0.933127\n",
       "8       K-Nearest Neighbors  37.525408  0.868273\n",
       "7  Support Vector Regressor  86.955182  0.292683"
      ]
     },
     "execution_count": 37,
     "metadata": {},
     "output_type": "execute_result"
    }
   ],
   "source": [
    "import warnings\n",
    "warnings.filterwarnings(\"ignore\", category=UserWarning, module=\"sklearn\")\n",
    "\n",
    "#Create model evaluation loop\n",
    "results = []\n",
    "\n",
    "for name, model in models.items():\n",
    "    pipe = make_pipeline(preprocessor, model)\n",
    "    pipe.fit(X_train, y_train)\n",
    "    y_pred = pipe.predict(X_test)\n",
    "\n",
    "    results.append({\n",
    "        'Model': name,\n",
    "        'RMSE': np.sqrt(mean_squared_error(y_test, y_pred)),\n",
    "        'R² Score': r2_score(y_test, y_pred)\n",
    "    })\n",
    "\n",
    "results_df = pd.DataFrame(results).sort_values(by='RMSE', ascending=True)\n",
    "results_df"
   ]
  },
  {
   "cell_type": "markdown",
   "id": "8d32d3ba-4481-474d-8cad-eb47e171b936",
   "metadata": {},
   "source": [
    "## Best model visualization"
   ]
  },
  {
   "cell_type": "code",
   "execution_count": 38,
   "id": "f191149f-b191-421a-988b-1329b0d96822",
   "metadata": {},
   "outputs": [
    {
     "data": {
      "image/png": "[encoded data removed]",
      "text/plain": [
       "<Figure size 800x600 with 1 Axes>"
      ]
     },
     "metadata": {},
     "output_type": "display_data"
    }
   ],
   "source": [
    "#Fit Ridge model in a pipeline \n",
    "best_model = make_pipeline(preprocessor, Ridge())\n",
    "best_model.fit(X_train, y_train)\n",
    "\n",
    "#Predict on the test set\n",
    "y_pred = best_model.predict(X_test)\n",
    "\n",
    "#Visualization: Actual and predicted Range\n",
    "plt.figure(figsize=(8,6))\n",
    "plt.scatter(y_test, y_pred, alpha=0.6, color='dodgerblue', edgecolor='white', s=70)\n",
    "plt.plot([y.min(), y.max()], [y.min(), y.max()], 'r--', lw=2)\n",
    "\n",
    "plt.title(\"Actual vs Predicted EV Range (Ridge Regression)\", fontsize=14, weight='bold')\n",
    "plt.xlabel(\"Actual Range (km)\", fontsize=12)\n",
    "plt.ylabel(\"Predicted Range (km)\", fontsize=12)\n",
    "\n",
    "plt.grid(alpha=0.3)\n",
    "plt.tight_layout()\n",
    "plt.show()"
   ]
  },
  {
   "cell_type": "markdown",
   "id": "a8ee6e75-0b6b-4e66-be7d-fa55aae9a0fa",
   "metadata": {},
   "source": [
    "# 4. EV Market Segmentation: Factor + Cluster Analysis"
   ]
  },
  {
   "cell_type": "code",
   "execution_count": 39,
   "id": "03a19a8b-4f37-4519-a862-12fc99596d3a",
   "metadata": {},
   "outputs": [],
   "source": [
    "from factor_analyzer import FactorAnalyzer, calculate_kmo, calculate_bartlett_sphericity\n",
    "from sklearn.cluster import KMeans\n",
    "from sklearn.manifold import TSNE\n",
    "from IPython.display import display, HTML"
   ]
  },
  {
   "cell_type": "markdown",
   "id": "33e027bc-dffe-485f-865e-cec57444411c",
   "metadata": {},
   "source": [
    "### Bartlett's Test"
   ]
  },
  {
   "cell_type": "code",
   "execution_count": 45,
   "id": "7553fc05-5a58-446b-9464-6cdd72ac13c1",
   "metadata": {},
   "outputs": [
    {
     "data": {
      "text/markdown": [
       "\n",
       "**Bartlett’s Test**\n",
       "\n",
       "- **Chi-square:** 6716.45  \n",
       "- **P-value:** 0.00000  \n",
       "\n",
       "> p < 0.05 → variables are sufficiently correlated for Factor Analysis.\n"
      ],
      "text/plain": [
       "<IPython.core.display.Markdown object>"
      ]
     },
     "metadata": {},
     "output_type": "display_data"
    }
   ],
   "source": [
    "# Bartlett's Test (Check correlation adequacy)\n",
    "chi_square, p_value = calculate_bartlett_sphericity(data[num_cols])\n",
    "\n",
    "from IPython.display import Markdown, display\n",
    "\n",
    "md = f'''\n",
    "**Bartlett’s Test**\n",
    "\n",
    "- **Chi-square:** {chi_square:.2f}  \n",
    "- **P-value:** {p_value:.5f}  \n",
    "\n",
    "> p < 0.05 → variables are sufficiently correlated for Factor Analysis.\n",
    "'''\n",
    "display(Markdown(md))"
   ]
  },
  {
   "cell_type": "markdown",
   "id": "17196f39-b89a-4a3f-987b-bf3b92bead41",
   "metadata": {},
   "source": [
    "### KMO Test"
   ]
  },
  {
   "cell_type": "code",
   "execution_count": 46,
   "id": "c63aa3f7-1fe2-40b3-9821-e33aaa1b81ec",
   "metadata": {},
   "outputs": [
    {
     "data": {
      "text/markdown": [
       "\n",
       "**KMO Measure**\n",
       "- **Overall KMO:** 0.776\n",
       "> ✅ A KMO value > 0.7 indicates that your data is suitable for Factor Analysis.\n"
      ],
      "text/plain": [
       "<IPython.core.display.Markdown object>"
      ]
     },
     "metadata": {},
     "output_type": "display_data"
    }
   ],
   "source": [
    "#KMO Test (Measure sampling adequacy)\n",
    "kmo_all, kmo_model = calculate_kmo(data[num_cols])\n",
    "\n",
    "md = f'''\n",
    "**KMO Measure**\n",
    "- **Overall KMO:** {kmo_model:.3f}\n",
    "> ✅ A KMO value > 0.7 indicates that your data is suitable for Factor Analysis.\n",
    "'''\n",
    "\n",
    "display(Markdown(md))"
   ]
  },
  {
   "cell_type": "markdown",
   "id": "52b525f1-91e6-42b1-9c5e-91d2dd45fcbf",
   "metadata": {},
   "source": [
    "### Factor Analysis"
   ]
  },
  {
   "cell_type": "code",
   "execution_count": 54,
   "id": "62fdc34b-ee3f-471c-ba11-7dfd569cac65",
   "metadata": {},
   "outputs": [
    {
     "data": {
      "text/html": [
       "<iframe\n",
       "    scrolling=\"no\"\n",
       "    width=\"100%\"\n",
       "    height=\"545px\"\n",
       "    src=\"iframe_figures/figure_54.html\"\n",
       "    frameborder=\"0\"\n",
       "    allowfullscreen\n",
       "></iframe>\n"
      ]
     },
     "metadata": {},
     "output_type": "display_data"
    }
   ],
   "source": [
    "warnings.filterwarnings(\"ignore\", category=FutureWarning)\n",
    "\n",
    "#Determine number of factors (Eigenvalues)\n",
    "fa = FactorAnalyzer(rotation=None)\n",
    "fa.fit(data[num_cols])\n",
    "ev, _ = fa.get_eigenvalues()\n",
    "\n",
    "fig = go.Figure()\n",
    "fig.add_trace(go.Scatter(\n",
    "    x=list(range(1,len(ev)+1)), \n",
    "    y=ev, \n",
    "    mode='lines+markers',\n",
    "    name='Eigenvalues',\n",
    "    line=dict(color='limegreen'),\n",
    "    marker=dict(color='limegreen', size=8)                     \n",
    "))\n",
    "fig.add_shape(\n",
    "   type='line',\n",
    "    x0=1, y0=1,\n",
    "    x1=len(ev), y1=1,\n",
    "    line=dict(color='red', width=2, dash='dash'),\n",
    "    name='Eigenvalue = 1'\n",
    ")  \n",
    "fig.update_layout(\n",
    "    title='Scree Plot - Eigenvalues',\n",
    "    xaxis_title='Factors',\n",
    "    yaxis_title='Eigenvalue',\n",
    "    template='plotly_dark',\n",
    "    title_font_color='limegreen',\n",
    "    plot_bgcolor='black',\n",
    "    paper_bgcolor='black',\n",
    "    font=dict(color='white')\n",
    ")\n",
    "fig.show(renderer='iframe')"
   ]
  },
  {
   "cell_type": "code",
   "execution_count": 58,
   "id": "0fe4f5a9-bd82-4b72-8cad-412244cf1260",
   "metadata": {},
   "outputs": [
    {
     "data": {
      "application/vnd.plotly.v1+json": {
       "config": {
        "plotlyServerURL": "https://plot.ly"
       },
       "data": [
        {
         "cells": {
          "align": "left",
          "fill": {
           "color": "#1e1e1e"
          },
          "font": {
           "color": "yellow",
           "size": 12
          },
          "values": [
           [
            "top_speed_kmh",
            "battery_capacity_kWh",
            "number_of_cells",
            "torque_nm",
            "efficiency_wh_per_km",
            "range_km",
            "acceleration_0_100_s",
            "fast_charging_power_kw_dc",
            "towing_capacity_kg",
            "cargo_volume_corrected",
            "seats",
            "length_mm",
            "width_mm",
            "height_mm"
           ],
           [
            0.85,
            0.76,
            0.09,
            0.92,
            0.39,
            0.65,
            -0.84,
            0.71,
            0.32,
            -0.11,
            -0.2,
            0.5,
            0.59,
            -0.26
           ],
           [
            -0.16,
            0.26,
            0,
            0.05,
            0.71,
            -0.1,
            0.29,
            0,
            0.31,
            0.69,
            0.78,
            0.69,
            0.59,
            0.81
           ],
           [
            0.31,
            0.48,
            0.27,
            0.05,
            -0.22,
            0.71,
            -0.2,
            0.37,
            0.15,
            0.13,
            -0.04,
            0.35,
            0.33,
            -0.24
           ]
          ]
         },
         "header": {
          "align": "left",
          "fill": {
           "color": "darkslategray"
          },
          "font": {
           "color": "limegreen",
           "size": 13
          },
          "values": [
           "Feature",
           "Factore1",
           "Factore2",
           "Factore3"
          ]
         },
         "type": "table"
        }
       ],
       "layout": {
        "template": {
         "data": {
          "bar": [
           {
            "error_x": {
             "color": "#2a3f5f"
            },
            "error_y": {
             "color": "#2a3f5f"
            },
            "marker": {
             "line": {
              "color": "#E5ECF6",
              "width": 0.5
             },
             "pattern": {
              "fillmode": "overlay",
              "size": 10,
              "solidity": 0.2
             }
            },
            "type": "bar"
           }
          ],
          "barpolar": [
           {
            "marker": {
             "line": {
              "color": "#E5ECF6",
              "width": 0.5
             },
             "pattern": {
              "fillmode": "overlay",
              "size": 10,
              "solidity": 0.2
             }
            },
            "type": "barpolar"
           }
          ],
          "carpet": [
           {
            "aaxis": {
             "endlinecolor": "#2a3f5f",
             "gridcolor": "white",
             "linecolor": "white",
             "minorgridcolor": "white",
             "startlinecolor": "#2a3f5f"
            },
            "baxis": {
             "endlinecolor": "#2a3f5f",
             "gridcolor": "white",
             "linecolor": "white",
             "minorgridcolor": "white",
             "startlinecolor": "#2a3f5f"
            },
            "type": "carpet"
           }
          ],
          "choropleth": [
           {
            "colorbar": {
             "outlinewidth": 0,
             "ticks": ""
            },
            "type": "choropleth"
           }
          ],
          "contour": [
           {
            "colorbar": {
             "outlinewidth": 0,
             "ticks": ""
            },
            "colorscale": [
             [
              0,
              "#0d0887"
             ],
             [
              0.1111111111111111,
              "#46039f"
             ],
             [
              0.2222222222222222,
              "#7201a8"
             ],
             [
              0.3333333333333333,
              "#9c179e"
             ],
             [
              0.4444444444444444,
              "#bd3786"
             ],
             [
              0.5555555555555556,
              "#d8576b"
             ],
             [
              0.6666666666666666,
              "#ed7953"
             ],
             [
              0.7777777777777778,
              "#fb9f3a"
             ],
             [
              0.8888888888888888,
              "#fdca26"
             ],
             [
              1,
              "#f0f921"
             ]
            ],
            "type": "contour"
           }
          ],
          "contourcarpet": [
           {
            "colorbar": {
             "outlinewidth": 0,
             "ticks": ""
            },
            "type": "contourcarpet"
           }
          ],
          "heatmap": [
           {
            "colorbar": {
             "outlinewidth": 0,
             "ticks": ""
            },
            "colorscale": [
             [
              0,
              "#0d0887"
             ],
             [
              0.1111111111111111,
              "#46039f"
             ],
             [
              0.2222222222222222,
              "#7201a8"
             ],
             [
              0.3333333333333333,
              "#9c179e"
             ],
             [
              0.4444444444444444,
              "#bd3786"
             ],
             [
              0.5555555555555556,
              "#d8576b"
             ],
             [
              0.6666666666666666,
              "#ed7953"
             ],
             [
              0.7777777777777778,
              "#fb9f3a"
             ],
             [
              0.8888888888888888,
              "#fdca26"
             ],
             [
              1,
              "#f0f921"
             ]
            ],
            "type": "heatmap"
           }
          ],
          "histogram": [
           {
            "marker": {
             "pattern": {
              "fillmode": "overlay",
              "size": 10,
              "solidity": 0.2
             }
            },
            "type": "histogram"
           }
          ],
          "histogram2d": [
           {
            "colorbar": {
             "outlinewidth": 0,
             "ticks": ""
            },
            "colorscale": [
             [
              0,
              "#0d0887"
             ],
             [
              0.1111111111111111,
              "#46039f"
             ],
             [
              0.2222222222222222,
              "#7201a8"
             ],
             [
              0.3333333333333333,
              "#9c179e"
             ],
             [
              0.4444444444444444,
              "#bd3786"
             ],
             [
              0.5555555555555556,
              "#d8576b"
             ],
             [
              0.6666666666666666,
              "#ed7953"
             ],
             [
              0.7777777777777778,
              "#fb9f3a"
             ],
             [
              0.8888888888888888,
              "#fdca26"
             ],
             [
              1,
              "#f0f921"
             ]
            ],
            "type": "histogram2d"
           }
          ],
          "histogram2dcontour": [
           {
            "colorbar": {
             "outlinewidth": 0,
             "ticks": ""
            },
            "colorscale": [
             [
              0,
              "#0d0887"
             ],
             [
              0.1111111111111111,
              "#46039f"
             ],
             [
              0.2222222222222222,
              "#7201a8"
             ],
             [
              0.3333333333333333,
              "#9c179e"
             ],
             [
              0.4444444444444444,
              "#bd3786"
             ],
             [
              0.5555555555555556,
              "#d8576b"
             ],
             [
              0.6666666666666666,
              "#ed7953"
             ],
             [
              0.7777777777777778,
              "#fb9f3a"
             ],
             [
              0.8888888888888888,
              "#fdca26"
             ],
             [
              1,
              "#f0f921"
             ]
            ],
            "type": "histogram2dcontour"
           }
          ],
          "mesh3d": [
           {
            "colorbar": {
             "outlinewidth": 0,
             "ticks": ""
            },
            "type": "mesh3d"
           }
          ],
          "parcoords": [
           {
            "line": {
             "colorbar": {
              "outlinewidth": 0,
              "ticks": ""
             }
            },
            "type": "parcoords"
           }
          ],
          "pie": [
           {
            "automargin": true,
            "type": "pie"
           }
          ],
          "scatter": [
           {
            "fillpattern": {
             "fillmode": "overlay",
             "size": 10,
             "solidity": 0.2
            },
            "type": "scatter"
           }
          ],
          "scatter3d": [
           {
            "line": {
             "colorbar": {
              "outlinewidth": 0,
              "ticks": ""
             }
            },
            "marker": {
             "colorbar": {
              "outlinewidth": 0,
              "ticks": ""
             }
            },
            "type": "scatter3d"
           }
          ],
          "scattercarpet": [
           {
            "marker": {
             "colorbar": {
              "outlinewidth": 0,
              "ticks": ""
             }
            },
            "type": "scattercarpet"
           }
          ],
          "scattergeo": [
           {
            "marker": {
             "colorbar": {
              "outlinewidth": 0,
              "ticks": ""
             }
            },
            "type": "scattergeo"
           }
          ],
          "scattergl": [
           {
            "marker": {
             "colorbar": {
              "outlinewidth": 0,
              "ticks": ""
             }
            },
            "type": "scattergl"
           }
          ],
          "scattermap": [
           {
            "marker": {
             "colorbar": {
              "outlinewidth": 0,
              "ticks": ""
             }
            },
            "type": "scattermap"
           }
          ],
          "scattermapbox": [
           {
            "marker": {
             "colorbar": {
              "outlinewidth": 0,
              "ticks": ""
             }
            },
            "type": "scattermapbox"
           }
          ],
          "scatterpolar": [
           {
            "marker": {
             "colorbar": {
              "outlinewidth": 0,
              "ticks": ""
             }
            },
            "type": "scatterpolar"
           }
          ],
          "scatterpolargl": [
           {
            "marker": {
             "colorbar": {
              "outlinewidth": 0,
              "ticks": ""
             }
            },
            "type": "scatterpolargl"
           }
          ],
          "scatterternary": [
           {
            "marker": {
             "colorbar": {
              "outlinewidth": 0,
              "ticks": ""
             }
            },
            "type": "scatterternary"
           }
          ],
          "surface": [
           {
            "colorbar": {
             "outlinewidth": 0,
             "ticks": ""
            },
            "colorscale": [
             [
              0,
              "#0d0887"
             ],
             [
              0.1111111111111111,
              "#46039f"
             ],
             [
              0.2222222222222222,
              "#7201a8"
             ],
             [
              0.3333333333333333,
              "#9c179e"
             ],
             [
              0.4444444444444444,
              "#bd3786"
             ],
             [
              0.5555555555555556,
              "#d8576b"
             ],
             [
              0.6666666666666666,
              "#ed7953"
             ],
             [
              0.7777777777777778,
              "#fb9f3a"
             ],
             [
              0.8888888888888888,
              "#fdca26"
             ],
             [
              1,
              "#f0f921"
             ]
            ],
            "type": "surface"
           }
          ],
          "table": [
           {
            "cells": {
             "fill": {
              "color": "#EBF0F8"
             },
             "line": {
              "color": "white"
             }
            },
            "header": {
             "fill": {
              "color": "#C8D4E3"
             },
             "line": {
              "color": "white"
             }
            },
            "type": "table"
           }
          ]
         },
         "layout": {
          "annotationdefaults": {
           "arrowcolor": "#2a3f5f",
           "arrowhead": 0,
           "arrowwidth": 1
          },
          "autotypenumbers": "strict",
          "coloraxis": {
           "colorbar": {
            "outlinewidth": 0,
            "ticks": ""
           }
          },
          "colorscale": {
           "diverging": [
            [
             0,
             "#8e0152"
            ],
            [
             0.1,
             "#c51b7d"
            ],
            [
             0.2,
             "#de77ae"
            ],
            [
             0.3,
             "#f1b6da"
            ],
            [
             0.4,
             "#fde0ef"
            ],
            [
             0.5,
             "#f7f7f7"
            ],
            [
             0.6,
             "#e6f5d0"
            ],
            [
             0.7,
             "#b8e186"
            ],
            [
             0.8,
             "#7fbc41"
            ],
            [
             0.9,
             "#4d9221"
            ],
            [
             1,
             "#276419"
            ]
           ],
           "sequential": [
            [
             0,
             "#0d0887"
            ],
            [
             0.1111111111111111,
             "#46039f"
            ],
            [
             0.2222222222222222,
             "#7201a8"
            ],
            [
             0.3333333333333333,
             "#9c179e"
            ],
            [
             0.4444444444444444,
             "#bd3786"
            ],
            [
             0.5555555555555556,
             "#d8576b"
            ],
            [
             0.6666666666666666,
             "#ed7953"
            ],
            [
             0.7777777777777778,
             "#fb9f3a"
            ],
            [
             0.8888888888888888,
             "#fdca26"
            ],
            [
             1,
             "#f0f921"
            ]
           ],
           "sequentialminus": [
            [
             0,
             "#0d0887"
            ],
            [
             0.1111111111111111,
             "#46039f"
            ],
            [
             0.2222222222222222,
             "#7201a8"
            ],
            [
             0.3333333333333333,
             "#9c179e"
            ],
            [
             0.4444444444444444,
             "#bd3786"
            ],
            [
             0.5555555555555556,
             "#d8576b"
            ],
            [
             0.6666666666666666,
             "#ed7953"
            ],
            [
             0.7777777777777778,
             "#fb9f3a"
            ],
            [
             0.8888888888888888,
             "#fdca26"
            ],
            [
             1,
             "#f0f921"
            ]
           ]
          },
          "colorway": [
           "#636efa",
           "#EF553B",
           "#00cc96",
           "#ab63fa",
           "#FFA15A",
           "#19d3f3",
           "#FF6692",
           "#B6E880",
           "#FF97FF",
           "#FECB52"
          ],
          "font": {
           "color": "#2a3f5f"
          },
          "geo": {
           "bgcolor": "white",
           "lakecolor": "white",
           "landcolor": "#E5ECF6",
           "showlakes": true,
           "showland": true,
           "subunitcolor": "white"
          },
          "hoverlabel": {
           "align": "left"
          },
          "hovermode": "closest",
          "mapbox": {
           "style": "light"
          },
          "paper_bgcolor": "white",
          "plot_bgcolor": "#E5ECF6",
          "polar": {
           "angularaxis": {
            "gridcolor": "white",
            "linecolor": "white",
            "ticks": ""
           },
           "bgcolor": "#E5ECF6",
           "radialaxis": {
            "gridcolor": "white",
            "linecolor": "white",
            "ticks": ""
           }
          },
          "scene": {
           "xaxis": {
            "backgroundcolor": "#E5ECF6",
            "gridcolor": "white",
            "gridwidth": 2,
            "linecolor": "white",
            "showbackground": true,
            "ticks": "",
            "zerolinecolor": "white"
           },
           "yaxis": {
            "backgroundcolor": "#E5ECF6",
            "gridcolor": "white",
            "gridwidth": 2,
            "linecolor": "white",
            "showbackground": true,
            "ticks": "",
            "zerolinecolor": "white"
           },
           "zaxis": {
            "backgroundcolor": "#E5ECF6",
            "gridcolor": "white",
            "gridwidth": 2,
            "linecolor": "white",
            "showbackground": true,
            "ticks": "",
            "zerolinecolor": "white"
           }
          },
          "shapedefaults": {
           "line": {
            "color": "#2a3f5f"
           }
          },
          "ternary": {
           "aaxis": {
            "gridcolor": "white",
            "linecolor": "white",
            "ticks": ""
           },
           "baxis": {
            "gridcolor": "white",
            "linecolor": "white",
            "ticks": ""
           },
           "bgcolor": "#E5ECF6",
           "caxis": {
            "gridcolor": "white",
            "linecolor": "white",
            "ticks": ""
           }
          },
          "title": {
           "x": 0.05
          },
          "xaxis": {
           "automargin": true,
           "gridcolor": "white",
           "linecolor": "white",
           "ticks": "",
           "title": {
            "standoff": 15
           },
           "zerolinecolor": "white",
           "zerolinewidth": 2
          },
          "yaxis": {
           "automargin": true,
           "gridcolor": "white",
           "linecolor": "white",
           "ticks": "",
           "title": {
            "standoff": 15
           },
           "zerolinecolor": "white",
           "zerolinewidth": 2
          }
         }
        },
        "title": {
         "text": "Factor Loadings",
         "x": 0.5
        }
       }
      },
      "image/png": "[encoded data removed]"
     },
     "metadata": {},
     "output_type": "display_data"
    }
   ],
   "source": [
    "#Fit Factor Analysis (Varimax rotation)\n",
    "fa_varimax = FactorAnalyzer(n_factors=3, rotation='varimax')\n",
    "fa_varimax.fit(data[num_cols])\n",
    "\n",
    "loadings = pd.DataFrame(\n",
    "    fa_varimax.loadings_,\n",
    "    index=num_cols,\n",
    "    columns=[f'Factor{i+1}' for i in range(3)]\n",
    ").round(2)\n",
    "\n",
    "fig= go.Figure()\n",
    "fig.add_trace(go.Table(\n",
    "    header=dict(\n",
    "        values=[\"Feature\"] + [f'Factore{i+1}' for i in range(3)],\n",
    "        fill_color='darkslategray',\n",
    "        font=dict(color='limegreen', size=13),\n",
    "        align='left'\n",
    "    ),\n",
    "    cells=dict(\n",
    "        values=[loadings.index] + [loadings[c] for c in loadings.columns],\n",
    "        fill_color='#1e1e1e',\n",
    "        font=dict(color='yellow', size=12),\n",
    "        align='left'\n",
    "    )\n",
    "))\n",
    "\n",
    "fig.update_layout(title='Factor Loadings', title_x=0.5)\n",
    "fig.show()"
   ]
  },
  {
   "cell_type": "code",
   "execution_count": 60,
   "id": "8a40a100-8542-44dd-93c7-78fc65427771",
   "metadata": {},
   "outputs": [
    {
     "data": {
      "text/html": [
       "<iframe\n",
       "    scrolling=\"no\"\n",
       "    width=\"100%\"\n",
       "    height=\"545px\"\n",
       "    src=\"iframe_figures/figure_60.html\"\n",
       "    frameborder=\"0\"\n",
       "    allowfullscreen\n",
       "></iframe>\n"
      ]
     },
     "metadata": {},
     "output_type": "display_data"
    }
   ],
   "source": [
    "#Communalities\n",
    "communalities = pd.DataFrame(fa_varimax.get_communalities(),\n",
    "                            index=num_cols, \n",
    "                            columns=['Communality']).round(2)\n",
    "\n",
    "fig = go.Figure()\n",
    "fig.add_trace(go.Table(\n",
    "    header=dict(\n",
    "        values=['Feature', 'Commuality'],\n",
    "        fill_color='darkslategray',\n",
    "        font=dict(color='limegreen', size=13),\n",
    "        align='left'\n",
    "    ),\n",
    "    cells=dict(\n",
    "        values=[communalities.index, communalities['Communality']],\n",
    "        fill_color='black',\n",
    "        font=dict(color='yellow', size=12),\n",
    "        align='left'\n",
    "    )\n",
    "))\n",
    "\n",
    "fig.update_layout(title='Communalities from Factor Analysis', template='plotly_dark',\n",
    "                  title_font_color='limegreen')\n",
    "fig.show(renderer='iframe')\n"
   ]
  },
  {
   "cell_type": "code",
   "execution_count": 65,
   "id": "0bcb722d-f384-4a62-9935-bb055bd0acd9",
   "metadata": {},
   "outputs": [
    {
     "data": {
      "text/html": [
       "<iframe\n",
       "    scrolling=\"no\"\n",
       "    width=\"100%\"\n",
       "    height=\"545px\"\n",
       "    src=\"iframe_figures/figure_65.html\"\n",
       "    frameborder=\"0\"\n",
       "    allowfullscreen\n",
       "></iframe>\n"
      ]
     },
     "metadata": {},
     "output_type": "display_data"
    }
   ],
   "source": [
    "# Variance explained by Factors\n",
    "variance = pd.DataFrame(\n",
    "    fa_varimax.get_factor_variance(),\n",
    "    index=['SS Loadings', 'Proportion Var', 'Cumulative Var'],\n",
    "    columns=[f'Factor{i+1}' for i in range(3)]\n",
    ").round(3)\n",
    "\n",
    "fig = go.Figure()\n",
    "fig.add_trace(go.Table(\n",
    "    header=dict(\n",
    "        values=['Metric'] + list(variance.columns),\n",
    "        fill_color='darkslategray',\n",
    "        font=dict(color='limegreen', size=13),\n",
    "        align='left'\n",
    "    ),\n",
    "    cells=dict(\n",
    "        values=[variance.index] + [variance[c] for c in variance.columns],\n",
    "        fill_color='black',\n",
    "        font=dict(color='yellow', size=12),\n",
    "        align='left'\n",
    "    )\n",
    "))\n",
    "\n",
    "fig.update_layout(\n",
    "    title='Variance Explained by Factors', \n",
    "    template='plotly_dark',\n",
    "    title_font_color='limegreen'\n",
    ")\n",
    "fig.show(renderer='iframe')"
   ]
  },
  {
   "cell_type": "markdown",
   "id": "743257b8-f253-49b3-b572-899fbc3cf847",
   "metadata": {},
   "source": [
    "### Factor Scores and Cluster"
   ]
  },
  {
   "cell_type": "code",
   "execution_count": 67,
   "id": "c913e036-e8c2-43bf-a2b9-648a4db0110c",
   "metadata": {},
   "outputs": [
    {
     "data": {
      "text/html": [
       "<iframe\n",
       "    scrolling=\"no\"\n",
       "    width=\"100%\"\n",
       "    height=\"545px\"\n",
       "    src=\"iframe_figures/figure_67.html\"\n",
       "    frameborder=\"0\"\n",
       "    allowfullscreen\n",
       "></iframe>\n"
      ]
     },
     "metadata": {},
     "output_type": "display_data"
    }
   ],
   "source": [
    "#Compute Factor Scores\n",
    "factor_scores = pd.DataFrame(\n",
    "    fa_varimax.transform(data[num_cols]),\n",
    "    columns=[f'Factor{i+1}' for i in range(3)]\n",
    ")\n",
    "df_final = pd.concat([data[['brand','model']], factor_scores], axis=1)\n",
    "\n",
    "#K-means clustering\n",
    "kmeans = KMeans(n_clusters=4, random_state=42, n_init=10)\n",
    "df_final['cluster'] = kmeans.fit_predict(factor_scores)\n",
    "\n",
    "cluster_labels = {\n",
    "    0: 'Performance EVs',\n",
    "    1: 'Family/Comfort EVs',\n",
    "    2: 'Utility EVs',\n",
    "    3: 'Economy EVs'\n",
    "}\n",
    "\n",
    "df_final['segment_label'] = df_final['cluster'].map(cluster_labels)\n",
    "\n",
    "#Scatter plot (Factor1 vs Factor2)\n",
    "fig = px.scatter(\n",
    "    df_final,\n",
    "    x='Factor1',\n",
    "    y='Factor2',\n",
    "    color='segment_label',\n",
    "    hover_data=['brand', 'model'],\n",
    "    title='EV Market Segments (Factor Scores + Clusters)',\n",
    "    color_discrete_sequence=px.colors.qualitative.Set2,\n",
    "    template='plotly_dark'\n",
    ")\n",
    "fig.update_layout(\n",
    "    title_font_color='limegreen',\n",
    "    plot_bgcolor='black',\n",
    "    paper_bgcolor='black',\n",
    "    font=dict(color='white')\n",
    ")\n",
    "fig.show(renderer='iframe')"
   ]
  },
  {
   "cell_type": "code",
   "execution_count": 70,
   "id": "77565ad0-5bfc-4a73-b083-0b0e853fe304",
   "metadata": {},
   "outputs": [
    {
     "data": {
      "text/html": [
       "<iframe\n",
       "    scrolling=\"no\"\n",
       "    width=\"100%\"\n",
       "    height=\"545px\"\n",
       "    src=\"iframe_figures/figure_70.html\"\n",
       "    frameborder=\"0\"\n",
       "    allowfullscreen\n",
       "></iframe>\n"
      ]
     },
     "metadata": {},
     "output_type": "display_data"
    }
   ],
   "source": [
    "#Cluster counts\n",
    "segment_counts = df_final['segment_label'].value_counts().sort_values(ascending=False)\n",
    "\n",
    "fig = go.Figure()\n",
    "fig.add_trace(go.Bar(\n",
    "    x=segment_counts.index,\n",
    "    y=segment_counts.values,\n",
    "    marker=dict(color='yellow'),\n",
    "    text=segment_counts.values,\n",
    "    textposition='outside'\n",
    "))\n",
    "\n",
    "fig.update_layout(\n",
    "    title='Number of EVs per Cluster Segment',\n",
    "    template='plotly_dark',\n",
    "    title_font_color='limegreen',\n",
    "    plot_bgcolor='black',\n",
    "    paper_bgcolor='black',\n",
    "    font=dict(color='white')\n",
    ")\n",
    "fig.show(renderer='iframe')"
   ]
  },
  {
   "cell_type": "code",
   "execution_count": 73,
   "id": "66274efb-7c49-444e-9631-91b34079248d",
   "metadata": {},
   "outputs": [
    {
     "data": {
      "text/html": [
       "<iframe\n",
       "    scrolling=\"no\"\n",
       "    width=\"100%\"\n",
       "    height=\"545px\"\n",
       "    src=\"iframe_figures/figure_73.html\"\n",
       "    frameborder=\"0\"\n",
       "    allowfullscreen\n",
       "></iframe>\n"
      ]
     },
     "metadata": {},
     "output_type": "display_data"
    }
   ],
   "source": [
    "#t-SNE projection (visualize cluster separability)\n",
    "\n",
    "X_embedded = TSNE(\n",
    "    n_components=2,\n",
    "    random_state=42\n",
    ").fit_transform(factor_scores)\n",
    "df_final['tsne_1'], df_final['tsne_2'] = X_embedded[:,0], X_embedded[:,1]\n",
    "\n",
    "fig=px.scatter(\n",
    "    df_final,\n",
    "    x='tsne_1',\n",
    "    y='tsne_2',\n",
    "    color='segment_label',\n",
    "    hover_data=['brand', 'model'],\n",
    "    title='t-SNE Projection of EV Clusters',\n",
    "    color_discrete_sequence=px.colors.qualitative.Set2,\n",
    "    template='plotly_dark'\n",
    ")\n",
    "fig.update_layout(\n",
    "    title_font_color='limegreen',\n",
    "    plot_bgcolor='black',\n",
    "    paper_bgcolor='black',\n",
    "    font=dict(color='white')\n",
    ")\n",
    "fig.show(renderer='iframe')"
   ]
  },
  {
   "cell_type": "markdown",
   "id": "c57a11ad-52ed-40cf-a625-b570306dda8a",
   "metadata": {},
   "source": [
    "`Notes`:\n",
    "- The clusters appear clearly separated, indicating a strong underlying latent structure in the data.\n",
    "- The “Performance” and “Economy” clusters show high internal cohesion, suggesting these groups are well-defined.\n",
    "- In contrast, Utility EVs display greater variability, implying this segment covers a wider range of characteristics.\n",
    "- The minimal overlap between clusters highlights the strong discriminative ability of the extracted factors."
   ]
  },
  {
   "cell_type": "code",
   "execution_count": null,
   "id": "7fa47c0e-e9f3-49f9-a9b7-510c386f5ec2",
   "metadata": {},
   "outputs": [],
   "source": []
  }
 ],
 "metadata": {
  "kernelspec": {
   "display_name": "Python (tf_env)",
   "language": "python",
   "name": "tf_env"
  },
  "language_info": {
   "codemirror_mode": {
    "name": "ipython",
    "version": 3
   },
   "file_extension": ".py",
   "mimetype": "text/x-python",
   "name": "python",
   "nbconvert_exporter": "python",
   "pygments_lexer": "ipython3",
   "version": "3.10.14"
  }
 },
 "nbformat": 4,
 "nbformat_minor": 5
}
